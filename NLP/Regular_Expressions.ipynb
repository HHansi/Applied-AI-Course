{
  "nbformat": 4,
  "nbformat_minor": 0,
  "metadata": {
    "colab": {
      "provenance": [],
      "toc_visible": true,
      "include_colab_link": true
    },
    "kernelspec": {
      "name": "python3",
      "display_name": "Python 3"
    }
  },
  "cells": [
    {
      "cell_type": "markdown",
      "metadata": {
        "id": "view-in-github",
        "colab_type": "text"
      },
      "source": [
        "<a href=\"https://colab.research.google.com/github/HHansi/Applied-AI-Course/blob/main/NLP/Regular_Expressions.ipynb\" target=\"_parent\"><img src=\"https://colab.research.google.com/assets/colab-badge.svg\" alt=\"Open In Colab\"/></a>"
      ]
    },
    {
      "cell_type": "markdown",
      "metadata": {
        "id": "TkRDyKYjbTPM"
      },
      "source": [
        "<h1>Regular Expressions</h1>\n",
        "\n",
        "A regular expression is a special sequence of characters that helps you match other strings, using a specialised syntax held in a pattern. \n"
      ]
    },
    {
      "cell_type": "markdown",
      "metadata": {
        "id": "0p6Tq5d7cQIp"
      },
      "source": [
        "To use regular expressions in Python you need to import <i>re</i> module. \n",
        "\n",
        "[re — Regular expression operations documentation](https://docs.python.org/3/library/re.html)"
      ]
    },
    {
      "cell_type": "code",
      "metadata": {
        "id": "U_z5SiKhcD1I"
      },
      "source": [
        "import re"
      ],
      "execution_count": null,
      "outputs": []
    },
    {
      "cell_type": "markdown",
      "metadata": {
        "id": "QERtyUzclSNr"
      },
      "source": [
        "# Functions and descriptions\n",
        "- match - Return a Match object if characters at the beginning of string match the regular expression\n",
        "- fullmatch - Return a Match object if the whole string matches the regular expression\n",
        "- search - Return a Match object corresponding to the first match.\n",
        "- findall - Return a list containing all matches.\n",
        "- sub - Replaces one or more matches with the given string\n",
        "- split - Returns a list where the string has been split at each match"
      ]
    },
    {
      "cell_type": "markdown",
      "source": [
        "## Two Methods"
      ],
      "metadata": {
        "id": "4WBwf_0Xdorv"
      }
    },
    {
      "cell_type": "code",
      "source": [
        "text = \"abc.\""
      ],
      "metadata": {
        "id": "EWDyLlA-fXzO"
      },
      "execution_count": null,
      "outputs": []
    },
    {
      "cell_type": "code",
      "source": [
        "pattern = \"...\\.\"  # define the pattern of regular expression\n",
        "\n",
        "x = re.match(pattern, text)\n",
        "print(x)"
      ],
      "metadata": {
        "colab": {
          "base_uri": "https://localhost:8080/"
        },
        "id": "K846g870eod5",
        "outputId": "3e173e73-aea1-4e5b-ad59-7bcbb09b40dd"
      },
      "execution_count": null,
      "outputs": [
        {
          "output_type": "stream",
          "name": "stdout",
          "text": [
            "<re.Match object; span=(0, 4), match='abc.'>\n"
          ]
        }
      ]
    },
    {
      "cell_type": "markdown",
      "source": [
        "The same example with more efficient code:"
      ],
      "metadata": {
        "id": "hIh_xB_HczvS"
      }
    },
    {
      "cell_type": "code",
      "source": [
        "pattern = \"...\\.\"  # define the pattern of regular expression\n",
        "pat = re.compile(pattern) # compile pattern into regular expression object\n",
        "\n",
        "x = pat.match(text)\n",
        "print(x)"
      ],
      "metadata": {
        "colab": {
          "base_uri": "https://localhost:8080/"
        },
        "id": "6BHhKmLCcRad",
        "outputId": "9de9e606-2855-497f-9c69-9444c818a597"
      },
      "execution_count": null,
      "outputs": [
        {
          "output_type": "stream",
          "name": "stdout",
          "text": [
            "<re.Match object; span=(0, 4), match='abc.'>\n"
          ]
        }
      ]
    },
    {
      "cell_type": "markdown",
      "source": [
        "**Note:** Using re.compile() and saving the resulting regular expression object for reuse is more efficient when the expression will be used several times in a single program."
      ],
      "metadata": {
        "id": "zwtopumrdCaZ"
      }
    },
    {
      "cell_type": "markdown",
      "source": [
        "## Examples"
      ],
      "metadata": {
        "id": "Xz3ZiZB6eK_v"
      }
    },
    {
      "cell_type": "markdown",
      "source": [
        "### Simple Pattern"
      ],
      "metadata": {
        "id": "i5ipsNvz7kTR"
      }
    },
    {
      "cell_type": "code",
      "source": [
        "text = \"abc.\"\n",
        "\n",
        "pattern = \"...\\.\"  # define the pattern of regular expression\n",
        "pat = re.compile(pattern) # compile pattern into regular expression object\n",
        "\n",
        "x = pat.match(text)\n",
        "print(f'match output: {x}\\n')\n",
        "\n",
        "x = pat.fullmatch(text)\n",
        "print(f'fullmatch output: {x}\\n')\n",
        "\n",
        "x = pat.search(text)\n",
        "print(f'search output: {x}\\n')\n",
        "\n",
        "x = pat.findall(text)\n",
        "print(f'findall output: {x}\\n')\n",
        "\n",
        "x = pat.sub(\"PERCENTAGE\", text) # For sub, we need to input a string as a replacement for the matches in addition to the original text.\n",
        "print(f'sub output: {x}\\n')\n",
        "\n",
        "x = pat.split(text)\n",
        "print(f'split output: {x}\\n')"
      ],
      "metadata": {
        "colab": {
          "base_uri": "https://localhost:8080/"
        },
        "id": "8M3cpoThZZ-e",
        "outputId": "c9a2369c-e97b-419a-e3fc-3e555bd38787"
      },
      "execution_count": null,
      "outputs": [
        {
          "output_type": "stream",
          "name": "stdout",
          "text": [
            "match output: <re.Match object; span=(0, 4), match='abc.'>\n",
            "\n",
            "fullmatch output: None\n",
            "\n",
            "search output: <re.Match object; span=(0, 4), match='abc.'>\n",
            "\n",
            "findall output: ['abc.']\n",
            "\n",
            "sub output: PERCENTAGE def\n",
            "\n",
            "split output: ['', ' def']\n",
            "\n"
          ]
        }
      ]
    },
    {
      "cell_type": "markdown",
      "source": [
        "### Percentages"
      ],
      "metadata": {
        "id": "u4BIP9x77nU9"
      }
    },
    {
      "cell_type": "code",
      "source": [
        "pattern = \"\\d+\\.?\\d*%\"  # pattern to match percentages (e.g. 8.7%, 2.4%, 20%)\n",
        "pat = re.compile(pattern)"
      ],
      "metadata": {
        "id": "1cwcipS57uUL"
      },
      "execution_count": null,
      "outputs": []
    },
    {
      "cell_type": "code",
      "source": [
        "text = \"Monthly GDP grew by 8.7% in June 2020 as lockdown measures eased, following upwardly revised growth of 2.4% in May and a record fall of 20% in April 2020.\"\n",
        "\n",
        "x = pat.match(text)\n",
        "print(f'match output: {x}\\n')\n",
        "\n",
        "x = pat.fullmatch(text)\n",
        "print(f'fullmatch output: {x}\\n')\n",
        "\n",
        "x = pat.search(text)\n",
        "print(f'search output: {x}\\n')\n",
        "\n",
        "x = pat.findall(text)\n",
        "print(f'findall output: {x}\\n')\n",
        "\n",
        "x = pat.sub(\"PERCENTAGE\", text) # For sub, we need to input a string as a replacement for the matches in addition to the original text.\n",
        "print(f'sub output: {x}\\n')\n",
        "\n",
        "x = pat.split(text)\n",
        "print(f'split output: {x}\\n')"
      ],
      "metadata": {
        "colab": {
          "base_uri": "https://localhost:8080/"
        },
        "id": "1oarLbfp7Ta_",
        "outputId": "77e68777-e121-4662-88c6-9c3729bdcdeb"
      },
      "execution_count": null,
      "outputs": [
        {
          "output_type": "stream",
          "name": "stdout",
          "text": [
            "match output: None\n",
            "\n",
            "fullmatch output: None\n",
            "\n",
            "search output: <re.Match object; span=(20, 24), match='8.7%'>\n",
            "\n",
            "findall output: ['8.7%', '2.4%', '20%']\n",
            "\n",
            "sub output: Monthly GDP grew by PERCENTAGE in June 2020 as lockdown measures eased, following upwardly revised growth of PERCENTAGE in May and a record fall of PERCENTAGE in April 2020.\n",
            "\n",
            "split output: ['Monthly GDP grew by ', ' in June 2020 as lockdown measures eased, following upwardly revised growth of ', ' in May and a record fall of ', ' in April 2020.']\n",
            "\n"
          ]
        }
      ]
    },
    {
      "cell_type": "markdown",
      "metadata": {
        "id": "d_jClj88TBsh"
      },
      "source": [
        "<b>Exercise 1</b> <br>\n",
        "Remove links in the following tweets using regular expressions."
      ]
    },
    {
      "cell_type": "code",
      "metadata": {
        "id": "DzRUEZoVTNZ6"
      },
      "source": [
        "tweets = [\"This is a much better tool than some I have come across http://www.tweepular.com\",\n",
        "          \"says Finally, Im home.  http://plurk.com/p/rr121\",\n",
        "          \"http://twitpic.com/66xlm -  hate when my PARKED car gets hit\",\n",
        "          \"I want it BACK NOW!: http://bit.ly/PP1WZ\",\n",
        "          \"https://t.co/OAsMV2N3oZ HALFTIME WATCH\"]"
      ],
      "execution_count": null,
      "outputs": []
    }
  ]
}