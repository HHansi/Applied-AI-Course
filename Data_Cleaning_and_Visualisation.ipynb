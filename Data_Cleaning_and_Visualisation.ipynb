{
  "nbformat": 4,
  "nbformat_minor": 0,
  "metadata": {
    "colab": {
      "name": "Data Cleaning and Visualisation.ipynb",
      "provenance": [],
      "toc_visible": true,
      "authorship_tag": "ABX9TyOdSOG/9gLB/drOdcagO4SF",
      "include_colab_link": true
    },
    "kernelspec": {
      "name": "python3",
      "display_name": "Python 3"
    },
    "language_info": {
      "name": "python"
    }
  },
  "cells": [
    {
      "cell_type": "markdown",
      "metadata": {
        "id": "view-in-github",
        "colab_type": "text"
      },
      "source": [
        "<a href=\"https://colab.research.google.com/github/HHansi/Applied-AI-Course/blob/main/Data_Cleaning_and_Visualisation.ipynb\" target=\"_parent\"><img src=\"https://colab.research.google.com/assets/colab-badge.svg\" alt=\"Open In Colab\"/></a>"
      ]
    },
    {
      "cell_type": "markdown",
      "metadata": {
        "id": "vQikltBsLGLL"
      },
      "source": [
        "# Problem\n",
        "\n",
        "**Can we predict the type of the house or its floor area, knowing the number of family members and income?**\n",
        "\n",
        "Before considering how machine learning can be used to solve this problem, let's be familiar with the available data set."
      ]
    },
    {
      "cell_type": "code",
      "metadata": {
        "id": "Y1jdsPZ2vagA"
      },
      "source": [
        "# Import libraries\n",
        "import pandas as pd"
      ],
      "execution_count": 1,
      "outputs": []
    },
    {
      "cell_type": "markdown",
      "source": [
        "# Load Data"
      ],
      "metadata": {
        "id": "LoDHFt4x4bFo"
      }
    },
    {
      "cell_type": "code",
      "source": [
        "'''\n",
        "Load the data set\n",
        "Pandas read_csv() function reads a comma-separated values (csv) file into DataFrame.\n",
        "As the parameter, the file path should be provided. Additionally, GitHub URL can also be provided as follows.\n",
        "'''\n",
        "df = pd.read_csv(\"https://raw.githubusercontent.com/HHansi/Machine-Learning-CPD-Course/main/Data/home_data.csv\")\n",
        "df.head(5)  # see first 5 rows of the DataFrame"
      ],
      "metadata": {
        "colab": {
          "base_uri": "https://localhost:8080/",
          "height": 206
        },
        "id": "-pdJzChHgmAI",
        "outputId": "668d17e8-1d22-4549-bb6f-193e30ba2740"
      },
      "execution_count": 25,
      "outputs": [
        {
          "output_type": "execute_result",
          "data": {
            "text/html": [
              "<div>\n",
              "<style scoped>\n",
              "    .dataframe tbody tr th:only-of-type {\n",
              "        vertical-align: middle;\n",
              "    }\n",
              "\n",
              "    .dataframe tbody tr th {\n",
              "        vertical-align: top;\n",
              "    }\n",
              "\n",
              "    .dataframe thead th {\n",
              "        text-align: right;\n",
              "    }\n",
              "</style>\n",
              "<table border=\"1\" class=\"dataframe\">\n",
              "  <thead>\n",
              "    <tr style=\"text-align: right;\">\n",
              "      <th></th>\n",
              "      <th>homeid</th>\n",
              "      <th>install_type</th>\n",
              "      <th>location</th>\n",
              "      <th>residents</th>\n",
              "      <th>income_band</th>\n",
              "      <th>hometype</th>\n",
              "      <th>floorarea</th>\n",
              "    </tr>\n",
              "  </thead>\n",
              "  <tbody>\n",
              "    <tr>\n",
              "      <th>0</th>\n",
              "      <td>47</td>\n",
              "      <td>standard</td>\n",
              "      <td>Edinburgh</td>\n",
              "      <td>2</td>\n",
              "      <td>NaN</td>\n",
              "      <td>flat</td>\n",
              "      <td>427</td>\n",
              "    </tr>\n",
              "    <tr>\n",
              "      <th>1</th>\n",
              "      <td>59</td>\n",
              "      <td>standard</td>\n",
              "      <td>Edinburgh</td>\n",
              "      <td>2</td>\n",
              "      <td>£90,000 or more</td>\n",
              "      <td>flat</td>\n",
              "      <td>760</td>\n",
              "    </tr>\n",
              "    <tr>\n",
              "      <th>2</th>\n",
              "      <td>61</td>\n",
              "      <td>enhanced</td>\n",
              "      <td>Edinburgh</td>\n",
              "      <td>2</td>\n",
              "      <td>£48,600 to £53,999</td>\n",
              "      <td>house_or_bungalow</td>\n",
              "      <td>685</td>\n",
              "    </tr>\n",
              "    <tr>\n",
              "      <th>3</th>\n",
              "      <td>62</td>\n",
              "      <td>enhanced</td>\n",
              "      <td>Edinburgh</td>\n",
              "      <td>2</td>\n",
              "      <td>£43,200 to £48,599</td>\n",
              "      <td>flat</td>\n",
              "      <td>815</td>\n",
              "    </tr>\n",
              "    <tr>\n",
              "      <th>4</th>\n",
              "      <td>64</td>\n",
              "      <td>standard</td>\n",
              "      <td>Edinburgh</td>\n",
              "      <td>4</td>\n",
              "      <td>£66,000 to £77,999</td>\n",
              "      <td>flat</td>\n",
              "      <td>650</td>\n",
              "    </tr>\n",
              "  </tbody>\n",
              "</table>\n",
              "</div>"
            ],
            "text/plain": [
              "   homeid install_type  ...           hometype  floorarea\n",
              "0      47     standard  ...               flat        427\n",
              "1      59     standard  ...               flat        760\n",
              "2      61     enhanced  ...  house_or_bungalow        685\n",
              "3      62     enhanced  ...               flat        815\n",
              "4      64     standard  ...               flat        650\n",
              "\n",
              "[5 rows x 7 columns]"
            ]
          },
          "metadata": {},
          "execution_count": 25
        }
      ]
    },
    {
      "cell_type": "markdown",
      "metadata": {
        "id": "RG7OGfJlwIA4"
      },
      "source": [
        "## Description of the Data Set\n",
        "As can be seen in the above output (first 5 rows of the data set), this data set consists of 7 columns describing different household compositions with the space.\n",
        "\n",
        "\n",
        "*   homeid - unique id assigned to each home\n",
        "*   install_type - home installation type\n",
        "*   location - home location\n",
        "*   residents - number of residents in the home\n",
        "*   income_band - income of the residents formatted into a set of categories/bands\n",
        "*   hometype - type of the home\n",
        "*   floorarea - total floor area of the home covering all rooms\n",
        "\n",
        "\n",
        "(This data set is taken from [IDEAL Household Energy Dataset](https://datashare.ed.ac.uk/handle/10283/3647).)"
      ]
    },
    {
      "cell_type": "code",
      "metadata": {
        "colab": {
          "base_uri": "https://localhost:8080/"
        },
        "id": "rEoMdYhRy8a1",
        "outputId": "6d4fc748-8ba6-426f-a728-34d29349ef97"
      },
      "source": [
        "'''\n",
        "Print a concise summary of a DataFrame.\n",
        "Pandas info() function prints information about a DataFrame including the index dtype and columns, non-null values and memory usage.\n",
        "'''\n",
        "df.info()"
      ],
      "execution_count": 26,
      "outputs": [
        {
          "output_type": "stream",
          "name": "stdout",
          "text": [
            "<class 'pandas.core.frame.DataFrame'>\n",
            "RangeIndex: 255 entries, 0 to 254\n",
            "Data columns (total 7 columns):\n",
            " #   Column        Non-Null Count  Dtype \n",
            "---  ------        --------------  ----- \n",
            " 0   homeid        255 non-null    int64 \n",
            " 1   install_type  255 non-null    object\n",
            " 2   location      255 non-null    object\n",
            " 3   residents     255 non-null    int64 \n",
            " 4   income_band   245 non-null    object\n",
            " 5   hometype      255 non-null    object\n",
            " 6   floorarea     255 non-null    int64 \n",
            "dtypes: int64(3), object(4)\n",
            "memory usage: 14.1+ KB\n"
          ]
        }
      ]
    },
    {
      "cell_type": "code",
      "metadata": {
        "colab": {
          "base_uri": "https://localhost:8080/"
        },
        "id": "O12FzSxTHwy2",
        "outputId": "6d3ff16b-2d0b-4f38-a485-09bc5f696ee0"
      },
      "source": [
        "# Get number of rows and columns\n",
        "df.shape"
      ],
      "execution_count": 27,
      "outputs": [
        {
          "output_type": "execute_result",
          "data": {
            "text/plain": [
              "(255, 7)"
            ]
          },
          "metadata": {},
          "execution_count": 27
        }
      ]
    },
    {
      "cell_type": "code",
      "source": [
        "'''\n",
        "Print a statistical summary of a DataFrame.\n",
        "Pandas describe() function generates descriptive statistics.\n",
        "'''\n",
        "df.describe()"
      ],
      "metadata": {
        "colab": {
          "base_uri": "https://localhost:8080/",
          "height": 300
        },
        "id": "nKG_zeCX4zvL",
        "outputId": "a2e1a5d0-a756-449f-911d-31c07c77ff04"
      },
      "execution_count": 28,
      "outputs": [
        {
          "output_type": "execute_result",
          "data": {
            "text/html": [
              "<div>\n",
              "<style scoped>\n",
              "    .dataframe tbody tr th:only-of-type {\n",
              "        vertical-align: middle;\n",
              "    }\n",
              "\n",
              "    .dataframe tbody tr th {\n",
              "        vertical-align: top;\n",
              "    }\n",
              "\n",
              "    .dataframe thead th {\n",
              "        text-align: right;\n",
              "    }\n",
              "</style>\n",
              "<table border=\"1\" class=\"dataframe\">\n",
              "  <thead>\n",
              "    <tr style=\"text-align: right;\">\n",
              "      <th></th>\n",
              "      <th>homeid</th>\n",
              "      <th>residents</th>\n",
              "      <th>floorarea</th>\n",
              "    </tr>\n",
              "  </thead>\n",
              "  <tbody>\n",
              "    <tr>\n",
              "      <th>count</th>\n",
              "      <td>255.000000</td>\n",
              "      <td>255.000000</td>\n",
              "      <td>255.000000</td>\n",
              "    </tr>\n",
              "    <tr>\n",
              "      <th>mean</th>\n",
              "      <td>198.901961</td>\n",
              "      <td>2.443137</td>\n",
              "      <td>848.360784</td>\n",
              "    </tr>\n",
              "    <tr>\n",
              "      <th>std</th>\n",
              "      <td>80.249918</td>\n",
              "      <td>1.137973</td>\n",
              "      <td>291.104459</td>\n",
              "    </tr>\n",
              "    <tr>\n",
              "      <th>min</th>\n",
              "      <td>47.000000</td>\n",
              "      <td>0.000000</td>\n",
              "      <td>325.000000</td>\n",
              "    </tr>\n",
              "    <tr>\n",
              "      <th>25%</th>\n",
              "      <td>133.500000</td>\n",
              "      <td>2.000000</td>\n",
              "      <td>645.000000</td>\n",
              "    </tr>\n",
              "    <tr>\n",
              "      <th>50%</th>\n",
              "      <td>201.000000</td>\n",
              "      <td>2.000000</td>\n",
              "      <td>805.000000</td>\n",
              "    </tr>\n",
              "    <tr>\n",
              "      <th>75%</th>\n",
              "      <td>267.500000</td>\n",
              "      <td>3.000000</td>\n",
              "      <td>1007.500000</td>\n",
              "    </tr>\n",
              "    <tr>\n",
              "      <th>max</th>\n",
              "      <td>335.000000</td>\n",
              "      <td>5.000000</td>\n",
              "      <td>1865.000000</td>\n",
              "    </tr>\n",
              "  </tbody>\n",
              "</table>\n",
              "</div>"
            ],
            "text/plain": [
              "           homeid   residents    floorarea\n",
              "count  255.000000  255.000000   255.000000\n",
              "mean   198.901961    2.443137   848.360784\n",
              "std     80.249918    1.137973   291.104459\n",
              "min     47.000000    0.000000   325.000000\n",
              "25%    133.500000    2.000000   645.000000\n",
              "50%    201.000000    2.000000   805.000000\n",
              "75%    267.500000    3.000000  1007.500000\n",
              "max    335.000000    5.000000  1865.000000"
            ]
          },
          "metadata": {},
          "execution_count": 28
        }
      ]
    },
    {
      "cell_type": "code",
      "metadata": {
        "colab": {
          "base_uri": "https://localhost:8080/"
        },
        "id": "2FLdgOykIHx9",
        "outputId": "3789d556-5c31-41ff-db4f-adf612c23e86"
      },
      "source": [
        "# Get number of unique values in each column\n",
        "df.nunique()"
      ],
      "execution_count": 29,
      "outputs": [
        {
          "output_type": "execute_result",
          "data": {
            "text/plain": [
              "homeid          255\n",
              "install_type      2\n",
              "location          5\n",
              "residents         6\n",
              "income_band      15\n",
              "hometype          2\n",
              "floorarea       147\n",
              "dtype: int64"
            ]
          },
          "metadata": {},
          "execution_count": 29
        }
      ]
    },
    {
      "cell_type": "code",
      "metadata": {
        "colab": {
          "base_uri": "https://localhost:8080/"
        },
        "id": "joO0CFNnIjpE",
        "outputId": "d198eb9e-fcb0-4bec-996b-8377ccbf3ecd"
      },
      "source": [
        "# Find if the data set contains Null/NaN values\n",
        "df.isna().sum()"
      ],
      "execution_count": 30,
      "outputs": [
        {
          "output_type": "execute_result",
          "data": {
            "text/plain": [
              "homeid           0\n",
              "install_type     0\n",
              "location         0\n",
              "residents        0\n",
              "income_band     10\n",
              "hometype         0\n",
              "floorarea        0\n",
              "dtype: int64"
            ]
          },
          "metadata": {},
          "execution_count": 30
        }
      ]
    },
    {
      "cell_type": "markdown",
      "metadata": {
        "id": "5fFBlkoSMfdA"
      },
      "source": [
        "# Data Cleaning\n",
        "\n",
        "The above output shows that the data set has null/ missing values which we need to remove during the cleaning process. Before that, let's remove additional columns in the DataFrame which are not useful for the targeted problem to simplyfy the DataFrame.\n"
      ]
    },
    {
      "cell_type": "code",
      "source": [
        "'''\n",
        "Remove columns installation_type and location from the DataFrame. \n",
        "Pandas drop() function removes specified labels from rows or columns.\n",
        "'''\n",
        "filtered_df = df.drop(['install_type', 'location'], axis=1) \n",
        "filtered_df.head(5)"
      ],
      "metadata": {
        "colab": {
          "base_uri": "https://localhost:8080/",
          "height": 206
        },
        "id": "eXK3eRNM6scc",
        "outputId": "db21cd99-328e-444a-e62d-48a4f82ac338"
      },
      "execution_count": 31,
      "outputs": [
        {
          "output_type": "execute_result",
          "data": {
            "text/html": [
              "<div>\n",
              "<style scoped>\n",
              "    .dataframe tbody tr th:only-of-type {\n",
              "        vertical-align: middle;\n",
              "    }\n",
              "\n",
              "    .dataframe tbody tr th {\n",
              "        vertical-align: top;\n",
              "    }\n",
              "\n",
              "    .dataframe thead th {\n",
              "        text-align: right;\n",
              "    }\n",
              "</style>\n",
              "<table border=\"1\" class=\"dataframe\">\n",
              "  <thead>\n",
              "    <tr style=\"text-align: right;\">\n",
              "      <th></th>\n",
              "      <th>homeid</th>\n",
              "      <th>residents</th>\n",
              "      <th>income_band</th>\n",
              "      <th>hometype</th>\n",
              "      <th>floorarea</th>\n",
              "    </tr>\n",
              "  </thead>\n",
              "  <tbody>\n",
              "    <tr>\n",
              "      <th>0</th>\n",
              "      <td>47</td>\n",
              "      <td>2</td>\n",
              "      <td>NaN</td>\n",
              "      <td>flat</td>\n",
              "      <td>427</td>\n",
              "    </tr>\n",
              "    <tr>\n",
              "      <th>1</th>\n",
              "      <td>59</td>\n",
              "      <td>2</td>\n",
              "      <td>£90,000 or more</td>\n",
              "      <td>flat</td>\n",
              "      <td>760</td>\n",
              "    </tr>\n",
              "    <tr>\n",
              "      <th>2</th>\n",
              "      <td>61</td>\n",
              "      <td>2</td>\n",
              "      <td>£48,600 to £53,999</td>\n",
              "      <td>house_or_bungalow</td>\n",
              "      <td>685</td>\n",
              "    </tr>\n",
              "    <tr>\n",
              "      <th>3</th>\n",
              "      <td>62</td>\n",
              "      <td>2</td>\n",
              "      <td>£43,200 to £48,599</td>\n",
              "      <td>flat</td>\n",
              "      <td>815</td>\n",
              "    </tr>\n",
              "    <tr>\n",
              "      <th>4</th>\n",
              "      <td>64</td>\n",
              "      <td>4</td>\n",
              "      <td>£66,000 to £77,999</td>\n",
              "      <td>flat</td>\n",
              "      <td>650</td>\n",
              "    </tr>\n",
              "  </tbody>\n",
              "</table>\n",
              "</div>"
            ],
            "text/plain": [
              "   homeid  residents         income_band           hometype  floorarea\n",
              "0      47          2                 NaN               flat        427\n",
              "1      59          2     £90,000 or more               flat        760\n",
              "2      61          2  £48,600 to £53,999  house_or_bungalow        685\n",
              "3      62          2  £43,200 to £48,599               flat        815\n",
              "4      64          4  £66,000 to £77,999               flat        650"
            ]
          },
          "metadata": {},
          "execution_count": 31
        }
      ]
    },
    {
      "cell_type": "markdown",
      "source": [
        "Same result can also be achieved by selecting the required columns. "
      ],
      "metadata": {
        "id": "DEiKO8IW7GcB"
      }
    },
    {
      "cell_type": "code",
      "source": [
        "# Select columns homeid, residents, income_band, hometype and floorarea from the DataFrame. \n",
        "filtered_df2 = df[['homeid', 'residents', 'income_band', 'hometype', 'floorarea']]\n",
        "filtered_df2.head(5)"
      ],
      "metadata": {
        "colab": {
          "base_uri": "https://localhost:8080/",
          "height": 206
        },
        "id": "tD_8UZqP7R3Z",
        "outputId": "71620b19-4c0a-479b-d5d4-a777fa317533"
      },
      "execution_count": 32,
      "outputs": [
        {
          "output_type": "execute_result",
          "data": {
            "text/html": [
              "<div>\n",
              "<style scoped>\n",
              "    .dataframe tbody tr th:only-of-type {\n",
              "        vertical-align: middle;\n",
              "    }\n",
              "\n",
              "    .dataframe tbody tr th {\n",
              "        vertical-align: top;\n",
              "    }\n",
              "\n",
              "    .dataframe thead th {\n",
              "        text-align: right;\n",
              "    }\n",
              "</style>\n",
              "<table border=\"1\" class=\"dataframe\">\n",
              "  <thead>\n",
              "    <tr style=\"text-align: right;\">\n",
              "      <th></th>\n",
              "      <th>homeid</th>\n",
              "      <th>residents</th>\n",
              "      <th>income_band</th>\n",
              "      <th>hometype</th>\n",
              "      <th>floorarea</th>\n",
              "    </tr>\n",
              "  </thead>\n",
              "  <tbody>\n",
              "    <tr>\n",
              "      <th>0</th>\n",
              "      <td>47</td>\n",
              "      <td>2</td>\n",
              "      <td>NaN</td>\n",
              "      <td>flat</td>\n",
              "      <td>427</td>\n",
              "    </tr>\n",
              "    <tr>\n",
              "      <th>1</th>\n",
              "      <td>59</td>\n",
              "      <td>2</td>\n",
              "      <td>£90,000 or more</td>\n",
              "      <td>flat</td>\n",
              "      <td>760</td>\n",
              "    </tr>\n",
              "    <tr>\n",
              "      <th>2</th>\n",
              "      <td>61</td>\n",
              "      <td>2</td>\n",
              "      <td>£48,600 to £53,999</td>\n",
              "      <td>house_or_bungalow</td>\n",
              "      <td>685</td>\n",
              "    </tr>\n",
              "    <tr>\n",
              "      <th>3</th>\n",
              "      <td>62</td>\n",
              "      <td>2</td>\n",
              "      <td>£43,200 to £48,599</td>\n",
              "      <td>flat</td>\n",
              "      <td>815</td>\n",
              "    </tr>\n",
              "    <tr>\n",
              "      <th>4</th>\n",
              "      <td>64</td>\n",
              "      <td>4</td>\n",
              "      <td>£66,000 to £77,999</td>\n",
              "      <td>flat</td>\n",
              "      <td>650</td>\n",
              "    </tr>\n",
              "  </tbody>\n",
              "</table>\n",
              "</div>"
            ],
            "text/plain": [
              "   homeid  residents         income_band           hometype  floorarea\n",
              "0      47          2                 NaN               flat        427\n",
              "1      59          2     £90,000 or more               flat        760\n",
              "2      61          2  £48,600 to £53,999  house_or_bungalow        685\n",
              "3      62          2  £43,200 to £48,599               flat        815\n",
              "4      64          4  £66,000 to £77,999               flat        650"
            ]
          },
          "metadata": {},
          "execution_count": 32
        }
      ]
    },
    {
      "cell_type": "code",
      "metadata": {
        "colab": {
          "base_uri": "https://localhost:8080/"
        },
        "id": "DiG1YTuqIthD",
        "outputId": "155186c0-526d-4fe2-ab8b-6b0f8351cc45"
      },
      "source": [
        "'''\n",
        "Remove all missing values in the DataFrame. \n",
        "Pandas dropna() function removes rows and columns with Null/NaN values.\n",
        "'''\n",
        "cleaned_df = filtered_df.dropna()\n",
        "print(cleaned_df.shape)\n",
        "\n",
        "# Verify whether the cleaned output contains any null values\n",
        "cleaned_df.isna().sum()"
      ],
      "execution_count": 44,
      "outputs": [
        {
          "output_type": "stream",
          "name": "stdout",
          "text": [
            "(245, 5)\n"
          ]
        },
        {
          "output_type": "execute_result",
          "data": {
            "text/plain": [
              "homeid         0\n",
              "residents      0\n",
              "income_band    0\n",
              "hometype       0\n",
              "floorarea      0\n",
              "dtype: int64"
            ]
          },
          "metadata": {},
          "execution_count": 44
        }
      ]
    },
    {
      "cell_type": "markdown",
      "metadata": {
        "id": "EJrMFaBvO6bf"
      },
      "source": [
        "In addition to the removal, we can have a closer look at missing values for further analyses. "
      ]
    },
    {
      "cell_type": "code",
      "metadata": {
        "colab": {
          "base_uri": "https://localhost:8080/",
          "height": 363
        },
        "id": "KYp9cilpOdYo",
        "outputId": "85b00089-ddc7-43ef-f227-d1cd7d43c81b"
      },
      "source": [
        "# Filter DataFrame rows which do not have income_band details\n",
        "filtered_df[filtered_df['income_band'].isna()]"
      ],
      "execution_count": 34,
      "outputs": [
        {
          "output_type": "execute_result",
          "data": {
            "text/html": [
              "<div>\n",
              "<style scoped>\n",
              "    .dataframe tbody tr th:only-of-type {\n",
              "        vertical-align: middle;\n",
              "    }\n",
              "\n",
              "    .dataframe tbody tr th {\n",
              "        vertical-align: top;\n",
              "    }\n",
              "\n",
              "    .dataframe thead th {\n",
              "        text-align: right;\n",
              "    }\n",
              "</style>\n",
              "<table border=\"1\" class=\"dataframe\">\n",
              "  <thead>\n",
              "    <tr style=\"text-align: right;\">\n",
              "      <th></th>\n",
              "      <th>homeid</th>\n",
              "      <th>residents</th>\n",
              "      <th>income_band</th>\n",
              "      <th>hometype</th>\n",
              "      <th>floorarea</th>\n",
              "    </tr>\n",
              "  </thead>\n",
              "  <tbody>\n",
              "    <tr>\n",
              "      <th>0</th>\n",
              "      <td>47</td>\n",
              "      <td>2</td>\n",
              "      <td>NaN</td>\n",
              "      <td>flat</td>\n",
              "      <td>427</td>\n",
              "    </tr>\n",
              "    <tr>\n",
              "      <th>11</th>\n",
              "      <td>73</td>\n",
              "      <td>3</td>\n",
              "      <td>NaN</td>\n",
              "      <td>flat</td>\n",
              "      <td>695</td>\n",
              "    </tr>\n",
              "    <tr>\n",
              "      <th>48</th>\n",
              "      <td>115</td>\n",
              "      <td>3</td>\n",
              "      <td>NaN</td>\n",
              "      <td>house_or_bungalow</td>\n",
              "      <td>655</td>\n",
              "    </tr>\n",
              "    <tr>\n",
              "      <th>53</th>\n",
              "      <td>126</td>\n",
              "      <td>1</td>\n",
              "      <td>NaN</td>\n",
              "      <td>house_or_bungalow</td>\n",
              "      <td>470</td>\n",
              "    </tr>\n",
              "    <tr>\n",
              "      <th>79</th>\n",
              "      <td>150</td>\n",
              "      <td>2</td>\n",
              "      <td>NaN</td>\n",
              "      <td>flat</td>\n",
              "      <td>865</td>\n",
              "    </tr>\n",
              "    <tr>\n",
              "      <th>113</th>\n",
              "      <td>185</td>\n",
              "      <td>3</td>\n",
              "      <td>NaN</td>\n",
              "      <td>house_or_bungalow</td>\n",
              "      <td>1065</td>\n",
              "    </tr>\n",
              "    <tr>\n",
              "      <th>119</th>\n",
              "      <td>192</td>\n",
              "      <td>4</td>\n",
              "      <td>NaN</td>\n",
              "      <td>house_or_bungalow</td>\n",
              "      <td>1190</td>\n",
              "    </tr>\n",
              "    <tr>\n",
              "      <th>148</th>\n",
              "      <td>225</td>\n",
              "      <td>2</td>\n",
              "      <td>NaN</td>\n",
              "      <td>flat</td>\n",
              "      <td>1275</td>\n",
              "    </tr>\n",
              "    <tr>\n",
              "      <th>171</th>\n",
              "      <td>249</td>\n",
              "      <td>2</td>\n",
              "      <td>NaN</td>\n",
              "      <td>flat</td>\n",
              "      <td>440</td>\n",
              "    </tr>\n",
              "    <tr>\n",
              "      <th>248</th>\n",
              "      <td>330</td>\n",
              "      <td>4</td>\n",
              "      <td>NaN</td>\n",
              "      <td>house_or_bungalow</td>\n",
              "      <td>950</td>\n",
              "    </tr>\n",
              "  </tbody>\n",
              "</table>\n",
              "</div>"
            ],
            "text/plain": [
              "     homeid  residents income_band           hometype  floorarea\n",
              "0        47          2         NaN               flat        427\n",
              "11       73          3         NaN               flat        695\n",
              "48      115          3         NaN  house_or_bungalow        655\n",
              "53      126          1         NaN  house_or_bungalow        470\n",
              "79      150          2         NaN               flat        865\n",
              "113     185          3         NaN  house_or_bungalow       1065\n",
              "119     192          4         NaN  house_or_bungalow       1190\n",
              "148     225          2         NaN               flat       1275\n",
              "171     249          2         NaN               flat        440\n",
              "248     330          4         NaN  house_or_bungalow        950"
            ]
          },
          "metadata": {},
          "execution_count": 34
        }
      ]
    },
    {
      "cell_type": "code",
      "metadata": {
        "colab": {
          "base_uri": "https://localhost:8080/",
          "height": 423
        },
        "id": "yQ45D2L_REzo",
        "outputId": "210a3d50-2696-4b78-d5b1-146b008c7955"
      },
      "source": [
        "# Filter DataFrame rows which have income_band details\n",
        "filtered_df[filtered_df['income_band'].notna()]"
      ],
      "execution_count": 39,
      "outputs": [
        {
          "output_type": "execute_result",
          "data": {
            "text/html": [
              "<div>\n",
              "<style scoped>\n",
              "    .dataframe tbody tr th:only-of-type {\n",
              "        vertical-align: middle;\n",
              "    }\n",
              "\n",
              "    .dataframe tbody tr th {\n",
              "        vertical-align: top;\n",
              "    }\n",
              "\n",
              "    .dataframe thead th {\n",
              "        text-align: right;\n",
              "    }\n",
              "</style>\n",
              "<table border=\"1\" class=\"dataframe\">\n",
              "  <thead>\n",
              "    <tr style=\"text-align: right;\">\n",
              "      <th></th>\n",
              "      <th>homeid</th>\n",
              "      <th>residents</th>\n",
              "      <th>income_band</th>\n",
              "      <th>hometype</th>\n",
              "      <th>floorarea</th>\n",
              "    </tr>\n",
              "  </thead>\n",
              "  <tbody>\n",
              "    <tr>\n",
              "      <th>1</th>\n",
              "      <td>59</td>\n",
              "      <td>2</td>\n",
              "      <td>£90,000 or more</td>\n",
              "      <td>flat</td>\n",
              "      <td>760</td>\n",
              "    </tr>\n",
              "    <tr>\n",
              "      <th>2</th>\n",
              "      <td>61</td>\n",
              "      <td>2</td>\n",
              "      <td>£48,600 to £53,999</td>\n",
              "      <td>house_or_bungalow</td>\n",
              "      <td>685</td>\n",
              "    </tr>\n",
              "    <tr>\n",
              "      <th>3</th>\n",
              "      <td>62</td>\n",
              "      <td>2</td>\n",
              "      <td>£43,200 to £48,599</td>\n",
              "      <td>flat</td>\n",
              "      <td>815</td>\n",
              "    </tr>\n",
              "    <tr>\n",
              "      <th>4</th>\n",
              "      <td>64</td>\n",
              "      <td>4</td>\n",
              "      <td>£66,000 to £77,999</td>\n",
              "      <td>flat</td>\n",
              "      <td>650</td>\n",
              "    </tr>\n",
              "    <tr>\n",
              "      <th>5</th>\n",
              "      <td>63</td>\n",
              "      <td>2</td>\n",
              "      <td>£54,000 to £65,999</td>\n",
              "      <td>house_or_bungalow</td>\n",
              "      <td>725</td>\n",
              "    </tr>\n",
              "    <tr>\n",
              "      <th>...</th>\n",
              "      <td>...</td>\n",
              "      <td>...</td>\n",
              "      <td>...</td>\n",
              "      <td>...</td>\n",
              "      <td>...</td>\n",
              "    </tr>\n",
              "    <tr>\n",
              "      <th>250</th>\n",
              "      <td>331</td>\n",
              "      <td>2</td>\n",
              "      <td>£54,000 to £65,999</td>\n",
              "      <td>house_or_bungalow</td>\n",
              "      <td>900</td>\n",
              "    </tr>\n",
              "    <tr>\n",
              "      <th>251</th>\n",
              "      <td>332</td>\n",
              "      <td>1</td>\n",
              "      <td>£32,400 to £37,799</td>\n",
              "      <td>flat</td>\n",
              "      <td>515</td>\n",
              "    </tr>\n",
              "    <tr>\n",
              "      <th>252</th>\n",
              "      <td>334</td>\n",
              "      <td>5</td>\n",
              "      <td>less than £10,800</td>\n",
              "      <td>flat</td>\n",
              "      <td>805</td>\n",
              "    </tr>\n",
              "    <tr>\n",
              "      <th>253</th>\n",
              "      <td>335</td>\n",
              "      <td>4</td>\n",
              "      <td>£78,000 to £89,999</td>\n",
              "      <td>house_or_bungalow</td>\n",
              "      <td>1120</td>\n",
              "    </tr>\n",
              "    <tr>\n",
              "      <th>254</th>\n",
              "      <td>333</td>\n",
              "      <td>3</td>\n",
              "      <td>£54,000 to £65,999</td>\n",
              "      <td>flat</td>\n",
              "      <td>945</td>\n",
              "    </tr>\n",
              "  </tbody>\n",
              "</table>\n",
              "<p>245 rows × 5 columns</p>\n",
              "</div>"
            ],
            "text/plain": [
              "     homeid  residents         income_band           hometype  floorarea\n",
              "1        59          2     £90,000 or more               flat        760\n",
              "2        61          2  £48,600 to £53,999  house_or_bungalow        685\n",
              "3        62          2  £43,200 to £48,599               flat        815\n",
              "4        64          4  £66,000 to £77,999               flat        650\n",
              "5        63          2  £54,000 to £65,999  house_or_bungalow        725\n",
              "..      ...        ...                 ...                ...        ...\n",
              "250     331          2  £54,000 to £65,999  house_or_bungalow        900\n",
              "251     332          1  £32,400 to £37,799               flat        515\n",
              "252     334          5   less than £10,800               flat        805\n",
              "253     335          4  £78,000 to £89,999  house_or_bungalow       1120\n",
              "254     333          3  £54,000 to £65,999               flat        945\n",
              "\n",
              "[245 rows x 5 columns]"
            ]
          },
          "metadata": {},
          "execution_count": 39
        }
      ]
    },
    {
      "cell_type": "markdown",
      "metadata": {
        "id": "6FXFUJ7IRYCz"
      },
      "source": [
        "<font size=4 color=\"blue\">**Q.** What do you think about the outputs generated by filtered_df.dropna() and filtered_df[filtered_df['income_band'].notna()]? <font>"
      ]
    },
    {
      "cell_type": "markdown",
      "metadata": {
        "id": "sYu-RXA9SON1"
      },
      "source": [
        "Now, we have a cleaned data set with no missing values. \n"
      ]
    },
    {
      "cell_type": "markdown",
      "metadata": {
        "id": "2XAZjwdEUuAb"
      },
      "source": [
        "Looking at the variables/ features (residents and income_band) which we are going use to solve our problem, residents column holds numeric values, but income_band holds numeric ranges written using text. It will be helpful for the learning algorithms, if we convert those values into a more consistent format.\n",
        "\n",
        "As the initial step, let's analyse the possible values for income_band to get an idea about the format.\n",
        "\n",
        "\n"
      ]
    },
    {
      "cell_type": "code",
      "metadata": {
        "colab": {
          "base_uri": "https://localhost:8080/"
        },
        "id": "U33KSy0TZEjX",
        "outputId": "44e25ef2-d32f-4930-a71b-827c14d956fa"
      },
      "source": [
        "# Get all unique income_bands that exists\n",
        "cleaned_df['income_band'].unique()"
      ],
      "execution_count": 36,
      "outputs": [
        {
          "output_type": "execute_result",
          "data": {
            "text/plain": [
              "array(['£90,000 or more', '£48,600 to £53,999', '£43,200 to £48,599',\n",
              "       '£66,000 to £77,999', '£54,000 to £65,999', '£27,000 to £32,399',\n",
              "       'less than £10,800', '£37,800 to £43,199', '£23,400 to £26,999',\n",
              "       '£16,200 to £19,799', '£32,400 to £37,799', '£78,000 to £89,999',\n",
              "       '£13,500 to £16,199', '£10,800 to £13,499', '£19,800 to £23,399'],\n",
              "      dtype=object)"
            ]
          },
          "metadata": {},
          "execution_count": 36
        }
      ]
    },
    {
      "cell_type": "code",
      "metadata": {
        "colab": {
          "base_uri": "https://localhost:8080/"
        },
        "id": "AQX59YJ2aBIX",
        "outputId": "382ca84f-f1a9-4471-85c8-bef0037bbba4"
      },
      "source": [
        "# Sort all unique income_bands that exists, because the sorted output is easy to follow. \n",
        "sorted(cleaned_df['income_band'].unique())"
      ],
      "execution_count": 37,
      "outputs": [
        {
          "output_type": "execute_result",
          "data": {
            "text/plain": [
              "['less than £10,800',\n",
              " '£10,800 to £13,499',\n",
              " '£13,500 to £16,199',\n",
              " '£16,200 to £19,799',\n",
              " '£19,800 to £23,399',\n",
              " '£23,400 to £26,999',\n",
              " '£27,000 to £32,399',\n",
              " '£32,400 to £37,799',\n",
              " '£37,800 to £43,199',\n",
              " '£43,200 to £48,599',\n",
              " '£48,600 to £53,999',\n",
              " '£54,000 to £65,999',\n",
              " '£66,000 to £77,999',\n",
              " '£78,000 to £89,999',\n",
              " '£90,000 or more']"
            ]
          },
          "metadata": {},
          "execution_count": 37
        }
      ]
    },
    {
      "cell_type": "markdown",
      "metadata": {
        "id": "c3cs8DRpYkRQ"
      },
      "source": [
        "There are three formats. \n",
        "\n",
        "1.   less than £[value]\n",
        "2.   £[value] to £[value]\n",
        "3.   £[value] or more\n",
        "\n",
        "For £[value] to £[value] format, we can use the average value of the range as our final representation. For other two formats, we can use the available upper or lower bound as the final value.\n",
        "\n",
        "Let's write a function to convert income_bands to these final values."
      ]
    },
    {
      "cell_type": "code",
      "metadata": {
        "id": "fGPGhYRRsDXf"
      },
      "source": [
        "def format_income_band(income_band):\n",
        "  '''\n",
        "  Method to format income_band to a numeric value\n",
        "  :param income_band: str\n",
        "  '''\n",
        "  # remove additional symbols\n",
        "  text = income_band.replace('£', '') # '£10,800 to £13,499' -> '10,800 to 13,499'\n",
        "  text = text.replace(',' , '') # '10,800 to 13,499' -> '10800 to 13499'\n",
        "\n",
        "  # split the text by spaces\n",
        "  splits = text.split() # ('10800 to 13499' -> ['10800', 'to', '13499'])\n",
        "\n",
        "  # get lower bound as an integerer/ numeric value\n",
        "  try:\n",
        "    lower_bound = int(splits[0]) # 10800\n",
        "  except ValueError:\n",
        "    # if lower_bound = 'less', use the upper_bound number as the lower value\n",
        "    lower_bound = int(splits[2]) \n",
        "  \n",
        "  # get upper bound as an integerer/ numeric value\n",
        "  try:\n",
        "    upper_bound = int(splits[2]) # 13499\n",
        "  except ValueError:\n",
        "    # if upper_bound = 'more', use the lower_bound number as the upper value\n",
        "    upper_bound = int(splits[0]) \n",
        "\n",
        "  # calculate average value\n",
        "  avg = (lower_bound + upper_bound)/2\n",
        "  return avg"
      ],
      "execution_count": 40,
      "outputs": []
    },
    {
      "cell_type": "code",
      "metadata": {
        "colab": {
          "base_uri": "https://localhost:8080/"
        },
        "id": "VPYR-7PqxW5i",
        "outputId": "ec20b238-5439-431f-ce39-b12f1cda7e3e"
      },
      "source": [
        "# Let's see how our function works\n",
        "input1 = 'less than £10,800'\n",
        "output1 = format_income_band(input1)\n",
        "print(f'Output for format1: {output1}')\n",
        "\n",
        "input2 = '£10,800 to £13,499'\n",
        "output2 = format_income_band(input2)\n",
        "print(f'Output for format2: {output2}')\n",
        "\n",
        "input3 = '£90,000 or more'\n",
        "output3 = format_income_band(input3)\n",
        "print(f'Output for format1: {output3}')"
      ],
      "execution_count": 41,
      "outputs": [
        {
          "output_type": "stream",
          "name": "stdout",
          "text": [
            "Output for format1: 10800.0\n",
            "Output for format2: 12149.5\n",
            "Output for format1: 90000.0\n"
          ]
        }
      ]
    },
    {
      "cell_type": "markdown",
      "metadata": {
        "id": "WHLEWtY7ymEq"
      },
      "source": [
        "Using this function, we can compute values for our new column average_income using income_band values.\n"
      ]
    },
    {
      "cell_type": "code",
      "source": [
        "# Add a new column named 'average_income' to the cleaned DataFrame to keep averare income values calculated using format_income_band function\n",
        "cleaned_df['average_income'] = [format_income_band(val) for val in cleaned_df['income_band'].tolist()]\n",
        "cleaned_df.head(5)"
      ],
      "metadata": {
        "colab": {
          "base_uri": "https://localhost:8080/",
          "height": 206
        },
        "id": "54vmIl7o9nzR",
        "outputId": "d73a4a19-b8b8-44e1-dcfb-c0fe8361456b"
      },
      "execution_count": 43,
      "outputs": [
        {
          "output_type": "execute_result",
          "data": {
            "text/html": [
              "<div>\n",
              "<style scoped>\n",
              "    .dataframe tbody tr th:only-of-type {\n",
              "        vertical-align: middle;\n",
              "    }\n",
              "\n",
              "    .dataframe tbody tr th {\n",
              "        vertical-align: top;\n",
              "    }\n",
              "\n",
              "    .dataframe thead th {\n",
              "        text-align: right;\n",
              "    }\n",
              "</style>\n",
              "<table border=\"1\" class=\"dataframe\">\n",
              "  <thead>\n",
              "    <tr style=\"text-align: right;\">\n",
              "      <th></th>\n",
              "      <th>homeid</th>\n",
              "      <th>residents</th>\n",
              "      <th>income_band</th>\n",
              "      <th>hometype</th>\n",
              "      <th>floorarea</th>\n",
              "      <th>average_income</th>\n",
              "    </tr>\n",
              "  </thead>\n",
              "  <tbody>\n",
              "    <tr>\n",
              "      <th>1</th>\n",
              "      <td>59</td>\n",
              "      <td>2</td>\n",
              "      <td>£90,000 or more</td>\n",
              "      <td>flat</td>\n",
              "      <td>760</td>\n",
              "      <td>90000.0</td>\n",
              "    </tr>\n",
              "    <tr>\n",
              "      <th>2</th>\n",
              "      <td>61</td>\n",
              "      <td>2</td>\n",
              "      <td>£48,600 to £53,999</td>\n",
              "      <td>house_or_bungalow</td>\n",
              "      <td>685</td>\n",
              "      <td>51299.5</td>\n",
              "    </tr>\n",
              "    <tr>\n",
              "      <th>3</th>\n",
              "      <td>62</td>\n",
              "      <td>2</td>\n",
              "      <td>£43,200 to £48,599</td>\n",
              "      <td>flat</td>\n",
              "      <td>815</td>\n",
              "      <td>45899.5</td>\n",
              "    </tr>\n",
              "    <tr>\n",
              "      <th>4</th>\n",
              "      <td>64</td>\n",
              "      <td>4</td>\n",
              "      <td>£66,000 to £77,999</td>\n",
              "      <td>flat</td>\n",
              "      <td>650</td>\n",
              "      <td>71999.5</td>\n",
              "    </tr>\n",
              "    <tr>\n",
              "      <th>5</th>\n",
              "      <td>63</td>\n",
              "      <td>2</td>\n",
              "      <td>£54,000 to £65,999</td>\n",
              "      <td>house_or_bungalow</td>\n",
              "      <td>725</td>\n",
              "      <td>59999.5</td>\n",
              "    </tr>\n",
              "  </tbody>\n",
              "</table>\n",
              "</div>"
            ],
            "text/plain": [
              "   homeid  residents  ... floorarea average_income\n",
              "1      59          2  ...       760        90000.0\n",
              "2      61          2  ...       685        51299.5\n",
              "3      62          2  ...       815        45899.5\n",
              "4      64          4  ...       650        71999.5\n",
              "5      63          2  ...       725        59999.5\n",
              "\n",
              "[5 rows x 6 columns]"
            ]
          },
          "metadata": {},
          "execution_count": 43
        }
      ]
    },
    {
      "cell_type": "markdown",
      "metadata": {
        "id": "hdb2b2lfzaZZ"
      },
      "source": [
        "Now we have a cleaned and properly formated data set which is appropriate for machine learning tasks.\n",
        "\n",
        "Let's save the cleaned data set for future use."
      ]
    },
    {
      "cell_type": "code",
      "metadata": {
        "id": "oMoP4SUMzzsW"
      },
      "source": [
        "'''\n",
        "Save the data set\n",
        "Pandas to_csv() saves the DataFrame to comma-separated values (csv) file.\n",
        "As the parameter, the file path should be provided\n",
        "'''\n",
        "cleaned_df.to_csv(\"/content/cleaned_home_data.csv\", index=False)"
      ],
      "execution_count": 45,
      "outputs": []
    },
    {
      "cell_type": "markdown",
      "metadata": {
        "id": "JClSeJsB39q6"
      },
      "source": [
        "# Exploratory Data Analysis (EDA)\n",
        "\n",
        "The commonly used libraries in Python for data visualisation are [Matplotlib](https://matplotlib.org/) and [Seaborn](https://seaborn.pydata.org/). Seaborn is based on Matplotlib and it provides a high-level interface for drawing attractive and informative statistical graphics. Thus, comparatively Seaborn has simple syntax which is easier to learn and understand, but it is less customisabale than Matplotlib. "
      ]
    },
    {
      "cell_type": "code",
      "source": [
        "# Import libraries\n",
        "import matplotlib.pyplot as plt\n",
        "import seaborn as sns"
      ],
      "metadata": {
        "id": "3XGrJr2I2dxg"
      },
      "execution_count": 47,
      "outputs": []
    },
    {
      "cell_type": "markdown",
      "source": [
        "## Histograms\n",
        "\n",
        "We use histograms to analyse one numerical variable.\n",
        "\n",
        "We can use either Seaborn's [histplot()](https://seaborn.pydata.org/generated/seaborn.histplot.html) function or Matplotlib's [hist()](https://matplotlib.org/stable/api/_as_gen/matplotlib.pyplot.hist.html) function to plot a histogram as follows.\n"
      ],
      "metadata": {
        "id": "Whfg4UoxLj-4"
      }
    },
    {
      "cell_type": "code",
      "source": [
        "sns.histplot(data=cleaned_df, x='residents', binwidth=1)\n",
        "\n",
        "plt.show()"
      ],
      "metadata": {
        "colab": {
          "base_uri": "https://localhost:8080/",
          "height": 279
        },
        "id": "h0g08y3_DcNt",
        "outputId": "1515df4c-48d3-4abc-8642-caaaaac3fbc6"
      },
      "execution_count": 48,
      "outputs": [
        {
          "output_type": "display_data",
          "data": {
            "image/png": "[encoded data removed]",
            "text/plain": [
              "<Figure size 432x288 with 1 Axes>"
            ]
          },
          "metadata": {
            "needs_background": "light"
          }
        }
      ]
    },
    {
      "cell_type": "code",
      "source": [
        "plt.hist(cleaned_df['residents'], bins=5, rwidth=0.8)\n",
        "\n",
        "plt.grid(axis='y', alpha=0.75)\n",
        "plt.xlabel('residents')\n",
        "plt.ylabel('count')\n",
        "\n",
        "plt.show()"
      ],
      "metadata": {
        "colab": {
          "base_uri": "https://localhost:8080/",
          "height": 279
        },
        "id": "SKEOyGhMDnVc",
        "outputId": "47b3fc3b-acbe-40dd-abeb-1d533ed0509a"
      },
      "execution_count": null,
      "outputs": [
        {
          "output_type": "display_data",
          "data": {
            "image/png": "[encoded data removed]",
            "text/plain": [
              "<Figure size 432x288 with 1 Axes>"
            ]
          },
          "metadata": {
            "needs_background": "light"
          }
        }
      ]
    },
    {
      "cell_type": "code",
      "source": [
        "sns.histplot(data=cleaned_df, x='average_income', bins='auto')\n",
        "\n",
        "plt.show()"
      ],
      "metadata": {
        "colab": {
          "base_uri": "https://localhost:8080/",
          "height": 280
        },
        "id": "7xdGqMOkPpF_",
        "outputId": "e194220a-bcba-4c53-d3f8-59277fa9a44a"
      },
      "execution_count": null,
      "outputs": [
        {
          "output_type": "display_data",
          "data": {
            "image/png": "[encoded data removed]",
            "text/plain": [
              "<Figure size 432x288 with 1 Axes>"
            ]
          },
          "metadata": {
            "needs_background": "light"
          }
        }
      ]
    },
    {
      "cell_type": "markdown",
      "source": [
        "## Box Plots\n",
        "\n",
        "Box plots are also commonly used to analyse one numerical variable. They show spead of values as well as provide information about symmetry and outliers.\n",
        "\n",
        "We can use either Seaborn's [boxplot()](https://seaborn.pydata.org/generated/seaborn.boxplot.html) function or Matplotlib's [boxplot()](https://matplotlib.org/stable/api/_as_gen/matplotlib.pyplot.boxplot.html) function to plot a box plot as follows."
      ],
      "metadata": {
        "id": "knTItWP0MZtq"
      }
    },
    {
      "cell_type": "code",
      "source": [
        "sns.boxplot(y=\"floorarea\", data=cleaned_df)\n",
        "\n",
        "plt.show()"
      ],
      "metadata": {
        "colab": {
          "base_uri": "https://localhost:8080/",
          "height": 252
        },
        "id": "DEL5L5nhN-sV",
        "outputId": "2b30412e-ad80-4a76-cbf7-df50ad5c205a"
      },
      "execution_count": null,
      "outputs": [
        {
          "output_type": "display_data",
          "data": {
            "image/png": "[encoded data removed]",
            "text/plain": [
              "<Figure size 432x288 with 1 Axes>"
            ]
          },
          "metadata": {
            "needs_background": "light"
          }
        }
      ]
    },
    {
      "cell_type": "code",
      "source": [
        "plt.boxplot(cleaned_df['floorarea'])\n",
        "\n",
        "plt.ylabel('Floor area')\n",
        "\n",
        "plt.show()"
      ],
      "metadata": {
        "colab": {
          "base_uri": "https://localhost:8080/",
          "height": 265
        },
        "id": "BuluYoTqOM8T",
        "outputId": "83ab9388-1f7c-462c-bc41-f6abfd45efd6"
      },
      "execution_count": null,
      "outputs": [
        {
          "output_type": "display_data",
          "data": {
            "image/png": "[encoded data removed]",
            "text/plain": [
              "<Figure size 432x288 with 1 Axes>"
            ]
          },
          "metadata": {
            "needs_background": "light"
          }
        }
      ]
    },
    {
      "cell_type": "markdown",
      "source": [
        "For comparisons, we can easily plot box plots of floorarea per hometype using Seaborn library."
      ],
      "metadata": {
        "id": "Pgo6MAnmOl7V"
      }
    },
    {
      "cell_type": "code",
      "source": [
        "sns.boxplot(x=\"hometype\", y=\"floorarea\", data=cleaned_df)\n",
        "\n",
        "plt.show()"
      ],
      "metadata": {
        "colab": {
          "base_uri": "https://localhost:8080/",
          "height": 280
        },
        "id": "GYAJenaoOuoc",
        "outputId": "5c69a286-333e-4d17-f689-38bd059fe716"
      },
      "execution_count": null,
      "outputs": [
        {
          "output_type": "display_data",
          "data": {
            "image/png": "[encoded data removed]",
            "text/plain": [
              "<Figure size 432x288 with 1 Axes>"
            ]
          },
          "metadata": {
            "needs_background": "light"
          }
        }
      ]
    },
    {
      "cell_type": "markdown",
      "source": [
        "## Bar Plots\n",
        "\n",
        "Bar plots are used to analyse one numerical and categorical variables. This graph presents categorical data using bars with heights proportional to the numerical values each category represents.\n",
        "\n",
        "Considering the format of our data, Seaborn's [countplot()](https://seaborn.pydata.org/generated/seaborn.countplot.html) function can be easily used to plot bar plots with a few code lines as follows."
      ],
      "metadata": {
        "id": "7BsijaBCwlHB"
      }
    },
    {
      "cell_type": "code",
      "source": [
        "sns.countplot(x=cleaned_df['hometype'])\n",
        "\n",
        "plt.show()"
      ],
      "metadata": {
        "colab": {
          "base_uri": "https://localhost:8080/",
          "height": 280
        },
        "id": "XdBpHzl10R-U",
        "outputId": "f0de75f7-d8cd-44ca-fe8b-10e1452aeb8b"
      },
      "execution_count": null,
      "outputs": [
        {
          "output_type": "display_data",
          "data": {
            "image/png": "[encoded data removed]",
            "text/plain": [
              "<Figure size 432x288 with 1 Axes>"
            ]
          },
          "metadata": {
            "needs_background": "light"
          }
        }
      ]
    },
    {
      "cell_type": "code",
      "source": [
        "fig = plt.figure(figsize=(12, 4))  # set figure size\n",
        "sns.countplot(x=cleaned_df['income_band'])\n",
        "\n",
        "plt.xticks(rotation=45)  # rotate x axis to overcome overlapping issues\n",
        "plt.show()"
      ],
      "metadata": {
        "colab": {
          "base_uri": "https://localhost:8080/",
          "height": 347
        },
        "id": "lnKLoVrZQTkf",
        "outputId": "ba8005c8-c0c1-426f-f962-38906067d99b"
      },
      "execution_count": null,
      "outputs": [
        {
          "output_type": "display_data",
          "data": {
            "image/png": "[encoded data removed]",
            "text/plain": [
              "<Figure size 864x288 with 1 Axes>"
            ]
          },
          "metadata": {
            "needs_background": "light"
          }
        }
      ]
    },
    {
      "cell_type": "markdown",
      "source": [
        "## Scatter Plots\n",
        "\n",
        "We use scatter plots to analyse two numerical variables. \n",
        "\n",
        "We can use either Seaborn's [scatterplot()](https://seaborn.pydata.org/generated/seaborn.scatterplot.html) function or Matplotlib's [scatter()](https://matplotlib.org/stable/api/_as_gen/matplotlib.pyplot.scatter.html) function to plot a scatter plot as follows.\n",
        "\n",
        "It is easy and straighforward to use scatterplot() function, if our data is in a DataFrame. However, to plot from arrays, it is easy to use scatter() function (We will come across such scenarios while working with machine learning models)."
      ],
      "metadata": {
        "id": "_-RWqouMS-6G"
      }
    },
    {
      "cell_type": "code",
      "source": [
        "fig = plt.figure(figsize=(8, 6))\n",
        "sns.scatterplot(data=cleaned_df, x='residents', y='floorarea')\n",
        "\n",
        "plt.show()"
      ],
      "metadata": {
        "colab": {
          "base_uri": "https://localhost:8080/",
          "height": 388
        },
        "id": "BVNEHOv8TDZk",
        "outputId": "ac894a78-b4a3-4b80-ff2e-10d3cfb8938d"
      },
      "execution_count": null,
      "outputs": [
        {
          "output_type": "display_data",
          "data": {
            "image/png": "[encoded data removed]",
            "text/plain": [
              "<Figure size 576x432 with 1 Axes>"
            ]
          },
          "metadata": {
            "needs_background": "light"
          }
        }
      ]
    },
    {
      "cell_type": "code",
      "source": [
        "fig = plt.figure(figsize=(8, 6))\n",
        "\n",
        "plt.scatter(cleaned_df['residents'], cleaned_df['floorarea'])\n",
        "\n",
        "plt.xlabel(\"Residents\")\n",
        "plt.ylabel(\"Floor Area\")\n",
        "  \n",
        "plt.show()"
      ],
      "metadata": {
        "colab": {
          "base_uri": "https://localhost:8080/",
          "height": 388
        },
        "id": "KlidsUSNULjB",
        "outputId": "2c97c58e-2a06-4d78-e9ed-9f5f17e186ee"
      },
      "execution_count": null,
      "outputs": [
        {
          "output_type": "display_data",
          "data": {
            "image/png": "[encoded data removed]",
            "text/plain": [
              "<Figure size 576x432 with 1 Axes>"
            ]
          },
          "metadata": {
            "needs_background": "light"
          }
        }
      ]
    },
    {
      "cell_type": "code",
      "source": [
        "fig = plt.figure(figsize=(8, 6))\n",
        "sns.scatterplot(data=cleaned_df, x=\"residents\", y=\"floorarea\", hue=\"hometype\")\n",
        "\n",
        "plt.show()"
      ],
      "metadata": {
        "colab": {
          "base_uri": "https://localhost:8080/",
          "height": 388
        },
        "id": "NxZ9NJIOT8t5",
        "outputId": "27ce15ed-3e9e-47bb-f7dd-e5de7de55136"
      },
      "execution_count": null,
      "outputs": [
        {
          "output_type": "display_data",
          "data": {
            "image/png": "[encoded data removed]",
            "text/plain": [
              "<Figure size 576x432 with 1 Axes>"
            ]
          },
          "metadata": {
            "needs_background": "light"
          }
        }
      ]
    },
    {
      "cell_type": "code",
      "source": [
        "fig = plt.figure(figsize=(8, 6))\n",
        "\n",
        "plt.scatter(df.loc[df['hometype'] == 'flat']['residents'], df.loc[df['hometype'] == 'flat']['floorarea'], label = 'flat')\n",
        "plt.scatter(df.loc[df['hometype'] == 'house_or_bungalow']['residents'], df.loc[df['hometype'] == 'house_or_bungalow']['floorarea'], label = 'house_or_bungalow')\n",
        "\n",
        "plt.xlabel(\"Residents\")\n",
        "plt.ylabel(\"Floor Area\")\n",
        "\n",
        "plt.legend() \n",
        "plt.show()"
      ],
      "metadata": {
        "colab": {
          "base_uri": "https://localhost:8080/",
          "height": 388
        },
        "id": "9c6ybUdiUokN",
        "outputId": "7ad98819-066d-4a1f-9ee9-4a536256323f"
      },
      "execution_count": null,
      "outputs": [
        {
          "output_type": "display_data",
          "data": {
            "image/png": "[encoded data removed]",
            "text/plain": [
              "<Figure size 576x432 with 1 Axes>"
            ]
          },
          "metadata": {
            "needs_background": "light"
          }
        }
      ]
    }
  ]
}