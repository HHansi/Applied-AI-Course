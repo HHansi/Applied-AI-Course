{
  "nbformat": 4,
  "nbformat_minor": 0,
  "metadata": {
    "colab": {
      "name": "Regular Expressions.ipynb",
      "provenance": [],
      "authorship_tag": "ABX9TyMyDCzgyezGTpWS1h5XWdkB",
      "include_colab_link": true
    },
    "kernelspec": {
      "name": "python3",
      "display_name": "Python 3"
    }
  },
  "cells": [
    {
      "cell_type": "markdown",
      "metadata": {
        "id": "view-in-github",
        "colab_type": "text"
      },
      "source": [
        "<a href=\"https://colab.research.google.com/github/HHansi/Applied-AI-Course/blob/main/NLP/Regular_Expressions.ipynb\" target=\"_parent\"><img src=\"https://colab.research.google.com/assets/colab-badge.svg\" alt=\"Open In Colab\"/></a>"
      ]
    },
    {
      "cell_type": "markdown",
      "metadata": {
        "id": "TkRDyKYjbTPM"
      },
      "source": [
        "<h1>Regular Expressions</h1>\r\n",
        "\r\n",
        "A regular expression is a special sequence of characters that helps you match other strings, using a specialised syntax held in a pattern. \r\n"
      ]
    },
    {
      "cell_type": "markdown",
      "metadata": {
        "id": "0p6Tq5d7cQIp"
      },
      "source": [
        "To use regular expressions in Python you need to import <i>re</i> module. "
      ]
    },
    {
      "cell_type": "code",
      "metadata": {
        "id": "U_z5SiKhcD1I"
      },
      "source": [
        "import re"
      ],
      "execution_count": null,
      "outputs": []
    },
    {
      "cell_type": "markdown",
      "metadata": {
        "id": "QERtyUzclSNr"
      },
      "source": [
        "<b>Functions and descriptions</b>\r\n",
        "- search - Return a Match object corresponding to the first match.\r\n",
        "- findall - Return a list containing all matches.\r\n",
        "- sub - Replaces one or more matches with the given string\r\n",
        "- split - Returns a list where the string has been split at each match"
      ]
    },
    {
      "cell_type": "markdown",
      "metadata": {
        "id": "wYhtq0bDohfh"
      },
      "source": [
        "Let's define a sample text and regular expression to use with following examples."
      ]
    },
    {
      "cell_type": "code",
      "metadata": {
        "id": "Yi01Gcljooi_"
      },
      "source": [
        "text = \"Monthly GDP grew by 8.7% in June 2020 as lockdown measures eased, following upwardly revised growth of 2.4% in May and a record fall of 20% in April 2020.\"\r\n",
        "\r\n",
        "# pattern to match percentages (e.g. 8.7%, 2.4%, 20%)\r\n",
        "pattern = \"\\d+\\.?\\d*%\""
      ],
      "execution_count": null,
      "outputs": []
    },
    {
      "cell_type": "markdown",
      "metadata": {
        "id": "NFrtG5atodQo"
      },
      "source": [
        "<b>search function</b>"
      ]
    },
    {
      "cell_type": "code",
      "metadata": {
        "colab": {
          "base_uri": "https://localhost:8080/"
        },
        "id": "gdiQ5ct3pCh_",
        "outputId": "4dbe52f3-0f7f-4af5-b98c-23b947a909da"
      },
      "source": [
        "x = re.search(pattern, text)\r\n",
        "print(x)"
      ],
      "execution_count": null,
      "outputs": [
        {
          "output_type": "stream",
          "text": [
            "<_sre.SRE_Match object; span=(20, 24), match='8.7%'>\n"
          ],
          "name": "stdout"
        }
      ]
    },
    {
      "cell_type": "markdown",
      "metadata": {
        "id": "LRAkDRiCpIB3"
      },
      "source": [
        "<b>findall function</b>"
      ]
    },
    {
      "cell_type": "code",
      "metadata": {
        "colab": {
          "base_uri": "https://localhost:8080/"
        },
        "id": "5VeMAcF2pGed",
        "outputId": "a467262c-21bb-44bd-ecc4-8bc7e5689ae4"
      },
      "source": [
        "x = re.findall(pattern, text)\r\n",
        "print(x)"
      ],
      "execution_count": null,
      "outputs": [
        {
          "output_type": "stream",
          "text": [
            "['8.7%', '2.4%', '20%']\n"
          ],
          "name": "stdout"
        }
      ]
    },
    {
      "cell_type": "markdown",
      "metadata": {
        "id": "7745PGt6pR68"
      },
      "source": [
        "<b>sub function</b>"
      ]
    },
    {
      "cell_type": "code",
      "metadata": {
        "colab": {
          "base_uri": "https://localhost:8080/"
        },
        "id": "Jx1iWDbVpP58",
        "outputId": "5d67de27-e9c9-468f-9870-8c2727d85189"
      },
      "source": [
        "# For sub, we need to input a string as a replacement for the matches.\r\n",
        "# Let's use \"PERCENTAGE\" as the replacement.\r\n",
        "x = re.sub(pattern, \"PERCENTAGE\", text)\r\n",
        "print(x)"
      ],
      "execution_count": null,
      "outputs": [
        {
          "output_type": "stream",
          "text": [
            "Monthly GDP grew by PERCENTAGE in June 2020 as lockdown measures eased, following upwardly revised growth of PERCENTAGE in May and a record fall of PERCENTAGE in April 2020.\n"
          ],
          "name": "stdout"
        }
      ]
    },
    {
      "cell_type": "markdown",
      "metadata": {
        "id": "AXYcUsgCpxrD"
      },
      "source": [
        "<b>split function</b>\r\n"
      ]
    },
    {
      "cell_type": "code",
      "metadata": {
        "colab": {
          "base_uri": "https://localhost:8080/"
        },
        "id": "tFhQEQu4pwxC",
        "outputId": "ac97d4d7-8df7-4373-eb77-fbff566385bc"
      },
      "source": [
        "x = re.split(pattern, text)\r\n",
        "print(x)"
      ],
      "execution_count": null,
      "outputs": [
        {
          "output_type": "stream",
          "text": [
            "['Monthly GDP grew by ', ' in June 2020 as lockdown measures eased, following upwardly revised growth of ', ' in May and a record fall of ', ' in April 2020.']\n"
          ],
          "name": "stdout"
        }
      ]
    },
    {
      "cell_type": "markdown",
      "metadata": {
        "id": "d_jClj88TBsh"
      },
      "source": [
        "<b>Exercise</b> <br>\r\n",
        "Remove links in the following tweets using regular expressions."
      ]
    },
    {
      "cell_type": "code",
      "metadata": {
        "id": "DzRUEZoVTNZ6"
      },
      "source": [
        "tweets = [\"This is a much better tool than some I have come across http://www.tweepular.com\",\r\n",
        "          \"says Finally, Im home.  http://plurk.com/p/rr121\",\r\n",
        "          \"http://twitpic.com/66xlm -  hate when my PARKED car gets hit\",\r\n",
        "          \"I want it BACK NOW!: http://bit.ly/PP1WZ\",\r\n",
        "          \"https://t.co/OAsMV2N3oZ HALFTIME WATCH\"]"
      ],
      "execution_count": null,
      "outputs": []
    },
    {
      "cell_type": "markdown",
      "metadata": {
        "id": "ZNEzzOjmWg0T"
      },
      "source": [
        "Answer"
      ]
    },
    {
      "cell_type": "code",
      "metadata": {
        "colab": {
          "base_uri": "https://localhost:8080/"
        },
        "id": "oXAaN09jEUC5",
        "outputId": "dfe9de13-c8fc-4372-ba66-7ba473c3237d"
      },
      "source": [
        "pattern = \"https?:\\/\\/\\S+\"\r\n",
        "updated_tweets = []\r\n",
        "\r\n",
        "for tweet in tweets:\r\n",
        "  x = re.sub(pattern, \"\", tweet)\r\n",
        "  updated_tweets.append(x)\r\n",
        "\r\n",
        "updated_tweets\r\n"
      ],
      "execution_count": null,
      "outputs": [
        {
          "output_type": "execute_result",
          "data": {
            "text/plain": [
              "['This is a much better tool than some I have come across ',\n",
              " 'says Finally, Im home.  ',\n",
              " ' -  hate when my PARKED car gets hit',\n",
              " 'I want it BACK NOW!: ',\n",
              " ' HALFTIME WATCH']"
            ]
          },
          "metadata": {
            "tags": []
          },
          "execution_count": 7
        }
      ]
    }
  ]
}