{
  "nbformat": 4,
  "nbformat_minor": 0,
  "metadata": {
    "colab": {
      "provenance": [],
      "toc_visible": true,
      "include_colab_link": true
    },
    "kernelspec": {
      "name": "python3",
      "display_name": "Python 3"
    },
    "gpuClass": "standard"
  },
  "cells": [
    {
      "cell_type": "markdown",
      "metadata": {
        "id": "view-in-github",
        "colab_type": "text"
      },
      "source": [
        "<a href=\"https://colab.research.google.com/github/HHansi/Applied-AI-Course/blob/main/NLP/Sentiment_Analysis.ipynb\" target=\"_parent\"><img src=\"https://colab.research.google.com/assets/colab-badge.svg\" alt=\"Open In Colab\"/></a>"
      ]
    },
    {
      "cell_type": "markdown",
      "metadata": {
        "id": "I0Qu7lgx67XE"
      },
      "source": [
        "# Sentiment Analysis\n",
        "\n",
        "This notebook contains the practical examples and exercises for the Applied AI-Natural Language Processing.\n",
        "\n",
        "*Created by Hansi Hettiarachchi*\n"
      ]
    },
    {
      "cell_type": "markdown",
      "source": [
        "This tutorial will guide you through the process of performing sentiment analysis on a real-world data set.\n",
        "<!-- \n",
        "![sentiment_analysis.jpeg](https://drive.google.com/uc?id=1n5nhaeNzilnxf5ytNKKiUNSm7Ye6aGcu) <br> -->\n",
        "![](https://github.com/HHansi/Applied-AI-Course/blob/main/NLP/images/sentiment_analysis.jpeg?raw=true) <br>\n",
        "[image source](https://www.intellectyx.com/blog/sentiment-analysis/)\n",
        "\n",
        "Sentiment analysis is the process of analysing the feelings (i.e. opinions, emotions, attitudes, thoughts, etc.)​ to determine the emotional tone underneath. \n",
        "\n",
        "Some benefits of sentiment analysis include:\n",
        "- Understand customers\n",
        "- Evaluate marketing campaign \n",
        "- Optimise marketing strategies\n",
        "- Find industry leaders\n",
        "- Increase product quality\n",
        "\n",
        "Sentiment analysis is very popular and important in nowadays, due to its benefits and the huge amount of data availability.\n"
      ],
      "metadata": {
        "id": "6DDl9jc6YOZd"
      }
    },
    {
      "cell_type": "markdown",
      "metadata": {
        "id": "2cN-MKw8pXzp"
      },
      "source": [
        "# Train Validation and Test\n",
        "![](https://github.com/HHansi/Applied-AI-Course/blob/main/NLP/images/train-validation-test.png?raw=true)\n"
      ]
    },
    {
      "cell_type": "code",
      "metadata": {
        "colab": {
          "base_uri": "https://localhost:8080/"
        },
        "id": "lzZ6zwd2jwgs",
        "outputId": "aaaae3a0-c70f-41f0-9b3f-6eb198c4674f"
      },
      "source": [
        "# import libraries\n",
        "import pandas as pd\n",
        "import numpy as np\n",
        "\n",
        "# libraries for data preprocessing\n",
        "import nltk\n",
        "# download modules available with NLTK\n",
        "nltk.download('punkt')\n",
        "nltk.download('wordnet')\n",
        "nltk.download('omw-1.4')\n",
        "nltk.download('stopwords')\n",
        "\n",
        "from nltk.tokenize import word_tokenize\n",
        "from nltk.stem import WordNetLemmatizer\n",
        "from nltk.corpus import stopwords\n",
        "\n",
        "# libraries for data split and feature extraction\n",
        "from sklearn.model_selection import train_test_split\n",
        "from sklearn.feature_extraction.text import CountVectorizer\n",
        "from sklearn.feature_extraction.text import TfidfVectorizer\n",
        "\n",
        "# library for evaluation\n",
        "from sklearn import metrics\n",
        "\n",
        "# libraries for ML algorithms\n",
        "from sklearn import svm\n",
        "from sklearn import tree\n",
        "from sklearn.naive_bayes import GaussianNB\n",
        "\n",
        "# libraries for data plotting\n",
        "import seaborn as sns\n",
        "import matplotlib.pyplot as plt \n",
        "\n",
        "RANDOM_SEED = 100"
      ],
      "execution_count": 1,
      "outputs": [
        {
          "output_type": "stream",
          "name": "stderr",
          "text": [
            "[nltk_data] Downloading package punkt to /root/nltk_data...\n",
            "[nltk_data]   Unzipping tokenizers/punkt.zip.\n",
            "[nltk_data] Downloading package wordnet to /root/nltk_data...\n",
            "[nltk_data] Downloading package omw-1.4 to /root/nltk_data...\n",
            "[nltk_data] Downloading package stopwords to /root/nltk_data...\n",
            "[nltk_data]   Unzipping corpora/stopwords.zip.\n"
          ]
        }
      ]
    },
    {
      "cell_type": "markdown",
      "metadata": {
        "id": "osBUO59Z6el7"
      },
      "source": [
        "# Understanding the problem and data set\n",
        "\n",
        "Here I use a subset of [Amazon Fine Food Reviews dataset](https://www.kaggle.com/snap/amazon-fine-food-reviews?select=Reviews.csv). \n",
        "\n",
        "The targeted problem is to predict the sentiment of a food review.\n",
        "\n",
        "Let's load the data set and see a sample of it."
      ]
    },
    {
      "cell_type": "code",
      "metadata": {
        "colab": {
          "base_uri": "https://localhost:8080/",
          "height": 223
        },
        "id": "HQKh1xpPMgs5",
        "outputId": "a9a0a4f0-67b4-49ca-9a46-bf533a96cbe1"
      },
      "source": [
        "# load the data set\n",
        "# As the parameter, the file path should be provided. Additionally, GitHub URL can also be provided as follows.\n",
        "df = pd.read_csv('https://raw.githubusercontent.com/HHansi/Applied-AI-Course/2021/NLP/data/reviews.csv')\n",
        "\n",
        "print(df.shape)\n",
        "df.head()"
      ],
      "execution_count": 2,
      "outputs": [
        {
          "output_type": "stream",
          "name": "stdout",
          "text": [
            "(20000, 3)\n"
          ]
        },
        {
          "output_type": "execute_result",
          "data": {
            "text/plain": [
              "   Id                                               Text Sentiment\n",
              "0   1  I have bought several of the Vitality canned d...  positive\n",
              "1   2  Product arrived labeled as Jumbo Salted Peanut...  negative\n",
              "2   3  This is a confection that has been around a fe...  positive\n",
              "3   4  If you are looking for the secret ingredient i...  negative\n",
              "4   5  Great taffy at a great price.  There was a wid...  positive"
            ],
            "text/html": [
              "\n",
              "  <div id=\"df-922627b0-0c8b-480c-ae9e-60fa2b7f5abe\">\n",
              "    <div class=\"colab-df-container\">\n",
              "      <div>\n",
              "<style scoped>\n",
              "    .dataframe tbody tr th:only-of-type {\n",
              "        vertical-align: middle;\n",
              "    }\n",
              "\n",
              "    .dataframe tbody tr th {\n",
              "        vertical-align: top;\n",
              "    }\n",
              "\n",
              "    .dataframe thead th {\n",
              "        text-align: right;\n",
              "    }\n",
              "</style>\n",
              "<table border=\"1\" class=\"dataframe\">\n",
              "  <thead>\n",
              "    <tr style=\"text-align: right;\">\n",
              "      <th></th>\n",
              "      <th>Id</th>\n",
              "      <th>Text</th>\n",
              "      <th>Sentiment</th>\n",
              "    </tr>\n",
              "  </thead>\n",
              "  <tbody>\n",
              "    <tr>\n",
              "      <th>0</th>\n",
              "      <td>1</td>\n",
              "      <td>I have bought several of the Vitality canned d...</td>\n",
              "      <td>positive</td>\n",
              "    </tr>\n",
              "    <tr>\n",
              "      <th>1</th>\n",
              "      <td>2</td>\n",
              "      <td>Product arrived labeled as Jumbo Salted Peanut...</td>\n",
              "      <td>negative</td>\n",
              "    </tr>\n",
              "    <tr>\n",
              "      <th>2</th>\n",
              "      <td>3</td>\n",
              "      <td>This is a confection that has been around a fe...</td>\n",
              "      <td>positive</td>\n",
              "    </tr>\n",
              "    <tr>\n",
              "      <th>3</th>\n",
              "      <td>4</td>\n",
              "      <td>If you are looking for the secret ingredient i...</td>\n",
              "      <td>negative</td>\n",
              "    </tr>\n",
              "    <tr>\n",
              "      <th>4</th>\n",
              "      <td>5</td>\n",
              "      <td>Great taffy at a great price.  There was a wid...</td>\n",
              "      <td>positive</td>\n",
              "    </tr>\n",
              "  </tbody>\n",
              "</table>\n",
              "</div>\n",
              "      <button class=\"colab-df-convert\" onclick=\"convertToInteractive('df-922627b0-0c8b-480c-ae9e-60fa2b7f5abe')\"\n",
              "              title=\"Convert this dataframe to an interactive table.\"\n",
              "              style=\"display:none;\">\n",
              "        \n",
              "  <svg xmlns=\"http://www.w3.org/2000/svg\" height=\"24px\"viewBox=\"0 0 24 24\"\n",
              "       width=\"24px\">\n",
              "    <path d=\"M0 0h24v24H0V0z\" fill=\"none\"/>\n",
              "    <path d=\"M18.56 5.44l.94 2.06.94-2.06 2.06-.94-2.06-.94-.94-2.06-.94 2.06-2.06.94zm-11 1L8.5 8.5l.94-2.06 2.06-.94-2.06-.94L8.5 2.5l-.94 2.06-2.06.94zm10 10l.94 2.06.94-2.06 2.06-.94-2.06-.94-.94-2.06-.94 2.06-2.06.94z\"/><path d=\"M17.41 7.96l-1.37-1.37c-.4-.4-.92-.59-1.43-.59-.52 0-1.04.2-1.43.59L10.3 9.45l-7.72 7.72c-.78.78-.78 2.05 0 2.83L4 21.41c.39.39.9.59 1.41.59.51 0 1.02-.2 1.41-.59l7.78-7.78 2.81-2.81c.8-.78.8-2.07 0-2.86zM5.41 20L4 18.59l7.72-7.72 1.47 1.35L5.41 20z\"/>\n",
              "  </svg>\n",
              "      </button>\n",
              "      \n",
              "  <style>\n",
              "    .colab-df-container {\n",
              "      display:flex;\n",
              "      flex-wrap:wrap;\n",
              "      gap: 12px;\n",
              "    }\n",
              "\n",
              "    .colab-df-convert {\n",
              "      background-color: #E8F0FE;\n",
              "      border: none;\n",
              "      border-radius: 50%;\n",
              "      cursor: pointer;\n",
              "      display: none;\n",
              "      fill: #1967D2;\n",
              "      height: 32px;\n",
              "      padding: 0 0 0 0;\n",
              "      width: 32px;\n",
              "    }\n",
              "\n",
              "    .colab-df-convert:hover {\n",
              "      background-color: #E2EBFA;\n",
              "      box-shadow: 0px 1px 2px rgba(60, 64, 67, 0.3), 0px 1px 3px 1px rgba(60, 64, 67, 0.15);\n",
              "      fill: #174EA6;\n",
              "    }\n",
              "\n",
              "    [theme=dark] .colab-df-convert {\n",
              "      background-color: #3B4455;\n",
              "      fill: #D2E3FC;\n",
              "    }\n",
              "\n",
              "    [theme=dark] .colab-df-convert:hover {\n",
              "      background-color: #434B5C;\n",
              "      box-shadow: 0px 1px 3px 1px rgba(0, 0, 0, 0.15);\n",
              "      filter: drop-shadow(0px 1px 2px rgba(0, 0, 0, 0.3));\n",
              "      fill: #FFFFFF;\n",
              "    }\n",
              "  </style>\n",
              "\n",
              "      <script>\n",
              "        const buttonEl =\n",
              "          document.querySelector('#df-922627b0-0c8b-480c-ae9e-60fa2b7f5abe button.colab-df-convert');\n",
              "        buttonEl.style.display =\n",
              "          google.colab.kernel.accessAllowed ? 'block' : 'none';\n",
              "\n",
              "        async function convertToInteractive(key) {\n",
              "          const element = document.querySelector('#df-922627b0-0c8b-480c-ae9e-60fa2b7f5abe');\n",
              "          const dataTable =\n",
              "            await google.colab.kernel.invokeFunction('convertToInteractive',\n",
              "                                                     [key], {});\n",
              "          if (!dataTable) return;\n",
              "\n",
              "          const docLinkHtml = 'Like what you see? Visit the ' +\n",
              "            '<a target=\"_blank\" href=https://colab.research.google.com/notebooks/data_table.ipynb>data table notebook</a>'\n",
              "            + ' to learn more about interactive tables.';\n",
              "          element.innerHTML = '';\n",
              "          dataTable['output_type'] = 'display_data';\n",
              "          await google.colab.output.renderOutput(dataTable, element);\n",
              "          const docLink = document.createElement('div');\n",
              "          docLink.innerHTML = docLinkHtml;\n",
              "          element.appendChild(docLink);\n",
              "        }\n",
              "      </script>\n",
              "    </div>\n",
              "  </div>\n",
              "  "
            ]
          },
          "metadata": {},
          "execution_count": 2
        }
      ]
    },
    {
      "cell_type": "code",
      "source": [
        "# Summarise class details\n",
        "sns.countplot(x=df['Sentiment'])"
      ],
      "metadata": {
        "colab": {
          "base_uri": "https://localhost:8080/",
          "height": 296
        },
        "id": "MDW91-PxlrMC",
        "outputId": "308920ae-2797-40f9-c565-76d8e67f0f50"
      },
      "execution_count": 3,
      "outputs": [
        {
          "output_type": "execute_result",
          "data": {
            "text/plain": [
              "<matplotlib.axes._subplots.AxesSubplot at 0x7f4565060850>"
            ]
          },
          "metadata": {},
          "execution_count": 3
        },
        {
          "output_type": "display_data",
          "data": {
            "text/plain": [
              "<Figure size 432x288 with 1 Axes>"
            ],
            "image/png": "[encoded data removed]"
          },
          "metadata": {
            "needs_background": "light"
          }
        }
      ]
    },
    {
      "cell_type": "markdown",
      "metadata": {
        "id": "PUqNa06H85M1"
      },
      "source": [
        "As we can see in the above output, there are 20,000 rows or reviews in this data set.\n",
        "\n",
        "The data set consists of 3 columns,\n",
        "- Id - Autogenerated incrementing number as row Id\n",
        "- Text - Review text\n",
        "- Sentiment - Label for sentiment (positive, negative)"
      ]
    },
    {
      "cell_type": "markdown",
      "metadata": {
        "id": "q1gpoTnPUxL4"
      },
      "source": [
        "# Data cleaning\n",
        "\n",
        "If there are any missing values in the data set, corresponding entries need to be removed, because we cannot apply any preprocessing on them or use them for the model. \n",
        "\n",
        "The data set has 20,000 entries. So, it is a tedious task to check each row to find whether there is any missing value. \n",
        "\n",
        "To do this filtering automatically, we use <i>dropna</i> function available with <i>pandas</i> library.\n",
        "\n",
        "More details about this function are available with this [tutorial](https://www.w3resource.com/pandas/dataframe/dataframe-dropna.php). "
      ]
    },
    {
      "cell_type": "code",
      "metadata": {
        "colab": {
          "base_uri": "https://localhost:8080/"
        },
        "id": "aGM4sA2aUvyB",
        "outputId": "8e09c3ec-688d-4302-8257-925977b23532"
      },
      "source": [
        "# drop the rows where at least one element is missing\n",
        "df = df.dropna()\n",
        "\n",
        "print(f'Number of entries: {len(df)}')"
      ],
      "execution_count": 4,
      "outputs": [
        {
          "output_type": "stream",
          "name": "stdout",
          "text": [
            "Number of entries: 20000\n"
          ]
        }
      ]
    },
    {
      "cell_type": "markdown",
      "metadata": {
        "id": "SY4RUHfSXwd8"
      },
      "source": [
        "Number of entries in the cleaned data set is similar to the number of entries in the original data set. That means there were no missing values in our data set."
      ]
    },
    {
      "cell_type": "markdown",
      "metadata": {
        "id": "4CUmK9uhUl3R"
      },
      "source": [
        "# Data preprocessing\n",
        "\n",
        "As data preprocessing techniques, we learned following.\n",
        "- Tokenisation\n",
        "- Text normalisation (lower casing, stemming and lemmatisation)\n",
        "- Stop word removal\n",
        "- Punctuation removal\n",
        "\n",
        "Let's go through each step and apply it to the data set, if it is necessary or important to the targeted problem.\n"
      ]
    },
    {
      "cell_type": "markdown",
      "metadata": {
        "id": "PHc6QXgdavXF"
      },
      "source": [
        "## Tokenisation\n",
        "\n",
        "The first thing to do with tokenisation is selecting a tokenizer model. \n",
        "\n",
        "Under Text Preprocessing, we learned about 2 tokenizers as follows.\n",
        "- *word_tokenize* - Tokenizer for normal text\n",
        "- *TweetTokenizer* - Tokenizer for tweets\n",
        "\n",
        "In this data set, we have normal text. Then we can use <i>word_tokenize</i>."
      ]
    },
    {
      "cell_type": "code",
      "metadata": {
        "colab": {
          "base_uri": "https://localhost:8080/",
          "height": 261
        },
        "id": "TILRZ0e4ZpHR",
        "outputId": "db5739a9-9275-4f6b-d399-0ed58c670c13"
      },
      "source": [
        "# iterate through each row in 'Text' columm and convert text to tokens\n",
        "list_tokenised_text = [word_tokenize(text) for text in df['Text']]\n",
        "print(list_tokenised_text[:2])\n",
        "\n",
        "list_tokenised_sentences = [' '.join(tokens) for tokens in list_tokenised_text]\n",
        "print(list_tokenised_sentences[:2])\n",
        "\n",
        "# add new column to data frame\n",
        "df['Tokenised_Text'] = list_tokenised_sentences\n",
        "df.head()"
      ],
      "execution_count": 5,
      "outputs": [
        {
          "output_type": "stream",
          "name": "stdout",
          "text": [
            "[['I', 'have', 'bought', 'several', 'of', 'the', 'Vitality', 'canned', 'dog', 'food', 'products', 'and', 'have', 'found', 'them', 'all', 'to', 'be', 'of', 'good', 'quality', '.', 'The', 'product', 'looks', 'more', 'like', 'a', 'stew', 'than', 'a', 'processed', 'meat', 'and', 'it', 'smells', 'better', '.', 'My', 'Labrador', 'is', 'finicky', 'and', 'she', 'appreciates', 'this', 'product', 'better', 'than', 'most', '.'], ['Product', 'arrived', 'labeled', 'as', 'Jumbo', 'Salted', 'Peanuts', '...', 'the', 'peanuts', 'were', 'actually', 'small', 'sized', 'unsalted', '.', 'Not', 'sure', 'if', 'this', 'was', 'an', 'error', 'or', 'if', 'the', 'vendor', 'intended', 'to', 'represent', 'the', 'product', 'as', '``', 'Jumbo', \"''\", '.']]\n",
            "['I have bought several of the Vitality canned dog food products and have found them all to be of good quality . The product looks more like a stew than a processed meat and it smells better . My Labrador is finicky and she appreciates this product better than most .', \"Product arrived labeled as Jumbo Salted Peanuts ... the peanuts were actually small sized unsalted . Not sure if this was an error or if the vendor intended to represent the product as `` Jumbo '' .\"]\n"
          ]
        },
        {
          "output_type": "execute_result",
          "data": {
            "text/plain": [
              "   Id                                               Text Sentiment  \\\n",
              "0   1  I have bought several of the Vitality canned d...  positive   \n",
              "1   2  Product arrived labeled as Jumbo Salted Peanut...  negative   \n",
              "2   3  This is a confection that has been around a fe...  positive   \n",
              "3   4  If you are looking for the secret ingredient i...  negative   \n",
              "4   5  Great taffy at a great price.  There was a wid...  positive   \n",
              "\n",
              "                                      Tokenised_Text  \n",
              "0  I have bought several of the Vitality canned d...  \n",
              "1  Product arrived labeled as Jumbo Salted Peanut...  \n",
              "2  This is a confection that has been around a fe...  \n",
              "3  If you are looking for the secret ingredient i...  \n",
              "4  Great taffy at a great price . There was a wid...  "
            ],
            "text/html": [
              "\n",
              "  <div id=\"df-1521172b-2fd6-46a6-8d49-3f7c1abde8e7\">\n",
              "    <div class=\"colab-df-container\">\n",
              "      <div>\n",
              "<style scoped>\n",
              "    .dataframe tbody tr th:only-of-type {\n",
              "        vertical-align: middle;\n",
              "    }\n",
              "\n",
              "    .dataframe tbody tr th {\n",
              "        vertical-align: top;\n",
              "    }\n",
              "\n",
              "    .dataframe thead th {\n",
              "        text-align: right;\n",
              "    }\n",
              "</style>\n",
              "<table border=\"1\" class=\"dataframe\">\n",
              "  <thead>\n",
              "    <tr style=\"text-align: right;\">\n",
              "      <th></th>\n",
              "      <th>Id</th>\n",
              "      <th>Text</th>\n",
              "      <th>Sentiment</th>\n",
              "      <th>Tokenised_Text</th>\n",
              "    </tr>\n",
              "  </thead>\n",
              "  <tbody>\n",
              "    <tr>\n",
              "      <th>0</th>\n",
              "      <td>1</td>\n",
              "      <td>I have bought several of the Vitality canned d...</td>\n",
              "      <td>positive</td>\n",
              "      <td>I have bought several of the Vitality canned d...</td>\n",
              "    </tr>\n",
              "    <tr>\n",
              "      <th>1</th>\n",
              "      <td>2</td>\n",
              "      <td>Product arrived labeled as Jumbo Salted Peanut...</td>\n",
              "      <td>negative</td>\n",
              "      <td>Product arrived labeled as Jumbo Salted Peanut...</td>\n",
              "    </tr>\n",
              "    <tr>\n",
              "      <th>2</th>\n",
              "      <td>3</td>\n",
              "      <td>This is a confection that has been around a fe...</td>\n",
              "      <td>positive</td>\n",
              "      <td>This is a confection that has been around a fe...</td>\n",
              "    </tr>\n",
              "    <tr>\n",
              "      <th>3</th>\n",
              "      <td>4</td>\n",
              "      <td>If you are looking for the secret ingredient i...</td>\n",
              "      <td>negative</td>\n",
              "      <td>If you are looking for the secret ingredient i...</td>\n",
              "    </tr>\n",
              "    <tr>\n",
              "      <th>4</th>\n",
              "      <td>5</td>\n",
              "      <td>Great taffy at a great price.  There was a wid...</td>\n",
              "      <td>positive</td>\n",
              "      <td>Great taffy at a great price . There was a wid...</td>\n",
              "    </tr>\n",
              "  </tbody>\n",
              "</table>\n",
              "</div>\n",
              "      <button class=\"colab-df-convert\" onclick=\"convertToInteractive('df-1521172b-2fd6-46a6-8d49-3f7c1abde8e7')\"\n",
              "              title=\"Convert this dataframe to an interactive table.\"\n",
              "              style=\"display:none;\">\n",
              "        \n",
              "  <svg xmlns=\"http://www.w3.org/2000/svg\" height=\"24px\"viewBox=\"0 0 24 24\"\n",
              "       width=\"24px\">\n",
              "    <path d=\"M0 0h24v24H0V0z\" fill=\"none\"/>\n",
              "    <path d=\"M18.56 5.44l.94 2.06.94-2.06 2.06-.94-2.06-.94-.94-2.06-.94 2.06-2.06.94zm-11 1L8.5 8.5l.94-2.06 2.06-.94-2.06-.94L8.5 2.5l-.94 2.06-2.06.94zm10 10l.94 2.06.94-2.06 2.06-.94-2.06-.94-.94-2.06-.94 2.06-2.06.94z\"/><path d=\"M17.41 7.96l-1.37-1.37c-.4-.4-.92-.59-1.43-.59-.52 0-1.04.2-1.43.59L10.3 9.45l-7.72 7.72c-.78.78-.78 2.05 0 2.83L4 21.41c.39.39.9.59 1.41.59.51 0 1.02-.2 1.41-.59l7.78-7.78 2.81-2.81c.8-.78.8-2.07 0-2.86zM5.41 20L4 18.59l7.72-7.72 1.47 1.35L5.41 20z\"/>\n",
              "  </svg>\n",
              "      </button>\n",
              "      \n",
              "  <style>\n",
              "    .colab-df-container {\n",
              "      display:flex;\n",
              "      flex-wrap:wrap;\n",
              "      gap: 12px;\n",
              "    }\n",
              "\n",
              "    .colab-df-convert {\n",
              "      background-color: #E8F0FE;\n",
              "      border: none;\n",
              "      border-radius: 50%;\n",
              "      cursor: pointer;\n",
              "      display: none;\n",
              "      fill: #1967D2;\n",
              "      height: 32px;\n",
              "      padding: 0 0 0 0;\n",
              "      width: 32px;\n",
              "    }\n",
              "\n",
              "    .colab-df-convert:hover {\n",
              "      background-color: #E2EBFA;\n",
              "      box-shadow: 0px 1px 2px rgba(60, 64, 67, 0.3), 0px 1px 3px 1px rgba(60, 64, 67, 0.15);\n",
              "      fill: #174EA6;\n",
              "    }\n",
              "\n",
              "    [theme=dark] .colab-df-convert {\n",
              "      background-color: #3B4455;\n",
              "      fill: #D2E3FC;\n",
              "    }\n",
              "\n",
              "    [theme=dark] .colab-df-convert:hover {\n",
              "      background-color: #434B5C;\n",
              "      box-shadow: 0px 1px 3px 1px rgba(0, 0, 0, 0.15);\n",
              "      filter: drop-shadow(0px 1px 2px rgba(0, 0, 0, 0.3));\n",
              "      fill: #FFFFFF;\n",
              "    }\n",
              "  </style>\n",
              "\n",
              "      <script>\n",
              "        const buttonEl =\n",
              "          document.querySelector('#df-1521172b-2fd6-46a6-8d49-3f7c1abde8e7 button.colab-df-convert');\n",
              "        buttonEl.style.display =\n",
              "          google.colab.kernel.accessAllowed ? 'block' : 'none';\n",
              "\n",
              "        async function convertToInteractive(key) {\n",
              "          const element = document.querySelector('#df-1521172b-2fd6-46a6-8d49-3f7c1abde8e7');\n",
              "          const dataTable =\n",
              "            await google.colab.kernel.invokeFunction('convertToInteractive',\n",
              "                                                     [key], {});\n",
              "          if (!dataTable) return;\n",
              "\n",
              "          const docLinkHtml = 'Like what you see? Visit the ' +\n",
              "            '<a target=\"_blank\" href=https://colab.research.google.com/notebooks/data_table.ipynb>data table notebook</a>'\n",
              "            + ' to learn more about interactive tables.';\n",
              "          element.innerHTML = '';\n",
              "          dataTable['output_type'] = 'display_data';\n",
              "          await google.colab.output.renderOutput(dataTable, element);\n",
              "          const docLink = document.createElement('div');\n",
              "          docLink.innerHTML = docLinkHtml;\n",
              "          element.appendChild(docLink);\n",
              "        }\n",
              "      </script>\n",
              "    </div>\n",
              "  </div>\n",
              "  "
            ]
          },
          "metadata": {},
          "execution_count": 5
        }
      ]
    },
    {
      "cell_type": "markdown",
      "metadata": {
        "id": "0rwODa2SbqTk"
      },
      "source": [
        "## Text normalisation\n",
        "\n",
        "Under text normalisation, we discussed about 3 techniques; lower casing, stemming and lemmatisation.\n",
        "\n",
        "Lower casing can be easily done by setting an argument in vectorizer.\n",
        "\n",
        "Among stemming and lemmatisation, we will focus on lemmatisation in this tutorial because it is the more organised procedure."
      ]
    },
    {
      "cell_type": "code",
      "metadata": {
        "colab": {
          "base_uri": "https://localhost:8080/",
          "height": 287
        },
        "id": "M5XRnEWZbq3v",
        "outputId": "7ecad28a-d8e4-4035-b4ca-80f048e965c5"
      },
      "source": [
        "wnl = WordNetLemmatizer()\n",
        "\n",
        "list_lemmatised_sentences = []\n",
        "\n",
        "# iterate through each list of tokens and lemmatise the tokens\n",
        "for tokens in list_tokenised_text:\n",
        "  lemma_words = [wnl.lemmatize(word) for word in tokens]\n",
        "  lemma_sentence = ' '.join(lemma_words)\n",
        "  list_lemmatised_sentences.append(lemma_sentence)\n",
        "  \n",
        "print(list_lemmatised_sentences[:2])\n",
        "\n",
        "# add new column to data frame\n",
        "df['Lemmatised_Text'] = list_lemmatised_sentences\n",
        "\n",
        "df.head()"
      ],
      "execution_count": 6,
      "outputs": [
        {
          "output_type": "stream",
          "name": "stdout",
          "text": [
            "['I have bought several of the Vitality canned dog food product and have found them all to be of good quality . The product look more like a stew than a processed meat and it smell better . My Labrador is finicky and she appreciates this product better than most .', \"Product arrived labeled a Jumbo Salted Peanuts ... the peanut were actually small sized unsalted . Not sure if this wa an error or if the vendor intended to represent the product a `` Jumbo '' .\"]\n"
          ]
        },
        {
          "output_type": "execute_result",
          "data": {
            "text/plain": [
              "   Id                                               Text Sentiment  \\\n",
              "0   1  I have bought several of the Vitality canned d...  positive   \n",
              "1   2  Product arrived labeled as Jumbo Salted Peanut...  negative   \n",
              "2   3  This is a confection that has been around a fe...  positive   \n",
              "3   4  If you are looking for the secret ingredient i...  negative   \n",
              "4   5  Great taffy at a great price.  There was a wid...  positive   \n",
              "\n",
              "                                      Tokenised_Text  \\\n",
              "0  I have bought several of the Vitality canned d...   \n",
              "1  Product arrived labeled as Jumbo Salted Peanut...   \n",
              "2  This is a confection that has been around a fe...   \n",
              "3  If you are looking for the secret ingredient i...   \n",
              "4  Great taffy at a great price . There was a wid...   \n",
              "\n",
              "                                     Lemmatised_Text  \n",
              "0  I have bought several of the Vitality canned d...  \n",
              "1  Product arrived labeled a Jumbo Salted Peanuts...  \n",
              "2  This is a confection that ha been around a few...  \n",
              "3  If you are looking for the secret ingredient i...  \n",
              "4  Great taffy at a great price . There wa a wide...  "
            ],
            "text/html": [
              "\n",
              "  <div id=\"df-4987a94d-2b55-4219-8cdb-e4e3e3b29423\">\n",
              "    <div class=\"colab-df-container\">\n",
              "      <div>\n",
              "<style scoped>\n",
              "    .dataframe tbody tr th:only-of-type {\n",
              "        vertical-align: middle;\n",
              "    }\n",
              "\n",
              "    .dataframe tbody tr th {\n",
              "        vertical-align: top;\n",
              "    }\n",
              "\n",
              "    .dataframe thead th {\n",
              "        text-align: right;\n",
              "    }\n",
              "</style>\n",
              "<table border=\"1\" class=\"dataframe\">\n",
              "  <thead>\n",
              "    <tr style=\"text-align: right;\">\n",
              "      <th></th>\n",
              "      <th>Id</th>\n",
              "      <th>Text</th>\n",
              "      <th>Sentiment</th>\n",
              "      <th>Tokenised_Text</th>\n",
              "      <th>Lemmatised_Text</th>\n",
              "    </tr>\n",
              "  </thead>\n",
              "  <tbody>\n",
              "    <tr>\n",
              "      <th>0</th>\n",
              "      <td>1</td>\n",
              "      <td>I have bought several of the Vitality canned d...</td>\n",
              "      <td>positive</td>\n",
              "      <td>I have bought several of the Vitality canned d...</td>\n",
              "      <td>I have bought several of the Vitality canned d...</td>\n",
              "    </tr>\n",
              "    <tr>\n",
              "      <th>1</th>\n",
              "      <td>2</td>\n",
              "      <td>Product arrived labeled as Jumbo Salted Peanut...</td>\n",
              "      <td>negative</td>\n",
              "      <td>Product arrived labeled as Jumbo Salted Peanut...</td>\n",
              "      <td>Product arrived labeled a Jumbo Salted Peanuts...</td>\n",
              "    </tr>\n",
              "    <tr>\n",
              "      <th>2</th>\n",
              "      <td>3</td>\n",
              "      <td>This is a confection that has been around a fe...</td>\n",
              "      <td>positive</td>\n",
              "      <td>This is a confection that has been around a fe...</td>\n",
              "      <td>This is a confection that ha been around a few...</td>\n",
              "    </tr>\n",
              "    <tr>\n",
              "      <th>3</th>\n",
              "      <td>4</td>\n",
              "      <td>If you are looking for the secret ingredient i...</td>\n",
              "      <td>negative</td>\n",
              "      <td>If you are looking for the secret ingredient i...</td>\n",
              "      <td>If you are looking for the secret ingredient i...</td>\n",
              "    </tr>\n",
              "    <tr>\n",
              "      <th>4</th>\n",
              "      <td>5</td>\n",
              "      <td>Great taffy at a great price.  There was a wid...</td>\n",
              "      <td>positive</td>\n",
              "      <td>Great taffy at a great price . There was a wid...</td>\n",
              "      <td>Great taffy at a great price . There wa a wide...</td>\n",
              "    </tr>\n",
              "  </tbody>\n",
              "</table>\n",
              "</div>\n",
              "      <button class=\"colab-df-convert\" onclick=\"convertToInteractive('df-4987a94d-2b55-4219-8cdb-e4e3e3b29423')\"\n",
              "              title=\"Convert this dataframe to an interactive table.\"\n",
              "              style=\"display:none;\">\n",
              "        \n",
              "  <svg xmlns=\"http://www.w3.org/2000/svg\" height=\"24px\"viewBox=\"0 0 24 24\"\n",
              "       width=\"24px\">\n",
              "    <path d=\"M0 0h24v24H0V0z\" fill=\"none\"/>\n",
              "    <path d=\"M18.56 5.44l.94 2.06.94-2.06 2.06-.94-2.06-.94-.94-2.06-.94 2.06-2.06.94zm-11 1L8.5 8.5l.94-2.06 2.06-.94-2.06-.94L8.5 2.5l-.94 2.06-2.06.94zm10 10l.94 2.06.94-2.06 2.06-.94-2.06-.94-.94-2.06-.94 2.06-2.06.94z\"/><path d=\"M17.41 7.96l-1.37-1.37c-.4-.4-.92-.59-1.43-.59-.52 0-1.04.2-1.43.59L10.3 9.45l-7.72 7.72c-.78.78-.78 2.05 0 2.83L4 21.41c.39.39.9.59 1.41.59.51 0 1.02-.2 1.41-.59l7.78-7.78 2.81-2.81c.8-.78.8-2.07 0-2.86zM5.41 20L4 18.59l7.72-7.72 1.47 1.35L5.41 20z\"/>\n",
              "  </svg>\n",
              "      </button>\n",
              "      \n",
              "  <style>\n",
              "    .colab-df-container {\n",
              "      display:flex;\n",
              "      flex-wrap:wrap;\n",
              "      gap: 12px;\n",
              "    }\n",
              "\n",
              "    .colab-df-convert {\n",
              "      background-color: #E8F0FE;\n",
              "      border: none;\n",
              "      border-radius: 50%;\n",
              "      cursor: pointer;\n",
              "      display: none;\n",
              "      fill: #1967D2;\n",
              "      height: 32px;\n",
              "      padding: 0 0 0 0;\n",
              "      width: 32px;\n",
              "    }\n",
              "\n",
              "    .colab-df-convert:hover {\n",
              "      background-color: #E2EBFA;\n",
              "      box-shadow: 0px 1px 2px rgba(60, 64, 67, 0.3), 0px 1px 3px 1px rgba(60, 64, 67, 0.15);\n",
              "      fill: #174EA6;\n",
              "    }\n",
              "\n",
              "    [theme=dark] .colab-df-convert {\n",
              "      background-color: #3B4455;\n",
              "      fill: #D2E3FC;\n",
              "    }\n",
              "\n",
              "    [theme=dark] .colab-df-convert:hover {\n",
              "      background-color: #434B5C;\n",
              "      box-shadow: 0px 1px 3px 1px rgba(0, 0, 0, 0.15);\n",
              "      filter: drop-shadow(0px 1px 2px rgba(0, 0, 0, 0.3));\n",
              "      fill: #FFFFFF;\n",
              "    }\n",
              "  </style>\n",
              "\n",
              "      <script>\n",
              "        const buttonEl =\n",
              "          document.querySelector('#df-4987a94d-2b55-4219-8cdb-e4e3e3b29423 button.colab-df-convert');\n",
              "        buttonEl.style.display =\n",
              "          google.colab.kernel.accessAllowed ? 'block' : 'none';\n",
              "\n",
              "        async function convertToInteractive(key) {\n",
              "          const element = document.querySelector('#df-4987a94d-2b55-4219-8cdb-e4e3e3b29423');\n",
              "          const dataTable =\n",
              "            await google.colab.kernel.invokeFunction('convertToInteractive',\n",
              "                                                     [key], {});\n",
              "          if (!dataTable) return;\n",
              "\n",
              "          const docLinkHtml = 'Like what you see? Visit the ' +\n",
              "            '<a target=\"_blank\" href=https://colab.research.google.com/notebooks/data_table.ipynb>data table notebook</a>'\n",
              "            + ' to learn more about interactive tables.';\n",
              "          element.innerHTML = '';\n",
              "          dataTable['output_type'] = 'display_data';\n",
              "          await google.colab.output.renderOutput(dataTable, element);\n",
              "          const docLink = document.createElement('div');\n",
              "          docLink.innerHTML = docLinkHtml;\n",
              "          element.appendChild(docLink);\n",
              "        }\n",
              "      </script>\n",
              "    </div>\n",
              "  </div>\n",
              "  "
            ]
          },
          "metadata": {},
          "execution_count": 6
        }
      ]
    },
    {
      "cell_type": "code",
      "metadata": {
        "colab": {
          "base_uri": "https://localhost:8080/",
          "height": 250
        },
        "id": "KfD-z-7orwu3",
        "outputId": "11217788-aa63-4de3-d3bd-d7df933456ee"
      },
      "source": [
        "# save updated data frame to a file\n",
        "# This step is optional for the main flow. But by saving data to a file you can analyse the preprocessed text output more deeply. \n",
        "df.to_csv('/content/reviews_preprocessed.csv', index=False)\n",
        "\n",
        "df.head()"
      ],
      "execution_count": 7,
      "outputs": [
        {
          "output_type": "execute_result",
          "data": {
            "text/plain": [
              "   Id                                               Text Sentiment  \\\n",
              "0   1  I have bought several of the Vitality canned d...  positive   \n",
              "1   2  Product arrived labeled as Jumbo Salted Peanut...  negative   \n",
              "2   3  This is a confection that has been around a fe...  positive   \n",
              "3   4  If you are looking for the secret ingredient i...  negative   \n",
              "4   5  Great taffy at a great price.  There was a wid...  positive   \n",
              "\n",
              "                                      Tokenised_Text  \\\n",
              "0  I have bought several of the Vitality canned d...   \n",
              "1  Product arrived labeled as Jumbo Salted Peanut...   \n",
              "2  This is a confection that has been around a fe...   \n",
              "3  If you are looking for the secret ingredient i...   \n",
              "4  Great taffy at a great price . There was a wid...   \n",
              "\n",
              "                                     Lemmatised_Text  \n",
              "0  I have bought several of the Vitality canned d...  \n",
              "1  Product arrived labeled a Jumbo Salted Peanuts...  \n",
              "2  This is a confection that ha been around a few...  \n",
              "3  If you are looking for the secret ingredient i...  \n",
              "4  Great taffy at a great price . There wa a wide...  "
            ],
            "text/html": [
              "\n",
              "  <div id=\"df-a53098bc-255e-4f9c-9bc6-f0424edb4cb9\">\n",
              "    <div class=\"colab-df-container\">\n",
              "      <div>\n",
              "<style scoped>\n",
              "    .dataframe tbody tr th:only-of-type {\n",
              "        vertical-align: middle;\n",
              "    }\n",
              "\n",
              "    .dataframe tbody tr th {\n",
              "        vertical-align: top;\n",
              "    }\n",
              "\n",
              "    .dataframe thead th {\n",
              "        text-align: right;\n",
              "    }\n",
              "</style>\n",
              "<table border=\"1\" class=\"dataframe\">\n",
              "  <thead>\n",
              "    <tr style=\"text-align: right;\">\n",
              "      <th></th>\n",
              "      <th>Id</th>\n",
              "      <th>Text</th>\n",
              "      <th>Sentiment</th>\n",
              "      <th>Tokenised_Text</th>\n",
              "      <th>Lemmatised_Text</th>\n",
              "    </tr>\n",
              "  </thead>\n",
              "  <tbody>\n",
              "    <tr>\n",
              "      <th>0</th>\n",
              "      <td>1</td>\n",
              "      <td>I have bought several of the Vitality canned d...</td>\n",
              "      <td>positive</td>\n",
              "      <td>I have bought several of the Vitality canned d...</td>\n",
              "      <td>I have bought several of the Vitality canned d...</td>\n",
              "    </tr>\n",
              "    <tr>\n",
              "      <th>1</th>\n",
              "      <td>2</td>\n",
              "      <td>Product arrived labeled as Jumbo Salted Peanut...</td>\n",
              "      <td>negative</td>\n",
              "      <td>Product arrived labeled as Jumbo Salted Peanut...</td>\n",
              "      <td>Product arrived labeled a Jumbo Salted Peanuts...</td>\n",
              "    </tr>\n",
              "    <tr>\n",
              "      <th>2</th>\n",
              "      <td>3</td>\n",
              "      <td>This is a confection that has been around a fe...</td>\n",
              "      <td>positive</td>\n",
              "      <td>This is a confection that has been around a fe...</td>\n",
              "      <td>This is a confection that ha been around a few...</td>\n",
              "    </tr>\n",
              "    <tr>\n",
              "      <th>3</th>\n",
              "      <td>4</td>\n",
              "      <td>If you are looking for the secret ingredient i...</td>\n",
              "      <td>negative</td>\n",
              "      <td>If you are looking for the secret ingredient i...</td>\n",
              "      <td>If you are looking for the secret ingredient i...</td>\n",
              "    </tr>\n",
              "    <tr>\n",
              "      <th>4</th>\n",
              "      <td>5</td>\n",
              "      <td>Great taffy at a great price.  There was a wid...</td>\n",
              "      <td>positive</td>\n",
              "      <td>Great taffy at a great price . There was a wid...</td>\n",
              "      <td>Great taffy at a great price . There wa a wide...</td>\n",
              "    </tr>\n",
              "  </tbody>\n",
              "</table>\n",
              "</div>\n",
              "      <button class=\"colab-df-convert\" onclick=\"convertToInteractive('df-a53098bc-255e-4f9c-9bc6-f0424edb4cb9')\"\n",
              "              title=\"Convert this dataframe to an interactive table.\"\n",
              "              style=\"display:none;\">\n",
              "        \n",
              "  <svg xmlns=\"http://www.w3.org/2000/svg\" height=\"24px\"viewBox=\"0 0 24 24\"\n",
              "       width=\"24px\">\n",
              "    <path d=\"M0 0h24v24H0V0z\" fill=\"none\"/>\n",
              "    <path d=\"M18.56 5.44l.94 2.06.94-2.06 2.06-.94-2.06-.94-.94-2.06-.94 2.06-2.06.94zm-11 1L8.5 8.5l.94-2.06 2.06-.94-2.06-.94L8.5 2.5l-.94 2.06-2.06.94zm10 10l.94 2.06.94-2.06 2.06-.94-2.06-.94-.94-2.06-.94 2.06-2.06.94z\"/><path d=\"M17.41 7.96l-1.37-1.37c-.4-.4-.92-.59-1.43-.59-.52 0-1.04.2-1.43.59L10.3 9.45l-7.72 7.72c-.78.78-.78 2.05 0 2.83L4 21.41c.39.39.9.59 1.41.59.51 0 1.02-.2 1.41-.59l7.78-7.78 2.81-2.81c.8-.78.8-2.07 0-2.86zM5.41 20L4 18.59l7.72-7.72 1.47 1.35L5.41 20z\"/>\n",
              "  </svg>\n",
              "      </button>\n",
              "      \n",
              "  <style>\n",
              "    .colab-df-container {\n",
              "      display:flex;\n",
              "      flex-wrap:wrap;\n",
              "      gap: 12px;\n",
              "    }\n",
              "\n",
              "    .colab-df-convert {\n",
              "      background-color: #E8F0FE;\n",
              "      border: none;\n",
              "      border-radius: 50%;\n",
              "      cursor: pointer;\n",
              "      display: none;\n",
              "      fill: #1967D2;\n",
              "      height: 32px;\n",
              "      padding: 0 0 0 0;\n",
              "      width: 32px;\n",
              "    }\n",
              "\n",
              "    .colab-df-convert:hover {\n",
              "      background-color: #E2EBFA;\n",
              "      box-shadow: 0px 1px 2px rgba(60, 64, 67, 0.3), 0px 1px 3px 1px rgba(60, 64, 67, 0.15);\n",
              "      fill: #174EA6;\n",
              "    }\n",
              "\n",
              "    [theme=dark] .colab-df-convert {\n",
              "      background-color: #3B4455;\n",
              "      fill: #D2E3FC;\n",
              "    }\n",
              "\n",
              "    [theme=dark] .colab-df-convert:hover {\n",
              "      background-color: #434B5C;\n",
              "      box-shadow: 0px 1px 3px 1px rgba(0, 0, 0, 0.15);\n",
              "      filter: drop-shadow(0px 1px 2px rgba(0, 0, 0, 0.3));\n",
              "      fill: #FFFFFF;\n",
              "    }\n",
              "  </style>\n",
              "\n",
              "      <script>\n",
              "        const buttonEl =\n",
              "          document.querySelector('#df-a53098bc-255e-4f9c-9bc6-f0424edb4cb9 button.colab-df-convert');\n",
              "        buttonEl.style.display =\n",
              "          google.colab.kernel.accessAllowed ? 'block' : 'none';\n",
              "\n",
              "        async function convertToInteractive(key) {\n",
              "          const element = document.querySelector('#df-a53098bc-255e-4f9c-9bc6-f0424edb4cb9');\n",
              "          const dataTable =\n",
              "            await google.colab.kernel.invokeFunction('convertToInteractive',\n",
              "                                                     [key], {});\n",
              "          if (!dataTable) return;\n",
              "\n",
              "          const docLinkHtml = 'Like what you see? Visit the ' +\n",
              "            '<a target=\"_blank\" href=https://colab.research.google.com/notebooks/data_table.ipynb>data table notebook</a>'\n",
              "            + ' to learn more about interactive tables.';\n",
              "          element.innerHTML = '';\n",
              "          dataTable['output_type'] = 'display_data';\n",
              "          await google.colab.output.renderOutput(dataTable, element);\n",
              "          const docLink = document.createElement('div');\n",
              "          docLink.innerHTML = docLinkHtml;\n",
              "          element.appendChild(docLink);\n",
              "        }\n",
              "      </script>\n",
              "    </div>\n",
              "  </div>\n",
              "  "
            ]
          },
          "metadata": {},
          "execution_count": 7
        }
      ]
    },
    {
      "cell_type": "markdown",
      "metadata": {
        "id": "iI2Tfru-ib2n"
      },
      "source": [
        "## Stop word removal\n",
        "\n",
        "To convert text into numeric features, we use vectorizers (CountVectorizer, TfidfVectorizer). Stop word removal can be easily done by giving a stop word list as an argument to the vectorizer. So, during the preprocessing step, we need to figure out a suitable stop word list.\n",
        "\n",
        "Let's look at the English stop words list available with NLTK library."
      ]
    },
    {
      "cell_type": "code",
      "metadata": {
        "colab": {
          "base_uri": "https://localhost:8080/"
        },
        "id": "5NqYDVZwiTUx",
        "outputId": "bebf8378-e507-4bc8-d88c-5563553e9b99"
      },
      "source": [
        "# get English stopwords\n",
        "stop_words = set(stopwords.words('english')) \n",
        "print(stop_words)"
      ],
      "execution_count": 8,
      "outputs": [
        {
          "output_type": "stream",
          "name": "stdout",
          "text": [
            "{'than', 'having', 'most', 'does', 't', 'what', 'very', 'each', 'through', 'be', 'your', \"should've\", \"shouldn't\", 'he', 'why', 'off', 'about', 'then', 'this', 'you', 'which', 'yours', \"needn't\", 'with', 'here', 'myself', 'under', 'mightn', \"mustn't\", \"shan't\", 'same', \"you're\", 'won', 'into', 'an', 'by', 'out', 'aren', 'those', 'needn', 'itself', \"it's\", 'them', 'been', 'now', \"isn't\", 'are', \"hadn't\", 'herself', 'against', 'both', 'on', 'hasn', 'they', 'being', 'whom', 'other', 'nor', \"doesn't\", 'didn', \"haven't\", 'should', 'of', 'because', 'up', 'yourself', 'more', 'am', 'to', 'our', 'for', 'm', 'me', 'but', \"don't\", 'that', 'his', 'until', 'had', \"hasn't\", 'couldn', 'some', 'just', 'll', 'hers', 'mustn', 'd', 'yourselves', 'before', 'it', 'haven', \"mightn't\", 'shan', 'a', 'were', 'such', 'hadn', 'all', 'doesn', \"you've\", 'or', 'isn', 'wouldn', 'how', 'theirs', 'where', 'ain', 're', 'while', 'below', 'and', 've', 'above', \"aren't\", 'their', 'is', 'in', 'own', 'so', 'once', 'my', 'o', 'y', 'again', 'ourselves', \"won't\", 'did', 'down', \"wasn't\", 's', 'do', \"couldn't\", 'we', 'him', 'don', 'she', 'can', 'there', \"you'll\", 'was', 'ours', 'if', 'during', 'doing', 'who', 'has', 'weren', \"you'd\", 'at', 'when', 'any', 'no', 'as', 'further', 'over', 'the', 'these', 'wasn', \"wouldn't\", 'himself', 'themselves', \"weren't\", 'her', 'only', 'ma', 'from', 'i', 'after', 'its', 'too', \"didn't\", 'have', 'between', 'few', 'not', 'will', \"she's\", 'shouldn', \"that'll\"}\n"
          ]
        }
      ]
    },
    {
      "cell_type": "markdown",
      "metadata": {
        "id": "YWw85WnWjMgf"
      },
      "source": [
        "<b>Is the above list suitable for this analysis? </b>\n",
        "\n",
        "The above list contains the words <i>no, not, aren't, isn't</i>, etc. which are commonly used to express negative sentiment. By removing them, some important tokens will be removed. \n",
        "\n",
        "Therefore, stop word removal using the above list is not appropriate for this analysis. This inappropriateness will be further confirmed with the model accuracies reported below. In such scenarios, you should either change the list to make it suitable for the analysis or skip stop word removal preprocessing step. \n",
        "\n",
        "<b>REMEMBER!</b> Even though the stop word removal is not appropriate for this analysis, there are lot of text analysis tasks which need this step.\n"
      ]
    },
    {
      "cell_type": "markdown",
      "metadata": {
        "id": "nh7Ksh4IrDvM"
      },
      "source": [
        "## Punctuation removal\n",
        "\n",
        "To convert text into numeric features, we use vectorizers (CountVectorizer, TfidfVectorizer). As we already learned, punctuation removal can be easily handled with the vectorizer. Thus, no any preprocessing step is needed."
      ]
    },
    {
      "cell_type": "markdown",
      "metadata": {
        "id": "F8oyh3qWr8lc"
      },
      "source": [
        "## Summary\n",
        "We went through all text preprocessing steps, discussed their appropriateness  and applied them to the data set.\n",
        "\n",
        "In summary, now we have a data frame named <i>df</i> with following columns.\n",
        "- 'Id' - Ids\n",
        "- 'Text' - original text data\n",
        "- 'Sentiment' - labels\n",
        "- 'Tokenised_Text' - tokenised text\n",
        "- 'Lemmatised_Text' - lemmatised text\n",
        "\n",
        "Also a list of stop words (stop_words)."
      ]
    },
    {
      "cell_type": "markdown",
      "metadata": {
        "id": "2qcf5XZXt7uR"
      },
      "source": [
        "# Text feature extraction and model generation\n",
        "\n",
        "We can convert text into numeric features using term occurrence vectors or tf-idf vectors. This conversion can be easily done using CountVectorizer or TfidfVectorizer.\n",
        "\n",
        "As classification algorithms, you learned SVM, Naive Bayes and decision trees under Machine Learning module. To make things simpler, let's focus on SVM for our initial experiments to understand the impact by different data preprocessing techniques and features. Later we can extend the experiments to other algorithms. \n",
        "\n"
      ]
    },
    {
      "cell_type": "markdown",
      "metadata": {
        "id": "pl66ltnCepjp"
      },
      "source": [
        "Looking at available data preprocessing techniques and features, we can make different combinations to tryout different models.\n",
        "\n",
        "To make things clear, I am using lower casing and punctuation removal as default preprocessing steps and any changes other than that are mentioned in the table. \n",
        "\n",
        "|Model | Data Preprocessing | Features   |\n",
        "|------|--------------------|------------|\n",
        "|M1    |-| term occurrence vector(1-grams) | \n",
        "|M2    |-| tf-idf vector(1-grams) | \n",
        "|M3    |tokenisation(NLTK) | <i> \\<best amoung M1 and M2\\> | \n",
        "|M4    |lemmatisation(WordNet) | <i> \\<best amoung M1 and M2\\> |\n",
        "|M5    |tokenisation(NLTK), stop word removal | <i> \\<best amoung M1 and M2\\> | \n",
        "|M6    |lemmatisation(WordNet), stop word removal | <i> \\<best amoung M1 and M2\\> |\n",
        "\n",
        "Initially we will compare the performance of  term occurrence vectors and tf-idf vectors. Then the best vector representation will be used with other data preprocessing techniques. \n",
        "\n",
        "Let's follow these combinations and check their impact on model accuracy.\n",
        "\n",
        "<b>NOTE!</b> All combinations are not listed here."
      ]
    },
    {
      "cell_type": "markdown",
      "metadata": {
        "id": "xGsf5eW4lpM2"
      },
      "source": [
        "As the first step, we need to separate data into a training set and validation set.\n",
        "\n",
        "Since we are going to evaluate the models trained using raw (original) text, tokenised text and lemmatised text, in below, I create 3 train and test set pairs using the columns: 'Text', 'Tokenised_Text' and 'Lemmatised_Text'."
      ]
    },
    {
      "cell_type": "code",
      "metadata": {
        "colab": {
          "base_uri": "https://localhost:8080/"
        },
        "id": "6ESYYpOPlkxr",
        "outputId": "ff7949c3-370c-4643-afe5-0c5a50cd0350"
      },
      "source": [
        "# use raw text\n",
        "X_train_text, X_val_text, y_train, y_val = train_test_split(df['Text'], df['Sentiment'], test_size=0.3, random_state=RANDOM_SEED)\n",
        "print(f'training data set size: {len(X_train_text)}')\n",
        "print(f'validation data set size: {len(X_val_text)}')\n",
        "\n",
        "# use tokenised text\n",
        "X_train_tokenised_text, X_val_tokenised_text, y_train, y_val = train_test_split(df['Tokenised_Text'], df['Sentiment'], test_size=0.3, random_state=RANDOM_SEED)\n",
        "print(f'training data set size: {len(X_train_tokenised_text)}')\n",
        "print(f'validation data set size: {len(X_val_tokenised_text)}')\n",
        "\n",
        "# use lemmatised text\n",
        "X_train_lemmatised_text, X_val_lemmatised_text, y_train, y_val = train_test_split(df['Lemmatised_Text'], df['Sentiment'], test_size=0.3, random_state=RANDOM_SEED)\n",
        "print(f'training data set size: {len(X_train_lemmatised_text)}')\n",
        "print(f'validation data set size: {len(X_val_lemmatised_text)}')\n",
        "\n",
        "# define class_names to using with plot_confusion_matrix\n",
        "class_list = ['positive', 'negative']"
      ],
      "execution_count": 9,
      "outputs": [
        {
          "output_type": "stream",
          "name": "stdout",
          "text": [
            "training data set size: 14000\n",
            "validation data set size: 6000\n",
            "training data set size: 14000\n",
            "validation data set size: 6000\n",
            "training data set size: 14000\n",
            "validation data set size: 6000\n"
          ]
        }
      ]
    },
    {
      "cell_type": "code",
      "metadata": {
        "id": "M9ur6ln6ayjX"
      },
      "source": [
        "# method to plot confusion matrix\n",
        "def plot_confusion_matrix(matrix, class_names):\n",
        "    plt.clf()\n",
        "    plt.imshow(matrix, interpolation='nearest', cmap=plt.cm.Set2_r)\n",
        "    plt.title('Confusion Matrix')\n",
        "    plt.ylabel('Actual')\n",
        "    plt.xlabel('Predicted')\n",
        "    tick_marks = np.arange(len(class_names))\n",
        "    plt.xticks(tick_marks, class_names)\n",
        "    plt.yticks(tick_marks, class_names)\n",
        "    s = [['TP','FP'], ['FN', 'TN']]\n",
        "\n",
        "    for i in range(2):\n",
        "        for j in range(2):\n",
        "            plt.text(j,i, str(s[i][j])+\" = \"+str(matrix[i][j]))\n",
        "    plt.show()\n",
        "\n",
        "# method to calculate evaluation results\n",
        "def evaluate(actuals, predictions, class_names):\n",
        "  accuracy = metrics.accuracy_score(actuals, predictions)\n",
        "  confusion_matrix = metrics.confusion_matrix(actuals, predictions, labels=class_names)\n",
        "  return accuracy, confusion_matrix"
      ],
      "execution_count": 10,
      "outputs": []
    },
    {
      "cell_type": "markdown",
      "metadata": {
        "id": "V-afXrnwWWwU"
      },
      "source": [
        "## SVM"
      ]
    },
    {
      "cell_type": "code",
      "metadata": {
        "id": "RzpTMkyqa0Zj"
      },
      "source": [
        "# method to train and predict using SVM classifier\n",
        "def get_svm_predictions(X_train, X_val, y_train, y_val, class_names):\n",
        "  # build model\n",
        "  clf = svm.SVC(kernel='linear', random_state=RANDOM_SEED) \n",
        "  clf.fit(X_train, y_train)\n",
        "\n",
        "  # Make predictions on test data\n",
        "  y_pred = clf.predict(X_val)\n",
        "\n",
        "  # evalution\n",
        "  accuracy, confusion_matrix = evaluate(y_val, y_pred, class_names)\n",
        "  print(f'Accuracy: {accuracy}')\n",
        "  plot_confusion_matrix(confusion_matrix, class_names)\n",
        "\n",
        "  return clf"
      ],
      "execution_count": 11,
      "outputs": []
    },
    {
      "cell_type": "markdown",
      "metadata": {
        "id": "5D7Xhvta2hRL"
      },
      "source": [
        "### Model M1\n",
        "\n",
        "* Data preprocessing - lower casing, punctuation removal\n",
        "* Features - term occurrence vector (1-grams)\n",
        "* Algorithm - SVM"
      ]
    },
    {
      "cell_type": "code",
      "metadata": {
        "colab": {
          "base_uri": "https://localhost:8080/",
          "height": 312
        },
        "id": "Us1OlvYchCpg",
        "outputId": "8c87e8e6-a8e2-42ad-8d53-dacf1689b6e0"
      },
      "source": [
        "vectorizer = CountVectorizer()  # default: lowercase=True, ngram_range=(1,1)\n",
        "vectorizer.fit(X_train_text)\n",
        "\n",
        "# convert train and test text data to numeric vectors\n",
        "X_train = vectorizer.transform(X_train_text)\n",
        "X_val = vectorizer.transform(X_val_text)\n",
        "\n",
        "m1 = get_svm_predictions(X_train, X_val, y_train, y_val, class_list)"
      ],
      "execution_count": 24,
      "outputs": [
        {
          "output_type": "stream",
          "name": "stdout",
          "text": [
            "Accuracy: 0.905\n"
          ]
        },
        {
          "output_type": "display_data",
          "data": {
            "text/plain": [
              "<Figure size 432x288 with 1 Axes>"
            ],
            "image/png": "[encoded data removed]"
          },
          "metadata": {
            "needs_background": "light"
          }
        }
      ]
    },
    {
      "cell_type": "markdown",
      "metadata": {
        "id": "NMj8IMfC5Njq"
      },
      "source": [
        "### Model M2\n",
        "\n",
        "* Data preprocessing - lower casing, punctuation removal\n",
        "* Features - tf-idf vector (1-grams)\n",
        "* Algorithm - SVM"
      ]
    },
    {
      "cell_type": "code",
      "metadata": {
        "colab": {
          "base_uri": "https://localhost:8080/",
          "height": 312
        },
        "id": "nbzNipU4iH-O",
        "outputId": "988f2cc5-6494-4585-8c85-8b9d630ed36d"
      },
      "source": [
        "vectorizer = TfidfVectorizer()  # default: lowercase=True, ngram_range=(1,1)\n",
        "vectorizer.fit(X_train_text)\n",
        "\n",
        "# convert train and test text data to numeric vectors\n",
        "X_train = vectorizer.transform(X_train_text)\n",
        "X_val = vectorizer.transform(X_val_text)\n",
        "\n",
        "m2 = get_svm_predictions(X_train, X_val, y_train, y_val, class_list)"
      ],
      "execution_count": 14,
      "outputs": [
        {
          "output_type": "stream",
          "name": "stdout",
          "text": [
            "Accuracy: 0.9228333333333333\n"
          ]
        },
        {
          "output_type": "display_data",
          "data": {
            "text/plain": [
              "<Figure size 432x288 with 1 Axes>"
            ],
            "image/png": "[encoded data removed]"
          },
          "metadata": {
            "needs_background": "light"
          }
        }
      ]
    },
    {
      "cell_type": "markdown",
      "source": [
        "According to the measures accuracy values model M2 is more accurate than model M1."
      ],
      "metadata": {
        "id": "bCAMnIynpcIS"
      }
    },
    {
      "cell_type": "markdown",
      "metadata": {
        "id": "BHsj_iV-4RLV"
      },
      "source": [
        "### Model M3\n",
        "\n",
        "* Data preprocessing - lower casing, punctuation removal, tokenisation(NLTK)\n",
        "* Features - tf-idf vector (1-grams)\n",
        "* Algorithm - SVM"
      ]
    },
    {
      "cell_type": "code",
      "metadata": {
        "colab": {
          "base_uri": "https://localhost:8080/",
          "height": 312
        },
        "id": "5EHwvVx6iyT-",
        "outputId": "53885adf-b534-46e0-de29-8eb1d896e2f9"
      },
      "source": [
        "vectorizer = TfidfVectorizer()  # default: lowercase=True, ngram_range=(1,1)\n",
        "vectorizer.fit(X_train_tokenised_text)\n",
        "\n",
        "# convert train and test text data to numeric vectors\n",
        "X_train = vectorizer.transform(X_train_tokenised_text)\n",
        "X_val = vectorizer.transform(X_val_tokenised_text)\n",
        "\n",
        "m3 = get_svm_predictions(X_train, X_val, y_train, y_val, class_list)"
      ],
      "execution_count": 15,
      "outputs": [
        {
          "output_type": "stream",
          "name": "stdout",
          "text": [
            "Accuracy: 0.9225\n"
          ]
        },
        {
          "output_type": "display_data",
          "data": {
            "text/plain": [
              "<Figure size 432x288 with 1 Axes>"
            ],
            "image/png": "[encoded data removed]"
          },
          "metadata": {
            "needs_background": "light"
          }
        }
      ]
    },
    {
      "cell_type": "markdown",
      "metadata": {
        "id": "LX8lvAd0jbkZ"
      },
      "source": [
        "### Model M4\n",
        "\n",
        "* Data preprocessing - lower casing, punctuation removal, lemmatisation(WordNet)\n",
        "* Features - tf-idf vector (1-grams)\n",
        "* Algorithm - SVM"
      ]
    },
    {
      "cell_type": "code",
      "metadata": {
        "colab": {
          "base_uri": "https://localhost:8080/",
          "height": 312
        },
        "id": "BsM4bk14jg-w",
        "outputId": "d3c285b7-9c4b-40b3-9b53-b9e4bd2ac4ef"
      },
      "source": [
        "vectorizer = TfidfVectorizer()  # default: lowercase=True, ngram_range=(1,1)\n",
        "vectorizer.fit(X_train_lemmatised_text)\n",
        "\n",
        "# convert train and test text data to numeric vectors\n",
        "X_train = vectorizer.transform(X_train_lemmatised_text)\n",
        "X_val = vectorizer.transform(X_val_lemmatised_text)\n",
        "\n",
        "m4 = get_svm_predictions(X_train, X_val, y_train, y_val, class_list)"
      ],
      "execution_count": 16,
      "outputs": [
        {
          "output_type": "stream",
          "name": "stdout",
          "text": [
            "Accuracy: 0.9211666666666667\n"
          ]
        },
        {
          "output_type": "display_data",
          "data": {
            "text/plain": [
              "<Figure size 432x288 with 1 Axes>"
            ],
            "image/png": "[encoded data removed]"
          },
          "metadata": {
            "needs_background": "light"
          }
        }
      ]
    },
    {
      "cell_type": "markdown",
      "metadata": {
        "id": "Vy3rzIj8j_zs"
      },
      "source": [
        "### Model M5\n",
        "\n",
        "* Data preprocessing - lower casing, punctuation removal, tokenisation(NLTK), stop word removal\n",
        "* Features - tf-idf vector (1-grams)\n",
        "* Algorithm - SVM"
      ]
    },
    {
      "cell_type": "code",
      "metadata": {
        "colab": {
          "base_uri": "https://localhost:8080/",
          "height": 312
        },
        "id": "KABdHf6mkC17",
        "outputId": "0da0b006-2e7d-4126-ee44-3fdc24dd800e"
      },
      "source": [
        "vectorizer = TfidfVectorizer(stop_words=stop_words)  # default: lowercase=True, ngram_range=(1,1)\n",
        "vectorizer.fit(X_train_tokenised_text)\n",
        "\n",
        "# convert train and test text data to numeric vectors\n",
        "X_train = vectorizer.transform(X_train_tokenised_text)\n",
        "X_val = vectorizer.transform(X_val_tokenised_text)\n",
        "\n",
        "m5 = get_svm_predictions(X_train, X_val, y_train, y_val, class_list)"
      ],
      "execution_count": 17,
      "outputs": [
        {
          "output_type": "stream",
          "name": "stdout",
          "text": [
            "Accuracy: 0.9211666666666667\n"
          ]
        },
        {
          "output_type": "display_data",
          "data": {
            "text/plain": [
              "<Figure size 432x288 with 1 Axes>"
            ],
            "image/png": "[encoded data removed]"
          },
          "metadata": {
            "needs_background": "light"
          }
        }
      ]
    },
    {
      "cell_type": "markdown",
      "metadata": {
        "id": "FCDnVSSCkVOs"
      },
      "source": [
        "### Model M6\n",
        "\n",
        "* Data preprocessing - lower casing, punctuation removal, lemmatisation(WordNet), stop word removal\n",
        "* Features - tf-idf vector (1-grams)\n",
        "* Algorithm - SVM"
      ]
    },
    {
      "cell_type": "code",
      "metadata": {
        "colab": {
          "base_uri": "https://localhost:8080/",
          "height": 312
        },
        "id": "3iKF7myFkYJ_",
        "outputId": "01b61a0f-7a03-4537-fc42-21b98b5da46b"
      },
      "source": [
        "vectorizer = TfidfVectorizer(stop_words=stop_words)  # default: lowercase=True, ngram_range=(1,1)\n",
        "vectorizer.fit(X_train_lemmatised_text)\n",
        "\n",
        "# convert train and test text data to numeric vectors\n",
        "X_train = vectorizer.transform(X_train_lemmatised_text)\n",
        "X_val = vectorizer.transform(X_val_lemmatised_text)\n",
        "\n",
        "m6 = get_svm_predictions(X_train, X_val, y_train, y_val, class_list)"
      ],
      "execution_count": 18,
      "outputs": [
        {
          "output_type": "stream",
          "name": "stdout",
          "text": [
            "Accuracy: 0.92\n"
          ]
        },
        {
          "output_type": "display_data",
          "data": {
            "text/plain": [
              "<Figure size 432x288 with 1 Axes>"
            ],
            "image/png": "[encoded data removed]"
          },
          "metadata": {
            "needs_background": "light"
          }
        }
      ]
    },
    {
      "cell_type": "markdown",
      "metadata": {
        "id": "KKgE_PnxlGhx"
      },
      "source": [
        "### Summary\n",
        "Based on our finding up to now, the above table can be updated to following version.\n",
        "\n",
        "|Model | Data Preprocessing | Features   |Accuracy|\n",
        "|------|--------------------|------------|--------|\n",
        "|M1    |-| term occurrence vector(1-grams) | 0.9050 |\n",
        "|M2    |-| tf-idf vector(1-grams) | 0.9228 |\n",
        "|M3    |tokenisation(NLTK) | tf-idf vector(1-grams) | 0.9225 |\n",
        "|M4    |lemmatisation(WordNet) | tf-idf vector(1-grams) | 0.9212 |\n",
        "|M5    |tokenisation(NLTK), stop word removal | tf-idf vector(1-grams) | 0.9212 |\n",
        "|M6    |lemmatisation(WordNet), stop word removal | tf-idf vector(1-grams) | 0.9200 |\n",
        "\n",
        "Best accuracy so far is obtained by model M2. As we can see lemmatisation and stop word removal do not increase the accuracy of model **for this data**.\n"
      ]
    },
    {
      "cell_type": "markdown",
      "source": [
        "**Exercise**\n",
        "\n",
        "1. Analyse how different n-grams and their combinations with data  preprocessing can affect the accuracy of a SVM model.\n",
        "\n",
        "2. Further, check other possible data preprocessing and feature combinations which can increase the accuracy of predictions. Also, try tuning hyper-parameters of SVM algorithm based on the knowledge you gained during Machine Learning module."
      ],
      "metadata": {
        "id": "m4g-vX_Rq9Es"
      }
    },
    {
      "cell_type": "markdown",
      "metadata": {
        "id": "0EtsNGGYW1gI"
      },
      "source": [
        "## Other algorithms"
      ]
    },
    {
      "cell_type": "markdown",
      "metadata": {
        "id": "eCu0kpHuYWfp"
      },
      "source": [
        "### Decision Tree"
      ]
    },
    {
      "cell_type": "code",
      "metadata": {
        "id": "UkGfmqxcnjEp"
      },
      "source": [
        "# method to train and predict using Decision Tree\n",
        "def get_dt_predictions(X_train, X_val, y_train, y_val, class_list):\n",
        "  # build model\n",
        "  clf = tree.DecisionTreeClassifier(random_state=RANDOM_SEED)\n",
        "  clf.fit(X_train, y_train)\n",
        "\n",
        "  # Make predictions on test data\n",
        "  y_pred = clf.predict(X_val)\n",
        "\n",
        "  # evalution\n",
        "  accuracy, confusion_matrix = evaluate(y_val, y_pred, class_list)\n",
        "  print(f'Accuracy: {accuracy}')\n",
        "  plot_confusion_matrix(confusion_matrix, class_list)\n",
        "\n",
        "  return clf"
      ],
      "execution_count": 19,
      "outputs": []
    },
    {
      "cell_type": "markdown",
      "source": [
        "* Data preprocessing - lower casing, punctuation removal\n",
        "* Features - tf-idf vector (1-grams)\n",
        "* Algorithm - DecisionTreeClassifier"
      ],
      "metadata": {
        "id": "kk60Jy0RshXW"
      }
    },
    {
      "cell_type": "code",
      "metadata": {
        "colab": {
          "base_uri": "https://localhost:8080/",
          "height": 312
        },
        "id": "jbHQjhLCn7Ps",
        "outputId": "20a84b77-af01-4635-891d-6d38f2200b52"
      },
      "source": [
        "vectorizer = TfidfVectorizer()  # default: lowercase=True, ngram_range=(1,1)\n",
        "vectorizer.fit(X_train_text)\n",
        "\n",
        "# convert train and test text data to numeric vectors\n",
        "X_train = vectorizer.transform(X_train_text)\n",
        "X_val = vectorizer.transform(X_val_text)\n",
        "\n",
        "m7 = get_dt_predictions(X_train, X_val, y_train, y_val, class_list)"
      ],
      "execution_count": 20,
      "outputs": [
        {
          "output_type": "stream",
          "name": "stdout",
          "text": [
            "Accuracy: 0.8385\n"
          ]
        },
        {
          "output_type": "display_data",
          "data": {
            "text/plain": [
              "<Figure size 432x288 with 1 Axes>"
            ],
            "image/png": "[encoded data removed]"
          },
          "metadata": {
            "needs_background": "light"
          }
        }
      ]
    },
    {
      "cell_type": "markdown",
      "source": [
        "**Exercise**\n",
        "\n",
        "Apply other classification algorithms you learned for this task and analyse their performance. \n"
      ],
      "metadata": {
        "id": "DWC_DbF1s1le"
      }
    },
    {
      "cell_type": "markdown",
      "metadata": {
        "id": "WQtlYxRGpTmm"
      },
      "source": [
        "# Predictions"
      ]
    },
    {
      "cell_type": "code",
      "metadata": {
        "id": "p5prk_t2pUem"
      },
      "source": [
        "test_reviews = [\"My absolute favorite Yogi tea!  Pleasantly spicy, with a hint of rich chocolate.  I much prefer this to the Mayan Cocoa Spice & Sweet Thai flavors.  It's what I reach for when I get a craving for a cup of hot chocolate but don't want the calories.\",\n",
        "                \"The price is good, size is perfect...but my dog doesn't like them at all. Would not buy again sorry. Not the products fault\",\n",
        "                \"My dog loves the taste of these...they're a nice change from rawhides..I feel like I can give him treats more often\",\n",
        "                \"I buy stuff like this for the grand kids. I think they liked it.  I cannot eat pre-packaged foods due to health concerns. I haven't heard anything negative, so it must have been ok.\",\n",
        "                \"Yuck!  This is the first time this tasted bland.  Is something different with this batch?\"]"
      ],
      "execution_count": 21,
      "outputs": []
    },
    {
      "cell_type": "markdown",
      "metadata": {
        "id": "eERzIqmoqy8e"
      },
      "source": [
        "Let's use the best model we have created so far to make predictions for test data."
      ]
    },
    {
      "cell_type": "code",
      "source": [
        "vectorizer = TfidfVectorizer()  # default: lowercase=True, ngram_range=(1,1)\n",
        "vectorizer.fit(X_train_text)\n",
        "\n",
        "# convert train and test text data to numeric vectors\n",
        "X_train = vectorizer.transform(X_train_text)\n",
        "X_val = vectorizer.transform(X_val_text)\n",
        "\n",
        "m2 = get_svm_predictions(X_train, X_val, y_train, y_val, class_list)"
      ],
      "metadata": {
        "colab": {
          "base_uri": "https://localhost:8080/",
          "height": 312
        },
        "id": "4Uz_6b1hxcAT",
        "outputId": "aab33783-aa7e-42b0-d2ee-17c85b242b0b"
      },
      "execution_count": 22,
      "outputs": [
        {
          "output_type": "stream",
          "name": "stdout",
          "text": [
            "Accuracy: 0.9228333333333333\n"
          ]
        },
        {
          "output_type": "display_data",
          "data": {
            "text/plain": [
              "<Figure size 432x288 with 1 Axes>"
            ],
            "image/png": "[encoded data removed]"
          },
          "metadata": {
            "needs_background": "light"
          }
        }
      ]
    },
    {
      "cell_type": "markdown",
      "metadata": {
        "id": "y-KCf-I_rCU4"
      },
      "source": [
        "**REMEMER!** Apply the same preprocessing techniques used with model's training data to test data."
      ]
    },
    {
      "cell_type": "code",
      "metadata": {
        "id": "kzwPFkSfrBf0",
        "colab": {
          "base_uri": "https://localhost:8080/"
        },
        "outputId": "e9035088-3ac6-4a3e-a2d6-617420f47c7a"
      },
      "source": [
        "X_test = vectorizer.transform(test_reviews)\n",
        "predictions = m2.predict(X_test)\n",
        "print(predictions)"
      ],
      "execution_count": 23,
      "outputs": [
        {
          "output_type": "stream",
          "name": "stdout",
          "text": [
            "['positive' 'negative' 'positive' 'positive' 'negative']\n"
          ]
        }
      ]
    }
  ]
}