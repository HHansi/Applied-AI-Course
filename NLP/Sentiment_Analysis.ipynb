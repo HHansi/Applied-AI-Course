{
  "nbformat": 4,
  "nbformat_minor": 0,
  "metadata": {
    "colab": {
      "provenance": [],
      "toc_visible": true,
      "include_colab_link": true
    },
    "kernelspec": {
      "name": "python3",
      "display_name": "Python 3"
    },
    "gpuClass": "standard"
  },
  "cells": [
    {
      "cell_type": "markdown",
      "metadata": {
        "id": "view-in-github",
        "colab_type": "text"
      },
      "source": [
        "<a href=\"https://colab.research.google.com/github/HHansi/Applied-AI-Course/blob/main/NLP/Sentiment_Analysis.ipynb\" target=\"_parent\"><img src=\"https://colab.research.google.com/assets/colab-badge.svg\" alt=\"Open In Colab\"/></a>"
      ]
    },
    {
      "cell_type": "markdown",
      "metadata": {
        "id": "I0Qu7lgx67XE"
      },
      "source": [
        "# Sentiment Analysis\n",
        "\n",
        "This notebook contains the practical examples and exercises for the Applied AI-Natural Language Processing.\n",
        "\n",
        "*Created by Hansi Hettiarachchi*\n"
      ]
    },
    {
      "cell_type": "markdown",
      "source": [
        "This tutorial will guide you through the process of performing sentiment analysis on a real-world data set.\n",
        "<!--\n",
        "![sentiment_analysis.jpeg](https://drive.google.com/uc?id=1n5nhaeNzilnxf5ytNKKiUNSm7Ye6aGcu) <br> -->\n",
        "![](https://github.com/HHansi/Applied-AI-Course/blob/main/NLP/images/sentiment_analysis.jpeg?raw=true) <br>\n",
        "[image source](https://www.intellectyx.com/blog/sentiment-analysis/)\n",
        "\n",
        "Sentiment analysis is the process of analysing the feelings (i.e. opinions, emotions, attitudes, thoughts, etc.)​ to determine the emotional tone underneath.\n",
        "\n",
        "Some benefits of sentiment analysis include:\n",
        "- Understand customers\n",
        "- Evaluate marketing campaign\n",
        "- Optimise marketing strategies\n",
        "- Find industry leaders\n",
        "- Increase product quality\n",
        "\n",
        "Sentiment analysis is very popular and important in nowadays, due to its benefits and the huge amount of data availability.\n"
      ],
      "metadata": {
        "id": "6DDl9jc6YOZd"
      }
    },
    {
      "cell_type": "code",
      "metadata": {
        "colab": {
          "base_uri": "https://localhost:8080/"
        },
        "id": "lzZ6zwd2jwgs",
        "outputId": "5dc2b29a-19aa-4b8e-b5db-63795f013e50"
      },
      "source": [
        "# import libraries\n",
        "import pandas as pd\n",
        "import numpy as np\n",
        "\n",
        "# libraries for data preprocessing\n",
        "import nltk\n",
        "# download modules available with NLTK\n",
        "nltk.download('punkt')\n",
        "nltk.download('wordnet')\n",
        "nltk.download('omw-1.4')\n",
        "nltk.download('stopwords')\n",
        "\n",
        "from nltk.tokenize import word_tokenize\n",
        "from nltk.stem import WordNetLemmatizer\n",
        "from nltk.corpus import stopwords\n",
        "\n",
        "# libraries for data split and feature extraction\n",
        "from sklearn.model_selection import train_test_split\n",
        "from sklearn.feature_extraction.text import CountVectorizer\n",
        "from sklearn.feature_extraction.text import TfidfVectorizer\n",
        "\n",
        "# library for evaluation\n",
        "from sklearn import metrics\n",
        "from sklearn.metrics import ConfusionMatrixDisplay\n",
        "\n",
        "# libraries for ML algorithms\n",
        "from sklearn import svm\n",
        "from sklearn import tree\n",
        "from sklearn.naive_bayes import GaussianNB\n",
        "\n",
        "# libraries for data plotting\n",
        "import seaborn as sns\n",
        "import matplotlib.pyplot as plt\n",
        "\n",
        "RANDOM_SEED = 100"
      ],
      "execution_count": 1,
      "outputs": [
        {
          "output_type": "stream",
          "name": "stderr",
          "text": [
            "[nltk_data] Downloading package punkt to /root/nltk_data...\n",
            "[nltk_data]   Unzipping tokenizers/punkt.zip.\n",
            "[nltk_data] Downloading package wordnet to /root/nltk_data...\n",
            "[nltk_data] Downloading package omw-1.4 to /root/nltk_data...\n",
            "[nltk_data] Downloading package stopwords to /root/nltk_data...\n",
            "[nltk_data]   Unzipping corpora/stopwords.zip.\n"
          ]
        }
      ]
    },
    {
      "cell_type": "markdown",
      "metadata": {
        "id": "osBUO59Z6el7"
      },
      "source": [
        "# Understanding the problem and data set\n",
        "\n",
        "Here, I use a subset of [Amazon Fine Food Reviews dataset](https://www.kaggle.com/snap/amazon-fine-food-reviews?select=Reviews.csv).\n",
        "\n",
        "The targeted problem is to predict the sentiment of a food review.\n",
        "\n",
        "Let's load the data set and see a sample of it."
      ]
    },
    {
      "cell_type": "code",
      "metadata": {
        "colab": {
          "base_uri": "https://localhost:8080/",
          "height": 223
        },
        "id": "HQKh1xpPMgs5",
        "outputId": "17ca5774-4db9-4025-f22a-c8c83b9bc931"
      },
      "source": [
        "# load the data set\n",
        "# As the parameter, the file path should be provided. Additionally, GitHub URL can also be provided as follows.\n",
        "df = pd.read_csv('https://raw.githubusercontent.com/HHansi/Applied-AI-Course/2021/NLP/data/reviews.csv')\n",
        "\n",
        "print(df.shape)\n",
        "df.head()"
      ],
      "execution_count": 2,
      "outputs": [
        {
          "output_type": "stream",
          "name": "stdout",
          "text": [
            "(20000, 3)\n"
          ]
        },
        {
          "output_type": "execute_result",
          "data": {
            "text/plain": [
              "   Id                                               Text Sentiment\n",
              "0   1  I have bought several of the Vitality canned d...  positive\n",
              "1   2  Product arrived labeled as Jumbo Salted Peanut...  negative\n",
              "2   3  This is a confection that has been around a fe...  positive\n",
              "3   4  If you are looking for the secret ingredient i...  negative\n",
              "4   5  Great taffy at a great price.  There was a wid...  positive"
            ],
            "text/html": [
              "\n",
              "  <div id=\"df-0a35cda5-f5b1-4e8e-8b21-79ad065857bc\" class=\"colab-df-container\">\n",
              "    <div>\n",
              "<style scoped>\n",
              "    .dataframe tbody tr th:only-of-type {\n",
              "        vertical-align: middle;\n",
              "    }\n",
              "\n",
              "    .dataframe tbody tr th {\n",
              "        vertical-align: top;\n",
              "    }\n",
              "\n",
              "    .dataframe thead th {\n",
              "        text-align: right;\n",
              "    }\n",
              "</style>\n",
              "<table border=\"1\" class=\"dataframe\">\n",
              "  <thead>\n",
              "    <tr style=\"text-align: right;\">\n",
              "      <th></th>\n",
              "      <th>Id</th>\n",
              "      <th>Text</th>\n",
              "      <th>Sentiment</th>\n",
              "    </tr>\n",
              "  </thead>\n",
              "  <tbody>\n",
              "    <tr>\n",
              "      <th>0</th>\n",
              "      <td>1</td>\n",
              "      <td>I have bought several of the Vitality canned d...</td>\n",
              "      <td>positive</td>\n",
              "    </tr>\n",
              "    <tr>\n",
              "      <th>1</th>\n",
              "      <td>2</td>\n",
              "      <td>Product arrived labeled as Jumbo Salted Peanut...</td>\n",
              "      <td>negative</td>\n",
              "    </tr>\n",
              "    <tr>\n",
              "      <th>2</th>\n",
              "      <td>3</td>\n",
              "      <td>This is a confection that has been around a fe...</td>\n",
              "      <td>positive</td>\n",
              "    </tr>\n",
              "    <tr>\n",
              "      <th>3</th>\n",
              "      <td>4</td>\n",
              "      <td>If you are looking for the secret ingredient i...</td>\n",
              "      <td>negative</td>\n",
              "    </tr>\n",
              "    <tr>\n",
              "      <th>4</th>\n",
              "      <td>5</td>\n",
              "      <td>Great taffy at a great price.  There was a wid...</td>\n",
              "      <td>positive</td>\n",
              "    </tr>\n",
              "  </tbody>\n",
              "</table>\n",
              "</div>\n",
              "    <div class=\"colab-df-buttons\">\n",
              "\n",
              "  <div class=\"colab-df-container\">\n",
              "    <button class=\"colab-df-convert\" onclick=\"convertToInteractive('df-0a35cda5-f5b1-4e8e-8b21-79ad065857bc')\"\n",
              "            title=\"Convert this dataframe to an interactive table.\"\n",
              "            style=\"display:none;\">\n",
              "\n",
              "  <svg xmlns=\"http://www.w3.org/2000/svg\" height=\"24px\" viewBox=\"0 -960 960 960\">\n",
              "    <path d=\"M120-120v-720h720v720H120Zm60-500h600v-160H180v160Zm220 220h160v-160H400v160Zm0 220h160v-160H400v160ZM180-400h160v-160H180v160Zm440 0h160v-160H620v160ZM180-180h160v-160H180v160Zm440 0h160v-160H620v160Z\"/>\n",
              "  </svg>\n",
              "    </button>\n",
              "\n",
              "  <style>\n",
              "    .colab-df-container {\n",
              "      display:flex;\n",
              "      gap: 12px;\n",
              "    }\n",
              "\n",
              "    .colab-df-convert {\n",
              "      background-color: #E8F0FE;\n",
              "      border: none;\n",
              "      border-radius: 50%;\n",
              "      cursor: pointer;\n",
              "      display: none;\n",
              "      fill: #1967D2;\n",
              "      height: 32px;\n",
              "      padding: 0 0 0 0;\n",
              "      width: 32px;\n",
              "    }\n",
              "\n",
              "    .colab-df-convert:hover {\n",
              "      background-color: #E2EBFA;\n",
              "      box-shadow: 0px 1px 2px rgba(60, 64, 67, 0.3), 0px 1px 3px 1px rgba(60, 64, 67, 0.15);\n",
              "      fill: #174EA6;\n",
              "    }\n",
              "\n",
              "    .colab-df-buttons div {\n",
              "      margin-bottom: 4px;\n",
              "    }\n",
              "\n",
              "    [theme=dark] .colab-df-convert {\n",
              "      background-color: #3B4455;\n",
              "      fill: #D2E3FC;\n",
              "    }\n",
              "\n",
              "    [theme=dark] .colab-df-convert:hover {\n",
              "      background-color: #434B5C;\n",
              "      box-shadow: 0px 1px 3px 1px rgba(0, 0, 0, 0.15);\n",
              "      filter: drop-shadow(0px 1px 2px rgba(0, 0, 0, 0.3));\n",
              "      fill: #FFFFFF;\n",
              "    }\n",
              "  </style>\n",
              "\n",
              "    <script>\n",
              "      const buttonEl =\n",
              "        document.querySelector('#df-0a35cda5-f5b1-4e8e-8b21-79ad065857bc button.colab-df-convert');\n",
              "      buttonEl.style.display =\n",
              "        google.colab.kernel.accessAllowed ? 'block' : 'none';\n",
              "\n",
              "      async function convertToInteractive(key) {\n",
              "        const element = document.querySelector('#df-0a35cda5-f5b1-4e8e-8b21-79ad065857bc');\n",
              "        const dataTable =\n",
              "          await google.colab.kernel.invokeFunction('convertToInteractive',\n",
              "                                                    [key], {});\n",
              "        if (!dataTable) return;\n",
              "\n",
              "        const docLinkHtml = 'Like what you see? Visit the ' +\n",
              "          '<a target=\"_blank\" href=https://colab.research.google.com/notebooks/data_table.ipynb>data table notebook</a>'\n",
              "          + ' to learn more about interactive tables.';\n",
              "        element.innerHTML = '';\n",
              "        dataTable['output_type'] = 'display_data';\n",
              "        await google.colab.output.renderOutput(dataTable, element);\n",
              "        const docLink = document.createElement('div');\n",
              "        docLink.innerHTML = docLinkHtml;\n",
              "        element.appendChild(docLink);\n",
              "      }\n",
              "    </script>\n",
              "  </div>\n",
              "\n",
              "\n",
              "<div id=\"df-8b5b96a5-9ed7-4ecc-8397-2d39d2bfd228\">\n",
              "  <button class=\"colab-df-quickchart\" onclick=\"quickchart('df-8b5b96a5-9ed7-4ecc-8397-2d39d2bfd228')\"\n",
              "            title=\"Suggest charts\"\n",
              "            style=\"display:none;\">\n",
              "\n",
              "<svg xmlns=\"http://www.w3.org/2000/svg\" height=\"24px\"viewBox=\"0 0 24 24\"\n",
              "     width=\"24px\">\n",
              "    <g>\n",
              "        <path d=\"M19 3H5c-1.1 0-2 .9-2 2v14c0 1.1.9 2 2 2h14c1.1 0 2-.9 2-2V5c0-1.1-.9-2-2-2zM9 17H7v-7h2v7zm4 0h-2V7h2v10zm4 0h-2v-4h2v4z\"/>\n",
              "    </g>\n",
              "</svg>\n",
              "  </button>\n",
              "\n",
              "<style>\n",
              "  .colab-df-quickchart {\n",
              "      --bg-color: #E8F0FE;\n",
              "      --fill-color: #1967D2;\n",
              "      --hover-bg-color: #E2EBFA;\n",
              "      --hover-fill-color: #174EA6;\n",
              "      --disabled-fill-color: #AAA;\n",
              "      --disabled-bg-color: #DDD;\n",
              "  }\n",
              "\n",
              "  [theme=dark] .colab-df-quickchart {\n",
              "      --bg-color: #3B4455;\n",
              "      --fill-color: #D2E3FC;\n",
              "      --hover-bg-color: #434B5C;\n",
              "      --hover-fill-color: #FFFFFF;\n",
              "      --disabled-bg-color: #3B4455;\n",
              "      --disabled-fill-color: #666;\n",
              "  }\n",
              "\n",
              "  .colab-df-quickchart {\n",
              "    background-color: var(--bg-color);\n",
              "    border: none;\n",
              "    border-radius: 50%;\n",
              "    cursor: pointer;\n",
              "    display: none;\n",
              "    fill: var(--fill-color);\n",
              "    height: 32px;\n",
              "    padding: 0;\n",
              "    width: 32px;\n",
              "  }\n",
              "\n",
              "  .colab-df-quickchart:hover {\n",
              "    background-color: var(--hover-bg-color);\n",
              "    box-shadow: 0 1px 2px rgba(60, 64, 67, 0.3), 0 1px 3px 1px rgba(60, 64, 67, 0.15);\n",
              "    fill: var(--button-hover-fill-color);\n",
              "  }\n",
              "\n",
              "  .colab-df-quickchart-complete:disabled,\n",
              "  .colab-df-quickchart-complete:disabled:hover {\n",
              "    background-color: var(--disabled-bg-color);\n",
              "    fill: var(--disabled-fill-color);\n",
              "    box-shadow: none;\n",
              "  }\n",
              "\n",
              "  .colab-df-spinner {\n",
              "    border: 2px solid var(--fill-color);\n",
              "    border-color: transparent;\n",
              "    border-bottom-color: var(--fill-color);\n",
              "    animation:\n",
              "      spin 1s steps(1) infinite;\n",
              "  }\n",
              "\n",
              "  @keyframes spin {\n",
              "    0% {\n",
              "      border-color: transparent;\n",
              "      border-bottom-color: var(--fill-color);\n",
              "      border-left-color: var(--fill-color);\n",
              "    }\n",
              "    20% {\n",
              "      border-color: transparent;\n",
              "      border-left-color: var(--fill-color);\n",
              "      border-top-color: var(--fill-color);\n",
              "    }\n",
              "    30% {\n",
              "      border-color: transparent;\n",
              "      border-left-color: var(--fill-color);\n",
              "      border-top-color: var(--fill-color);\n",
              "      border-right-color: var(--fill-color);\n",
              "    }\n",
              "    40% {\n",
              "      border-color: transparent;\n",
              "      border-right-color: var(--fill-color);\n",
              "      border-top-color: var(--fill-color);\n",
              "    }\n",
              "    60% {\n",
              "      border-color: transparent;\n",
              "      border-right-color: var(--fill-color);\n",
              "    }\n",
              "    80% {\n",
              "      border-color: transparent;\n",
              "      border-right-color: var(--fill-color);\n",
              "      border-bottom-color: var(--fill-color);\n",
              "    }\n",
              "    90% {\n",
              "      border-color: transparent;\n",
              "      border-bottom-color: var(--fill-color);\n",
              "    }\n",
              "  }\n",
              "</style>\n",
              "\n",
              "  <script>\n",
              "    async function quickchart(key) {\n",
              "      const quickchartButtonEl =\n",
              "        document.querySelector('#' + key + ' button');\n",
              "      quickchartButtonEl.disabled = true;  // To prevent multiple clicks.\n",
              "      quickchartButtonEl.classList.add('colab-df-spinner');\n",
              "      try {\n",
              "        const charts = await google.colab.kernel.invokeFunction(\n",
              "            'suggestCharts', [key], {});\n",
              "      } catch (error) {\n",
              "        console.error('Error during call to suggestCharts:', error);\n",
              "      }\n",
              "      quickchartButtonEl.classList.remove('colab-df-spinner');\n",
              "      quickchartButtonEl.classList.add('colab-df-quickchart-complete');\n",
              "    }\n",
              "    (() => {\n",
              "      let quickchartButtonEl =\n",
              "        document.querySelector('#df-8b5b96a5-9ed7-4ecc-8397-2d39d2bfd228 button');\n",
              "      quickchartButtonEl.style.display =\n",
              "        google.colab.kernel.accessAllowed ? 'block' : 'none';\n",
              "    })();\n",
              "  </script>\n",
              "</div>\n",
              "    </div>\n",
              "  </div>\n"
            ]
          },
          "metadata": {},
          "execution_count": 2
        }
      ]
    },
    {
      "cell_type": "code",
      "source": [
        "# Summarise class details\n",
        "sns.countplot(x=df['Sentiment'])"
      ],
      "metadata": {
        "colab": {
          "base_uri": "https://localhost:8080/",
          "height": 466
        },
        "id": "MDW91-PxlrMC",
        "outputId": "acb839f0-72e9-4585-cef7-82ae4f063531"
      },
      "execution_count": 3,
      "outputs": [
        {
          "output_type": "execute_result",
          "data": {
            "text/plain": [
              "<Axes: xlabel='Sentiment', ylabel='count'>"
            ]
          },
          "metadata": {},
          "execution_count": 3
        },
        {
          "output_type": "display_data",
          "data": {
            "text/plain": [
              "<Figure size 640x480 with 1 Axes>"
            ],
            "image/png": "[encoded data removed]"
          },
          "metadata": {}
        }
      ]
    },
    {
      "cell_type": "markdown",
      "metadata": {
        "id": "PUqNa06H85M1"
      },
      "source": [
        "As we can see in the above output, there are 20,000 rows or reviews in this data set.\n",
        "\n",
        "The data set consists of 3 columns,\n",
        "- Id - Autogenerated incrementing number as row Id\n",
        "- Text - Review text\n",
        "- Sentiment - Label for sentiment (positive, negative)"
      ]
    },
    {
      "cell_type": "markdown",
      "metadata": {
        "id": "q1gpoTnPUxL4"
      },
      "source": [
        "# Data cleaning\n",
        "\n",
        "If there are any missing values in the data set, corresponding entries need to be removed, because we cannot apply any preprocessing on them or use them for the model.\n",
        "\n",
        "The data set has 20,000 entries. So, it is a tedious task to check each row to find whether there is any missing value.\n",
        "\n",
        "To do this filtering automatically, we use <i>dropna</i> function available with <i>pandas</i> library.\n",
        "\n",
        "More details about this function are available with this [tutorial](https://www.w3resource.com/pandas/dataframe/dataframe-dropna.php)."
      ]
    },
    {
      "cell_type": "code",
      "metadata": {
        "colab": {
          "base_uri": "https://localhost:8080/"
        },
        "id": "aGM4sA2aUvyB",
        "outputId": "66392770-f4ae-448d-bfe1-8dd275d488d2"
      },
      "source": [
        "# drop the rows where at least one element is missing\n",
        "df = df.dropna()\n",
        "\n",
        "print(f'Number of entries: {len(df)}')"
      ],
      "execution_count": 4,
      "outputs": [
        {
          "output_type": "stream",
          "name": "stdout",
          "text": [
            "Number of entries: 20000\n"
          ]
        }
      ]
    },
    {
      "cell_type": "markdown",
      "metadata": {
        "id": "SY4RUHfSXwd8"
      },
      "source": [
        "Number of entries in the cleaned data set is similar to the number of entries in the original data set. That means there were no missing values in our data set."
      ]
    },
    {
      "cell_type": "markdown",
      "metadata": {
        "id": "4CUmK9uhUl3R"
      },
      "source": [
        "# Data preprocessing\n",
        "\n",
        "As data preprocessing techniques, we learned following.\n",
        "- Tokenisation\n",
        "- Text normalisation (lower casing, stemming and lemmatisation)\n",
        "- Stop word removal\n",
        "- Punctuation removal\n",
        "\n",
        "Let's go through each step and apply it to the data set, if it is necessary or important to the targeted problem.\n"
      ]
    },
    {
      "cell_type": "markdown",
      "metadata": {
        "id": "PHc6QXgdavXF"
      },
      "source": [
        "## Tokenisation\n",
        "\n",
        "The first thing to do with tokenisation is selecting a tokenizer model.\n",
        "\n",
        "Under Text Preprocessing, we learned about 2 tokenizers as follows.\n",
        "- *word_tokenize* - Tokenizer for normal text\n",
        "- *TweetTokenizer* - Tokenizer for tweets\n",
        "\n",
        "In this data set, we have normal text. Then we can use <i>word_tokenize</i>."
      ]
    },
    {
      "cell_type": "code",
      "source": [
        "# iterate through each row in 'Text' columm and convert text to tokens\n",
        "list_tokenised_text = [word_tokenize(text) for text in df['Text']]\n",
        "print(list_tokenised_text[:2])"
      ],
      "metadata": {
        "colab": {
          "base_uri": "https://localhost:8080/"
        },
        "id": "Rdp-KWiAnWHu",
        "outputId": "d0aacdfb-4925-43ea-db21-316d3409f6e6"
      },
      "execution_count": 5,
      "outputs": [
        {
          "output_type": "stream",
          "name": "stdout",
          "text": [
            "[['I', 'have', 'bought', 'several', 'of', 'the', 'Vitality', 'canned', 'dog', 'food', 'products', 'and', 'have', 'found', 'them', 'all', 'to', 'be', 'of', 'good', 'quality', '.', 'The', 'product', 'looks', 'more', 'like', 'a', 'stew', 'than', 'a', 'processed', 'meat', 'and', 'it', 'smells', 'better', '.', 'My', 'Labrador', 'is', 'finicky', 'and', 'she', 'appreciates', 'this', 'product', 'better', 'than', 'most', '.'], ['Product', 'arrived', 'labeled', 'as', 'Jumbo', 'Salted', 'Peanuts', '...', 'the', 'peanuts', 'were', 'actually', 'small', 'sized', 'unsalted', '.', 'Not', 'sure', 'if', 'this', 'was', 'an', 'error', 'or', 'if', 'the', 'vendor', 'intended', 'to', 'represent', 'the', 'product', 'as', '``', 'Jumbo', \"''\", '.']]\n"
          ]
        }
      ]
    },
    {
      "cell_type": "code",
      "metadata": {
        "colab": {
          "base_uri": "https://localhost:8080/",
          "height": 243
        },
        "id": "TILRZ0e4ZpHR",
        "outputId": "ddcc27a5-910f-4d36-dc7e-01226979b2b5"
      },
      "source": [
        "# Let's merge to tokens back into sentences by adding a space between two tokens.\n",
        "list_tokenised_sentences = [' '.join(tokens) for tokens in list_tokenised_text]\n",
        "print(list_tokenised_sentences[:2])\n",
        "\n",
        "# add new column to data frame\n",
        "df['Tokenised_Text'] = list_tokenised_sentences\n",
        "df.head()"
      ],
      "execution_count": 6,
      "outputs": [
        {
          "output_type": "stream",
          "name": "stdout",
          "text": [
            "['I have bought several of the Vitality canned dog food products and have found them all to be of good quality . The product looks more like a stew than a processed meat and it smells better . My Labrador is finicky and she appreciates this product better than most .', \"Product arrived labeled as Jumbo Salted Peanuts ... the peanuts were actually small sized unsalted . Not sure if this was an error or if the vendor intended to represent the product as `` Jumbo '' .\"]\n"
          ]
        },
        {
          "output_type": "execute_result",
          "data": {
            "text/plain": [
              "   Id                                               Text Sentiment  \\\n",
              "0   1  I have bought several of the Vitality canned d...  positive   \n",
              "1   2  Product arrived labeled as Jumbo Salted Peanut...  negative   \n",
              "2   3  This is a confection that has been around a fe...  positive   \n",
              "3   4  If you are looking for the secret ingredient i...  negative   \n",
              "4   5  Great taffy at a great price.  There was a wid...  positive   \n",
              "\n",
              "                                      Tokenised_Text  \n",
              "0  I have bought several of the Vitality canned d...  \n",
              "1  Product arrived labeled as Jumbo Salted Peanut...  \n",
              "2  This is a confection that has been around a fe...  \n",
              "3  If you are looking for the secret ingredient i...  \n",
              "4  Great taffy at a great price . There was a wid...  "
            ],
            "text/html": [
              "\n",
              "  <div id=\"df-38d67a42-b3c4-496e-ac4d-5d1481c590bc\" class=\"colab-df-container\">\n",
              "    <div>\n",
              "<style scoped>\n",
              "    .dataframe tbody tr th:only-of-type {\n",
              "        vertical-align: middle;\n",
              "    }\n",
              "\n",
              "    .dataframe tbody tr th {\n",
              "        vertical-align: top;\n",
              "    }\n",
              "\n",
              "    .dataframe thead th {\n",
              "        text-align: right;\n",
              "    }\n",
              "</style>\n",
              "<table border=\"1\" class=\"dataframe\">\n",
              "  <thead>\n",
              "    <tr style=\"text-align: right;\">\n",
              "      <th></th>\n",
              "      <th>Id</th>\n",
              "      <th>Text</th>\n",
              "      <th>Sentiment</th>\n",
              "      <th>Tokenised_Text</th>\n",
              "    </tr>\n",
              "  </thead>\n",
              "  <tbody>\n",
              "    <tr>\n",
              "      <th>0</th>\n",
              "      <td>1</td>\n",
              "      <td>I have bought several of the Vitality canned d...</td>\n",
              "      <td>positive</td>\n",
              "      <td>I have bought several of the Vitality canned d...</td>\n",
              "    </tr>\n",
              "    <tr>\n",
              "      <th>1</th>\n",
              "      <td>2</td>\n",
              "      <td>Product arrived labeled as Jumbo Salted Peanut...</td>\n",
              "      <td>negative</td>\n",
              "      <td>Product arrived labeled as Jumbo Salted Peanut...</td>\n",
              "    </tr>\n",
              "    <tr>\n",
              "      <th>2</th>\n",
              "      <td>3</td>\n",
              "      <td>This is a confection that has been around a fe...</td>\n",
              "      <td>positive</td>\n",
              "      <td>This is a confection that has been around a fe...</td>\n",
              "    </tr>\n",
              "    <tr>\n",
              "      <th>3</th>\n",
              "      <td>4</td>\n",
              "      <td>If you are looking for the secret ingredient i...</td>\n",
              "      <td>negative</td>\n",
              "      <td>If you are looking for the secret ingredient i...</td>\n",
              "    </tr>\n",
              "    <tr>\n",
              "      <th>4</th>\n",
              "      <td>5</td>\n",
              "      <td>Great taffy at a great price.  There was a wid...</td>\n",
              "      <td>positive</td>\n",
              "      <td>Great taffy at a great price . There was a wid...</td>\n",
              "    </tr>\n",
              "  </tbody>\n",
              "</table>\n",
              "</div>\n",
              "    <div class=\"colab-df-buttons\">\n",
              "\n",
              "  <div class=\"colab-df-container\">\n",
              "    <button class=\"colab-df-convert\" onclick=\"convertToInteractive('df-38d67a42-b3c4-496e-ac4d-5d1481c590bc')\"\n",
              "            title=\"Convert this dataframe to an interactive table.\"\n",
              "            style=\"display:none;\">\n",
              "\n",
              "  <svg xmlns=\"http://www.w3.org/2000/svg\" height=\"24px\" viewBox=\"0 -960 960 960\">\n",
              "    <path d=\"M120-120v-720h720v720H120Zm60-500h600v-160H180v160Zm220 220h160v-160H400v160Zm0 220h160v-160H400v160ZM180-400h160v-160H180v160Zm440 0h160v-160H620v160ZM180-180h160v-160H180v160Zm440 0h160v-160H620v160Z\"/>\n",
              "  </svg>\n",
              "    </button>\n",
              "\n",
              "  <style>\n",
              "    .colab-df-container {\n",
              "      display:flex;\n",
              "      gap: 12px;\n",
              "    }\n",
              "\n",
              "    .colab-df-convert {\n",
              "      background-color: #E8F0FE;\n",
              "      border: none;\n",
              "      border-radius: 50%;\n",
              "      cursor: pointer;\n",
              "      display: none;\n",
              "      fill: #1967D2;\n",
              "      height: 32px;\n",
              "      padding: 0 0 0 0;\n",
              "      width: 32px;\n",
              "    }\n",
              "\n",
              "    .colab-df-convert:hover {\n",
              "      background-color: #E2EBFA;\n",
              "      box-shadow: 0px 1px 2px rgba(60, 64, 67, 0.3), 0px 1px 3px 1px rgba(60, 64, 67, 0.15);\n",
              "      fill: #174EA6;\n",
              "    }\n",
              "\n",
              "    .colab-df-buttons div {\n",
              "      margin-bottom: 4px;\n",
              "    }\n",
              "\n",
              "    [theme=dark] .colab-df-convert {\n",
              "      background-color: #3B4455;\n",
              "      fill: #D2E3FC;\n",
              "    }\n",
              "\n",
              "    [theme=dark] .colab-df-convert:hover {\n",
              "      background-color: #434B5C;\n",
              "      box-shadow: 0px 1px 3px 1px rgba(0, 0, 0, 0.15);\n",
              "      filter: drop-shadow(0px 1px 2px rgba(0, 0, 0, 0.3));\n",
              "      fill: #FFFFFF;\n",
              "    }\n",
              "  </style>\n",
              "\n",
              "    <script>\n",
              "      const buttonEl =\n",
              "        document.querySelector('#df-38d67a42-b3c4-496e-ac4d-5d1481c590bc button.colab-df-convert');\n",
              "      buttonEl.style.display =\n",
              "        google.colab.kernel.accessAllowed ? 'block' : 'none';\n",
              "\n",
              "      async function convertToInteractive(key) {\n",
              "        const element = document.querySelector('#df-38d67a42-b3c4-496e-ac4d-5d1481c590bc');\n",
              "        const dataTable =\n",
              "          await google.colab.kernel.invokeFunction('convertToInteractive',\n",
              "                                                    [key], {});\n",
              "        if (!dataTable) return;\n",
              "\n",
              "        const docLinkHtml = 'Like what you see? Visit the ' +\n",
              "          '<a target=\"_blank\" href=https://colab.research.google.com/notebooks/data_table.ipynb>data table notebook</a>'\n",
              "          + ' to learn more about interactive tables.';\n",
              "        element.innerHTML = '';\n",
              "        dataTable['output_type'] = 'display_data';\n",
              "        await google.colab.output.renderOutput(dataTable, element);\n",
              "        const docLink = document.createElement('div');\n",
              "        docLink.innerHTML = docLinkHtml;\n",
              "        element.appendChild(docLink);\n",
              "      }\n",
              "    </script>\n",
              "  </div>\n",
              "\n",
              "\n",
              "<div id=\"df-61cd4a1a-398b-4f5f-ae75-72ece5f11d86\">\n",
              "  <button class=\"colab-df-quickchart\" onclick=\"quickchart('df-61cd4a1a-398b-4f5f-ae75-72ece5f11d86')\"\n",
              "            title=\"Suggest charts\"\n",
              "            style=\"display:none;\">\n",
              "\n",
              "<svg xmlns=\"http://www.w3.org/2000/svg\" height=\"24px\"viewBox=\"0 0 24 24\"\n",
              "     width=\"24px\">\n",
              "    <g>\n",
              "        <path d=\"M19 3H5c-1.1 0-2 .9-2 2v14c0 1.1.9 2 2 2h14c1.1 0 2-.9 2-2V5c0-1.1-.9-2-2-2zM9 17H7v-7h2v7zm4 0h-2V7h2v10zm4 0h-2v-4h2v4z\"/>\n",
              "    </g>\n",
              "</svg>\n",
              "  </button>\n",
              "\n",
              "<style>\n",
              "  .colab-df-quickchart {\n",
              "      --bg-color: #E8F0FE;\n",
              "      --fill-color: #1967D2;\n",
              "      --hover-bg-color: #E2EBFA;\n",
              "      --hover-fill-color: #174EA6;\n",
              "      --disabled-fill-color: #AAA;\n",
              "      --disabled-bg-color: #DDD;\n",
              "  }\n",
              "\n",
              "  [theme=dark] .colab-df-quickchart {\n",
              "      --bg-color: #3B4455;\n",
              "      --fill-color: #D2E3FC;\n",
              "      --hover-bg-color: #434B5C;\n",
              "      --hover-fill-color: #FFFFFF;\n",
              "      --disabled-bg-color: #3B4455;\n",
              "      --disabled-fill-color: #666;\n",
              "  }\n",
              "\n",
              "  .colab-df-quickchart {\n",
              "    background-color: var(--bg-color);\n",
              "    border: none;\n",
              "    border-radius: 50%;\n",
              "    cursor: pointer;\n",
              "    display: none;\n",
              "    fill: var(--fill-color);\n",
              "    height: 32px;\n",
              "    padding: 0;\n",
              "    width: 32px;\n",
              "  }\n",
              "\n",
              "  .colab-df-quickchart:hover {\n",
              "    background-color: var(--hover-bg-color);\n",
              "    box-shadow: 0 1px 2px rgba(60, 64, 67, 0.3), 0 1px 3px 1px rgba(60, 64, 67, 0.15);\n",
              "    fill: var(--button-hover-fill-color);\n",
              "  }\n",
              "\n",
              "  .colab-df-quickchart-complete:disabled,\n",
              "  .colab-df-quickchart-complete:disabled:hover {\n",
              "    background-color: var(--disabled-bg-color);\n",
              "    fill: var(--disabled-fill-color);\n",
              "    box-shadow: none;\n",
              "  }\n",
              "\n",
              "  .colab-df-spinner {\n",
              "    border: 2px solid var(--fill-color);\n",
              "    border-color: transparent;\n",
              "    border-bottom-color: var(--fill-color);\n",
              "    animation:\n",
              "      spin 1s steps(1) infinite;\n",
              "  }\n",
              "\n",
              "  @keyframes spin {\n",
              "    0% {\n",
              "      border-color: transparent;\n",
              "      border-bottom-color: var(--fill-color);\n",
              "      border-left-color: var(--fill-color);\n",
              "    }\n",
              "    20% {\n",
              "      border-color: transparent;\n",
              "      border-left-color: var(--fill-color);\n",
              "      border-top-color: var(--fill-color);\n",
              "    }\n",
              "    30% {\n",
              "      border-color: transparent;\n",
              "      border-left-color: var(--fill-color);\n",
              "      border-top-color: var(--fill-color);\n",
              "      border-right-color: var(--fill-color);\n",
              "    }\n",
              "    40% {\n",
              "      border-color: transparent;\n",
              "      border-right-color: var(--fill-color);\n",
              "      border-top-color: var(--fill-color);\n",
              "    }\n",
              "    60% {\n",
              "      border-color: transparent;\n",
              "      border-right-color: var(--fill-color);\n",
              "    }\n",
              "    80% {\n",
              "      border-color: transparent;\n",
              "      border-right-color: var(--fill-color);\n",
              "      border-bottom-color: var(--fill-color);\n",
              "    }\n",
              "    90% {\n",
              "      border-color: transparent;\n",
              "      border-bottom-color: var(--fill-color);\n",
              "    }\n",
              "  }\n",
              "</style>\n",
              "\n",
              "  <script>\n",
              "    async function quickchart(key) {\n",
              "      const quickchartButtonEl =\n",
              "        document.querySelector('#' + key + ' button');\n",
              "      quickchartButtonEl.disabled = true;  // To prevent multiple clicks.\n",
              "      quickchartButtonEl.classList.add('colab-df-spinner');\n",
              "      try {\n",
              "        const charts = await google.colab.kernel.invokeFunction(\n",
              "            'suggestCharts', [key], {});\n",
              "      } catch (error) {\n",
              "        console.error('Error during call to suggestCharts:', error);\n",
              "      }\n",
              "      quickchartButtonEl.classList.remove('colab-df-spinner');\n",
              "      quickchartButtonEl.classList.add('colab-df-quickchart-complete');\n",
              "    }\n",
              "    (() => {\n",
              "      let quickchartButtonEl =\n",
              "        document.querySelector('#df-61cd4a1a-398b-4f5f-ae75-72ece5f11d86 button');\n",
              "      quickchartButtonEl.style.display =\n",
              "        google.colab.kernel.accessAllowed ? 'block' : 'none';\n",
              "    })();\n",
              "  </script>\n",
              "</div>\n",
              "    </div>\n",
              "  </div>\n"
            ]
          },
          "metadata": {},
          "execution_count": 6
        }
      ]
    },
    {
      "cell_type": "markdown",
      "metadata": {
        "id": "0rwODa2SbqTk"
      },
      "source": [
        "## Text normalisation\n",
        "\n",
        "Under text normalisation, we discussed about three techniques; (1) lower casing, (2) stemming and (3) lemmatisation.\n",
        "\n",
        "Lower casing can be easily done by setting an argument in vectorizer.\n",
        "\n",
        "Among stemming and lemmatisation, we will focus on lemmatisation in this tutorial because it is the more organised procedure."
      ]
    },
    {
      "cell_type": "code",
      "metadata": {
        "colab": {
          "base_uri": "https://localhost:8080/",
          "height": 330
        },
        "id": "M5XRnEWZbq3v",
        "outputId": "0bcf5419-d0b6-4a7b-f854-1e7aa14f753e"
      },
      "source": [
        "wnl = WordNetLemmatizer()\n",
        "\n",
        "list_lemmatised_sentences = []\n",
        "\n",
        "# iterate through each list of tokens and lemmatise the tokens\n",
        "for tokens in list_tokenised_text:\n",
        "  lemma_words = [wnl.lemmatize(word) for word in tokens]\n",
        "  lemma_sentence = ' '.join(lemma_words)\n",
        "  list_lemmatised_sentences.append(lemma_sentence)\n",
        "\n",
        "print(list_lemmatised_sentences[:2])\n",
        "\n",
        "# add new column to data frame\n",
        "df['Lemmatised_Text'] = list_lemmatised_sentences\n",
        "\n",
        "df.head()"
      ],
      "execution_count": 7,
      "outputs": [
        {
          "output_type": "stream",
          "name": "stdout",
          "text": [
            "['I have bought several of the Vitality canned dog food product and have found them all to be of good quality . The product look more like a stew than a processed meat and it smell better . My Labrador is finicky and she appreciates this product better than most .', \"Product arrived labeled a Jumbo Salted Peanuts ... the peanut were actually small sized unsalted . Not sure if this wa an error or if the vendor intended to represent the product a `` Jumbo '' .\"]\n"
          ]
        },
        {
          "output_type": "execute_result",
          "data": {
            "text/plain": [
              "   Id                                               Text Sentiment  \\\n",
              "0   1  I have bought several of the Vitality canned d...  positive   \n",
              "1   2  Product arrived labeled as Jumbo Salted Peanut...  negative   \n",
              "2   3  This is a confection that has been around a fe...  positive   \n",
              "3   4  If you are looking for the secret ingredient i...  negative   \n",
              "4   5  Great taffy at a great price.  There was a wid...  positive   \n",
              "\n",
              "                                      Tokenised_Text  \\\n",
              "0  I have bought several of the Vitality canned d...   \n",
              "1  Product arrived labeled as Jumbo Salted Peanut...   \n",
              "2  This is a confection that has been around a fe...   \n",
              "3  If you are looking for the secret ingredient i...   \n",
              "4  Great taffy at a great price . There was a wid...   \n",
              "\n",
              "                                     Lemmatised_Text  \n",
              "0  I have bought several of the Vitality canned d...  \n",
              "1  Product arrived labeled a Jumbo Salted Peanuts...  \n",
              "2  This is a confection that ha been around a few...  \n",
              "3  If you are looking for the secret ingredient i...  \n",
              "4  Great taffy at a great price . There wa a wide...  "
            ],
            "text/html": [
              "\n",
              "  <div id=\"df-67aec4bc-eea2-4235-93d5-884a8301a578\" class=\"colab-df-container\">\n",
              "    <div>\n",
              "<style scoped>\n",
              "    .dataframe tbody tr th:only-of-type {\n",
              "        vertical-align: middle;\n",
              "    }\n",
              "\n",
              "    .dataframe tbody tr th {\n",
              "        vertical-align: top;\n",
              "    }\n",
              "\n",
              "    .dataframe thead th {\n",
              "        text-align: right;\n",
              "    }\n",
              "</style>\n",
              "<table border=\"1\" class=\"dataframe\">\n",
              "  <thead>\n",
              "    <tr style=\"text-align: right;\">\n",
              "      <th></th>\n",
              "      <th>Id</th>\n",
              "      <th>Text</th>\n",
              "      <th>Sentiment</th>\n",
              "      <th>Tokenised_Text</th>\n",
              "      <th>Lemmatised_Text</th>\n",
              "    </tr>\n",
              "  </thead>\n",
              "  <tbody>\n",
              "    <tr>\n",
              "      <th>0</th>\n",
              "      <td>1</td>\n",
              "      <td>I have bought several of the Vitality canned d...</td>\n",
              "      <td>positive</td>\n",
              "      <td>I have bought several of the Vitality canned d...</td>\n",
              "      <td>I have bought several of the Vitality canned d...</td>\n",
              "    </tr>\n",
              "    <tr>\n",
              "      <th>1</th>\n",
              "      <td>2</td>\n",
              "      <td>Product arrived labeled as Jumbo Salted Peanut...</td>\n",
              "      <td>negative</td>\n",
              "      <td>Product arrived labeled as Jumbo Salted Peanut...</td>\n",
              "      <td>Product arrived labeled a Jumbo Salted Peanuts...</td>\n",
              "    </tr>\n",
              "    <tr>\n",
              "      <th>2</th>\n",
              "      <td>3</td>\n",
              "      <td>This is a confection that has been around a fe...</td>\n",
              "      <td>positive</td>\n",
              "      <td>This is a confection that has been around a fe...</td>\n",
              "      <td>This is a confection that ha been around a few...</td>\n",
              "    </tr>\n",
              "    <tr>\n",
              "      <th>3</th>\n",
              "      <td>4</td>\n",
              "      <td>If you are looking for the secret ingredient i...</td>\n",
              "      <td>negative</td>\n",
              "      <td>If you are looking for the secret ingredient i...</td>\n",
              "      <td>If you are looking for the secret ingredient i...</td>\n",
              "    </tr>\n",
              "    <tr>\n",
              "      <th>4</th>\n",
              "      <td>5</td>\n",
              "      <td>Great taffy at a great price.  There was a wid...</td>\n",
              "      <td>positive</td>\n",
              "      <td>Great taffy at a great price . There was a wid...</td>\n",
              "      <td>Great taffy at a great price . There wa a wide...</td>\n",
              "    </tr>\n",
              "  </tbody>\n",
              "</table>\n",
              "</div>\n",
              "    <div class=\"colab-df-buttons\">\n",
              "\n",
              "  <div class=\"colab-df-container\">\n",
              "    <button class=\"colab-df-convert\" onclick=\"convertToInteractive('df-67aec4bc-eea2-4235-93d5-884a8301a578')\"\n",
              "            title=\"Convert this dataframe to an interactive table.\"\n",
              "            style=\"display:none;\">\n",
              "\n",
              "  <svg xmlns=\"http://www.w3.org/2000/svg\" height=\"24px\" viewBox=\"0 -960 960 960\">\n",
              "    <path d=\"M120-120v-720h720v720H120Zm60-500h600v-160H180v160Zm220 220h160v-160H400v160Zm0 220h160v-160H400v160ZM180-400h160v-160H180v160Zm440 0h160v-160H620v160ZM180-180h160v-160H180v160Zm440 0h160v-160H620v160Z\"/>\n",
              "  </svg>\n",
              "    </button>\n",
              "\n",
              "  <style>\n",
              "    .colab-df-container {\n",
              "      display:flex;\n",
              "      gap: 12px;\n",
              "    }\n",
              "\n",
              "    .colab-df-convert {\n",
              "      background-color: #E8F0FE;\n",
              "      border: none;\n",
              "      border-radius: 50%;\n",
              "      cursor: pointer;\n",
              "      display: none;\n",
              "      fill: #1967D2;\n",
              "      height: 32px;\n",
              "      padding: 0 0 0 0;\n",
              "      width: 32px;\n",
              "    }\n",
              "\n",
              "    .colab-df-convert:hover {\n",
              "      background-color: #E2EBFA;\n",
              "      box-shadow: 0px 1px 2px rgba(60, 64, 67, 0.3), 0px 1px 3px 1px rgba(60, 64, 67, 0.15);\n",
              "      fill: #174EA6;\n",
              "    }\n",
              "\n",
              "    .colab-df-buttons div {\n",
              "      margin-bottom: 4px;\n",
              "    }\n",
              "\n",
              "    [theme=dark] .colab-df-convert {\n",
              "      background-color: #3B4455;\n",
              "      fill: #D2E3FC;\n",
              "    }\n",
              "\n",
              "    [theme=dark] .colab-df-convert:hover {\n",
              "      background-color: #434B5C;\n",
              "      box-shadow: 0px 1px 3px 1px rgba(0, 0, 0, 0.15);\n",
              "      filter: drop-shadow(0px 1px 2px rgba(0, 0, 0, 0.3));\n",
              "      fill: #FFFFFF;\n",
              "    }\n",
              "  </style>\n",
              "\n",
              "    <script>\n",
              "      const buttonEl =\n",
              "        document.querySelector('#df-67aec4bc-eea2-4235-93d5-884a8301a578 button.colab-df-convert');\n",
              "      buttonEl.style.display =\n",
              "        google.colab.kernel.accessAllowed ? 'block' : 'none';\n",
              "\n",
              "      async function convertToInteractive(key) {\n",
              "        const element = document.querySelector('#df-67aec4bc-eea2-4235-93d5-884a8301a578');\n",
              "        const dataTable =\n",
              "          await google.colab.kernel.invokeFunction('convertToInteractive',\n",
              "                                                    [key], {});\n",
              "        if (!dataTable) return;\n",
              "\n",
              "        const docLinkHtml = 'Like what you see? Visit the ' +\n",
              "          '<a target=\"_blank\" href=https://colab.research.google.com/notebooks/data_table.ipynb>data table notebook</a>'\n",
              "          + ' to learn more about interactive tables.';\n",
              "        element.innerHTML = '';\n",
              "        dataTable['output_type'] = 'display_data';\n",
              "        await google.colab.output.renderOutput(dataTable, element);\n",
              "        const docLink = document.createElement('div');\n",
              "        docLink.innerHTML = docLinkHtml;\n",
              "        element.appendChild(docLink);\n",
              "      }\n",
              "    </script>\n",
              "  </div>\n",
              "\n",
              "\n",
              "<div id=\"df-fc1c80fa-0883-4f1c-807e-217320096e71\">\n",
              "  <button class=\"colab-df-quickchart\" onclick=\"quickchart('df-fc1c80fa-0883-4f1c-807e-217320096e71')\"\n",
              "            title=\"Suggest charts\"\n",
              "            style=\"display:none;\">\n",
              "\n",
              "<svg xmlns=\"http://www.w3.org/2000/svg\" height=\"24px\"viewBox=\"0 0 24 24\"\n",
              "     width=\"24px\">\n",
              "    <g>\n",
              "        <path d=\"M19 3H5c-1.1 0-2 .9-2 2v14c0 1.1.9 2 2 2h14c1.1 0 2-.9 2-2V5c0-1.1-.9-2-2-2zM9 17H7v-7h2v7zm4 0h-2V7h2v10zm4 0h-2v-4h2v4z\"/>\n",
              "    </g>\n",
              "</svg>\n",
              "  </button>\n",
              "\n",
              "<style>\n",
              "  .colab-df-quickchart {\n",
              "      --bg-color: #E8F0FE;\n",
              "      --fill-color: #1967D2;\n",
              "      --hover-bg-color: #E2EBFA;\n",
              "      --hover-fill-color: #174EA6;\n",
              "      --disabled-fill-color: #AAA;\n",
              "      --disabled-bg-color: #DDD;\n",
              "  }\n",
              "\n",
              "  [theme=dark] .colab-df-quickchart {\n",
              "      --bg-color: #3B4455;\n",
              "      --fill-color: #D2E3FC;\n",
              "      --hover-bg-color: #434B5C;\n",
              "      --hover-fill-color: #FFFFFF;\n",
              "      --disabled-bg-color: #3B4455;\n",
              "      --disabled-fill-color: #666;\n",
              "  }\n",
              "\n",
              "  .colab-df-quickchart {\n",
              "    background-color: var(--bg-color);\n",
              "    border: none;\n",
              "    border-radius: 50%;\n",
              "    cursor: pointer;\n",
              "    display: none;\n",
              "    fill: var(--fill-color);\n",
              "    height: 32px;\n",
              "    padding: 0;\n",
              "    width: 32px;\n",
              "  }\n",
              "\n",
              "  .colab-df-quickchart:hover {\n",
              "    background-color: var(--hover-bg-color);\n",
              "    box-shadow: 0 1px 2px rgba(60, 64, 67, 0.3), 0 1px 3px 1px rgba(60, 64, 67, 0.15);\n",
              "    fill: var(--button-hover-fill-color);\n",
              "  }\n",
              "\n",
              "  .colab-df-quickchart-complete:disabled,\n",
              "  .colab-df-quickchart-complete:disabled:hover {\n",
              "    background-color: var(--disabled-bg-color);\n",
              "    fill: var(--disabled-fill-color);\n",
              "    box-shadow: none;\n",
              "  }\n",
              "\n",
              "  .colab-df-spinner {\n",
              "    border: 2px solid var(--fill-color);\n",
              "    border-color: transparent;\n",
              "    border-bottom-color: var(--fill-color);\n",
              "    animation:\n",
              "      spin 1s steps(1) infinite;\n",
              "  }\n",
              "\n",
              "  @keyframes spin {\n",
              "    0% {\n",
              "      border-color: transparent;\n",
              "      border-bottom-color: var(--fill-color);\n",
              "      border-left-color: var(--fill-color);\n",
              "    }\n",
              "    20% {\n",
              "      border-color: transparent;\n",
              "      border-left-color: var(--fill-color);\n",
              "      border-top-color: var(--fill-color);\n",
              "    }\n",
              "    30% {\n",
              "      border-color: transparent;\n",
              "      border-left-color: var(--fill-color);\n",
              "      border-top-color: var(--fill-color);\n",
              "      border-right-color: var(--fill-color);\n",
              "    }\n",
              "    40% {\n",
              "      border-color: transparent;\n",
              "      border-right-color: var(--fill-color);\n",
              "      border-top-color: var(--fill-color);\n",
              "    }\n",
              "    60% {\n",
              "      border-color: transparent;\n",
              "      border-right-color: var(--fill-color);\n",
              "    }\n",
              "    80% {\n",
              "      border-color: transparent;\n",
              "      border-right-color: var(--fill-color);\n",
              "      border-bottom-color: var(--fill-color);\n",
              "    }\n",
              "    90% {\n",
              "      border-color: transparent;\n",
              "      border-bottom-color: var(--fill-color);\n",
              "    }\n",
              "  }\n",
              "</style>\n",
              "\n",
              "  <script>\n",
              "    async function quickchart(key) {\n",
              "      const quickchartButtonEl =\n",
              "        document.querySelector('#' + key + ' button');\n",
              "      quickchartButtonEl.disabled = true;  // To prevent multiple clicks.\n",
              "      quickchartButtonEl.classList.add('colab-df-spinner');\n",
              "      try {\n",
              "        const charts = await google.colab.kernel.invokeFunction(\n",
              "            'suggestCharts', [key], {});\n",
              "      } catch (error) {\n",
              "        console.error('Error during call to suggestCharts:', error);\n",
              "      }\n",
              "      quickchartButtonEl.classList.remove('colab-df-spinner');\n",
              "      quickchartButtonEl.classList.add('colab-df-quickchart-complete');\n",
              "    }\n",
              "    (() => {\n",
              "      let quickchartButtonEl =\n",
              "        document.querySelector('#df-fc1c80fa-0883-4f1c-807e-217320096e71 button');\n",
              "      quickchartButtonEl.style.display =\n",
              "        google.colab.kernel.accessAllowed ? 'block' : 'none';\n",
              "    })();\n",
              "  </script>\n",
              "</div>\n",
              "    </div>\n",
              "  </div>\n"
            ]
          },
          "metadata": {},
          "execution_count": 7
        }
      ]
    },
    {
      "cell_type": "code",
      "metadata": {
        "colab": {
          "base_uri": "https://localhost:8080/",
          "height": 293
        },
        "id": "KfD-z-7orwu3",
        "outputId": "90ad6576-d10f-4d5e-f422-a0459d162423"
      },
      "source": [
        "# save updated data frame to a file\n",
        "# This step is optional for the main flow. But by saving data to a file you can analyse the preprocessed text output more deeply.\n",
        "df.to_csv('/content/reviews_preprocessed.csv', index=False)\n",
        "\n",
        "df.head()"
      ],
      "execution_count": 8,
      "outputs": [
        {
          "output_type": "execute_result",
          "data": {
            "text/plain": [
              "   Id                                               Text Sentiment  \\\n",
              "0   1  I have bought several of the Vitality canned d...  positive   \n",
              "1   2  Product arrived labeled as Jumbo Salted Peanut...  negative   \n",
              "2   3  This is a confection that has been around a fe...  positive   \n",
              "3   4  If you are looking for the secret ingredient i...  negative   \n",
              "4   5  Great taffy at a great price.  There was a wid...  positive   \n",
              "\n",
              "                                      Tokenised_Text  \\\n",
              "0  I have bought several of the Vitality canned d...   \n",
              "1  Product arrived labeled as Jumbo Salted Peanut...   \n",
              "2  This is a confection that has been around a fe...   \n",
              "3  If you are looking for the secret ingredient i...   \n",
              "4  Great taffy at a great price . There was a wid...   \n",
              "\n",
              "                                     Lemmatised_Text  \n",
              "0  I have bought several of the Vitality canned d...  \n",
              "1  Product arrived labeled a Jumbo Salted Peanuts...  \n",
              "2  This is a confection that ha been around a few...  \n",
              "3  If you are looking for the secret ingredient i...  \n",
              "4  Great taffy at a great price . There wa a wide...  "
            ],
            "text/html": [
              "\n",
              "  <div id=\"df-88dfc9e1-f6ba-465e-ab8e-0b334393e861\" class=\"colab-df-container\">\n",
              "    <div>\n",
              "<style scoped>\n",
              "    .dataframe tbody tr th:only-of-type {\n",
              "        vertical-align: middle;\n",
              "    }\n",
              "\n",
              "    .dataframe tbody tr th {\n",
              "        vertical-align: top;\n",
              "    }\n",
              "\n",
              "    .dataframe thead th {\n",
              "        text-align: right;\n",
              "    }\n",
              "</style>\n",
              "<table border=\"1\" class=\"dataframe\">\n",
              "  <thead>\n",
              "    <tr style=\"text-align: right;\">\n",
              "      <th></th>\n",
              "      <th>Id</th>\n",
              "      <th>Text</th>\n",
              "      <th>Sentiment</th>\n",
              "      <th>Tokenised_Text</th>\n",
              "      <th>Lemmatised_Text</th>\n",
              "    </tr>\n",
              "  </thead>\n",
              "  <tbody>\n",
              "    <tr>\n",
              "      <th>0</th>\n",
              "      <td>1</td>\n",
              "      <td>I have bought several of the Vitality canned d...</td>\n",
              "      <td>positive</td>\n",
              "      <td>I have bought several of the Vitality canned d...</td>\n",
              "      <td>I have bought several of the Vitality canned d...</td>\n",
              "    </tr>\n",
              "    <tr>\n",
              "      <th>1</th>\n",
              "      <td>2</td>\n",
              "      <td>Product arrived labeled as Jumbo Salted Peanut...</td>\n",
              "      <td>negative</td>\n",
              "      <td>Product arrived labeled as Jumbo Salted Peanut...</td>\n",
              "      <td>Product arrived labeled a Jumbo Salted Peanuts...</td>\n",
              "    </tr>\n",
              "    <tr>\n",
              "      <th>2</th>\n",
              "      <td>3</td>\n",
              "      <td>This is a confection that has been around a fe...</td>\n",
              "      <td>positive</td>\n",
              "      <td>This is a confection that has been around a fe...</td>\n",
              "      <td>This is a confection that ha been around a few...</td>\n",
              "    </tr>\n",
              "    <tr>\n",
              "      <th>3</th>\n",
              "      <td>4</td>\n",
              "      <td>If you are looking for the secret ingredient i...</td>\n",
              "      <td>negative</td>\n",
              "      <td>If you are looking for the secret ingredient i...</td>\n",
              "      <td>If you are looking for the secret ingredient i...</td>\n",
              "    </tr>\n",
              "    <tr>\n",
              "      <th>4</th>\n",
              "      <td>5</td>\n",
              "      <td>Great taffy at a great price.  There was a wid...</td>\n",
              "      <td>positive</td>\n",
              "      <td>Great taffy at a great price . There was a wid...</td>\n",
              "      <td>Great taffy at a great price . There wa a wide...</td>\n",
              "    </tr>\n",
              "  </tbody>\n",
              "</table>\n",
              "</div>\n",
              "    <div class=\"colab-df-buttons\">\n",
              "\n",
              "  <div class=\"colab-df-container\">\n",
              "    <button class=\"colab-df-convert\" onclick=\"convertToInteractive('df-88dfc9e1-f6ba-465e-ab8e-0b334393e861')\"\n",
              "            title=\"Convert this dataframe to an interactive table.\"\n",
              "            style=\"display:none;\">\n",
              "\n",
              "  <svg xmlns=\"http://www.w3.org/2000/svg\" height=\"24px\" viewBox=\"0 -960 960 960\">\n",
              "    <path d=\"M120-120v-720h720v720H120Zm60-500h600v-160H180v160Zm220 220h160v-160H400v160Zm0 220h160v-160H400v160ZM180-400h160v-160H180v160Zm440 0h160v-160H620v160ZM180-180h160v-160H180v160Zm440 0h160v-160H620v160Z\"/>\n",
              "  </svg>\n",
              "    </button>\n",
              "\n",
              "  <style>\n",
              "    .colab-df-container {\n",
              "      display:flex;\n",
              "      gap: 12px;\n",
              "    }\n",
              "\n",
              "    .colab-df-convert {\n",
              "      background-color: #E8F0FE;\n",
              "      border: none;\n",
              "      border-radius: 50%;\n",
              "      cursor: pointer;\n",
              "      display: none;\n",
              "      fill: #1967D2;\n",
              "      height: 32px;\n",
              "      padding: 0 0 0 0;\n",
              "      width: 32px;\n",
              "    }\n",
              "\n",
              "    .colab-df-convert:hover {\n",
              "      background-color: #E2EBFA;\n",
              "      box-shadow: 0px 1px 2px rgba(60, 64, 67, 0.3), 0px 1px 3px 1px rgba(60, 64, 67, 0.15);\n",
              "      fill: #174EA6;\n",
              "    }\n",
              "\n",
              "    .colab-df-buttons div {\n",
              "      margin-bottom: 4px;\n",
              "    }\n",
              "\n",
              "    [theme=dark] .colab-df-convert {\n",
              "      background-color: #3B4455;\n",
              "      fill: #D2E3FC;\n",
              "    }\n",
              "\n",
              "    [theme=dark] .colab-df-convert:hover {\n",
              "      background-color: #434B5C;\n",
              "      box-shadow: 0px 1px 3px 1px rgba(0, 0, 0, 0.15);\n",
              "      filter: drop-shadow(0px 1px 2px rgba(0, 0, 0, 0.3));\n",
              "      fill: #FFFFFF;\n",
              "    }\n",
              "  </style>\n",
              "\n",
              "    <script>\n",
              "      const buttonEl =\n",
              "        document.querySelector('#df-88dfc9e1-f6ba-465e-ab8e-0b334393e861 button.colab-df-convert');\n",
              "      buttonEl.style.display =\n",
              "        google.colab.kernel.accessAllowed ? 'block' : 'none';\n",
              "\n",
              "      async function convertToInteractive(key) {\n",
              "        const element = document.querySelector('#df-88dfc9e1-f6ba-465e-ab8e-0b334393e861');\n",
              "        const dataTable =\n",
              "          await google.colab.kernel.invokeFunction('convertToInteractive',\n",
              "                                                    [key], {});\n",
              "        if (!dataTable) return;\n",
              "\n",
              "        const docLinkHtml = 'Like what you see? Visit the ' +\n",
              "          '<a target=\"_blank\" href=https://colab.research.google.com/notebooks/data_table.ipynb>data table notebook</a>'\n",
              "          + ' to learn more about interactive tables.';\n",
              "        element.innerHTML = '';\n",
              "        dataTable['output_type'] = 'display_data';\n",
              "        await google.colab.output.renderOutput(dataTable, element);\n",
              "        const docLink = document.createElement('div');\n",
              "        docLink.innerHTML = docLinkHtml;\n",
              "        element.appendChild(docLink);\n",
              "      }\n",
              "    </script>\n",
              "  </div>\n",
              "\n",
              "\n",
              "<div id=\"df-4de21632-67f3-47e9-af43-8facaf21399b\">\n",
              "  <button class=\"colab-df-quickchart\" onclick=\"quickchart('df-4de21632-67f3-47e9-af43-8facaf21399b')\"\n",
              "            title=\"Suggest charts\"\n",
              "            style=\"display:none;\">\n",
              "\n",
              "<svg xmlns=\"http://www.w3.org/2000/svg\" height=\"24px\"viewBox=\"0 0 24 24\"\n",
              "     width=\"24px\">\n",
              "    <g>\n",
              "        <path d=\"M19 3H5c-1.1 0-2 .9-2 2v14c0 1.1.9 2 2 2h14c1.1 0 2-.9 2-2V5c0-1.1-.9-2-2-2zM9 17H7v-7h2v7zm4 0h-2V7h2v10zm4 0h-2v-4h2v4z\"/>\n",
              "    </g>\n",
              "</svg>\n",
              "  </button>\n",
              "\n",
              "<style>\n",
              "  .colab-df-quickchart {\n",
              "      --bg-color: #E8F0FE;\n",
              "      --fill-color: #1967D2;\n",
              "      --hover-bg-color: #E2EBFA;\n",
              "      --hover-fill-color: #174EA6;\n",
              "      --disabled-fill-color: #AAA;\n",
              "      --disabled-bg-color: #DDD;\n",
              "  }\n",
              "\n",
              "  [theme=dark] .colab-df-quickchart {\n",
              "      --bg-color: #3B4455;\n",
              "      --fill-color: #D2E3FC;\n",
              "      --hover-bg-color: #434B5C;\n",
              "      --hover-fill-color: #FFFFFF;\n",
              "      --disabled-bg-color: #3B4455;\n",
              "      --disabled-fill-color: #666;\n",
              "  }\n",
              "\n",
              "  .colab-df-quickchart {\n",
              "    background-color: var(--bg-color);\n",
              "    border: none;\n",
              "    border-radius: 50%;\n",
              "    cursor: pointer;\n",
              "    display: none;\n",
              "    fill: var(--fill-color);\n",
              "    height: 32px;\n",
              "    padding: 0;\n",
              "    width: 32px;\n",
              "  }\n",
              "\n",
              "  .colab-df-quickchart:hover {\n",
              "    background-color: var(--hover-bg-color);\n",
              "    box-shadow: 0 1px 2px rgba(60, 64, 67, 0.3), 0 1px 3px 1px rgba(60, 64, 67, 0.15);\n",
              "    fill: var(--button-hover-fill-color);\n",
              "  }\n",
              "\n",
              "  .colab-df-quickchart-complete:disabled,\n",
              "  .colab-df-quickchart-complete:disabled:hover {\n",
              "    background-color: var(--disabled-bg-color);\n",
              "    fill: var(--disabled-fill-color);\n",
              "    box-shadow: none;\n",
              "  }\n",
              "\n",
              "  .colab-df-spinner {\n",
              "    border: 2px solid var(--fill-color);\n",
              "    border-color: transparent;\n",
              "    border-bottom-color: var(--fill-color);\n",
              "    animation:\n",
              "      spin 1s steps(1) infinite;\n",
              "  }\n",
              "\n",
              "  @keyframes spin {\n",
              "    0% {\n",
              "      border-color: transparent;\n",
              "      border-bottom-color: var(--fill-color);\n",
              "      border-left-color: var(--fill-color);\n",
              "    }\n",
              "    20% {\n",
              "      border-color: transparent;\n",
              "      border-left-color: var(--fill-color);\n",
              "      border-top-color: var(--fill-color);\n",
              "    }\n",
              "    30% {\n",
              "      border-color: transparent;\n",
              "      border-left-color: var(--fill-color);\n",
              "      border-top-color: var(--fill-color);\n",
              "      border-right-color: var(--fill-color);\n",
              "    }\n",
              "    40% {\n",
              "      border-color: transparent;\n",
              "      border-right-color: var(--fill-color);\n",
              "      border-top-color: var(--fill-color);\n",
              "    }\n",
              "    60% {\n",
              "      border-color: transparent;\n",
              "      border-right-color: var(--fill-color);\n",
              "    }\n",
              "    80% {\n",
              "      border-color: transparent;\n",
              "      border-right-color: var(--fill-color);\n",
              "      border-bottom-color: var(--fill-color);\n",
              "    }\n",
              "    90% {\n",
              "      border-color: transparent;\n",
              "      border-bottom-color: var(--fill-color);\n",
              "    }\n",
              "  }\n",
              "</style>\n",
              "\n",
              "  <script>\n",
              "    async function quickchart(key) {\n",
              "      const quickchartButtonEl =\n",
              "        document.querySelector('#' + key + ' button');\n",
              "      quickchartButtonEl.disabled = true;  // To prevent multiple clicks.\n",
              "      quickchartButtonEl.classList.add('colab-df-spinner');\n",
              "      try {\n",
              "        const charts = await google.colab.kernel.invokeFunction(\n",
              "            'suggestCharts', [key], {});\n",
              "      } catch (error) {\n",
              "        console.error('Error during call to suggestCharts:', error);\n",
              "      }\n",
              "      quickchartButtonEl.classList.remove('colab-df-spinner');\n",
              "      quickchartButtonEl.classList.add('colab-df-quickchart-complete');\n",
              "    }\n",
              "    (() => {\n",
              "      let quickchartButtonEl =\n",
              "        document.querySelector('#df-4de21632-67f3-47e9-af43-8facaf21399b button');\n",
              "      quickchartButtonEl.style.display =\n",
              "        google.colab.kernel.accessAllowed ? 'block' : 'none';\n",
              "    })();\n",
              "  </script>\n",
              "</div>\n",
              "    </div>\n",
              "  </div>\n"
            ]
          },
          "metadata": {},
          "execution_count": 8
        }
      ]
    },
    {
      "cell_type": "markdown",
      "metadata": {
        "id": "iI2Tfru-ib2n"
      },
      "source": [
        "## Stop word removal\n",
        "\n",
        "To convert text into numeric features, we use vectorizers (CountVectorizer, TfidfVectorizer). Stop word removal can be easily done by giving a stop word list as an argument to the vectorizer. So, during the preprocessing step, we need to figure out a suitable stop word list.\n",
        "\n",
        "Let's look at the English stop words list available with NLTK library."
      ]
    },
    {
      "cell_type": "code",
      "metadata": {
        "colab": {
          "base_uri": "https://localhost:8080/"
        },
        "id": "5NqYDVZwiTUx",
        "outputId": "c28f30ad-a7f8-46c7-a7fe-a6544248466a"
      },
      "source": [
        "# get English stopwords\n",
        "stop_words = stopwords.words('english')\n",
        "print(stop_words)"
      ],
      "execution_count": 9,
      "outputs": [
        {
          "output_type": "stream",
          "name": "stdout",
          "text": [
            "['i', 'me', 'my', 'myself', 'we', 'our', 'ours', 'ourselves', 'you', \"you're\", \"you've\", \"you'll\", \"you'd\", 'your', 'yours', 'yourself', 'yourselves', 'he', 'him', 'his', 'himself', 'she', \"she's\", 'her', 'hers', 'herself', 'it', \"it's\", 'its', 'itself', 'they', 'them', 'their', 'theirs', 'themselves', 'what', 'which', 'who', 'whom', 'this', 'that', \"that'll\", 'these', 'those', 'am', 'is', 'are', 'was', 'were', 'be', 'been', 'being', 'have', 'has', 'had', 'having', 'do', 'does', 'did', 'doing', 'a', 'an', 'the', 'and', 'but', 'if', 'or', 'because', 'as', 'until', 'while', 'of', 'at', 'by', 'for', 'with', 'about', 'against', 'between', 'into', 'through', 'during', 'before', 'after', 'above', 'below', 'to', 'from', 'up', 'down', 'in', 'out', 'on', 'off', 'over', 'under', 'again', 'further', 'then', 'once', 'here', 'there', 'when', 'where', 'why', 'how', 'all', 'any', 'both', 'each', 'few', 'more', 'most', 'other', 'some', 'such', 'no', 'nor', 'not', 'only', 'own', 'same', 'so', 'than', 'too', 'very', 's', 't', 'can', 'will', 'just', 'don', \"don't\", 'should', \"should've\", 'now', 'd', 'll', 'm', 'o', 're', 've', 'y', 'ain', 'aren', \"aren't\", 'couldn', \"couldn't\", 'didn', \"didn't\", 'doesn', \"doesn't\", 'hadn', \"hadn't\", 'hasn', \"hasn't\", 'haven', \"haven't\", 'isn', \"isn't\", 'ma', 'mightn', \"mightn't\", 'mustn', \"mustn't\", 'needn', \"needn't\", 'shan', \"shan't\", 'shouldn', \"shouldn't\", 'wasn', \"wasn't\", 'weren', \"weren't\", 'won', \"won't\", 'wouldn', \"wouldn't\"]\n"
          ]
        }
      ]
    },
    {
      "cell_type": "markdown",
      "metadata": {
        "id": "YWw85WnWjMgf"
      },
      "source": [
        "<b>Is the above list suitable for this analysis? </b>\n",
        "\n",
        "The above list contains the words <i>no, not, aren't, isn't</i>, etc. which are commonly used to express negative sentiment. By removing them, some important tokens will be removed.\n",
        "\n",
        "Therefore, stop word removal using the above list is not appropriate for this analysis. This inappropriateness will be further confirmed with the model accuracies reported below. In such scenarios, you should either change the list to make it suitable for the analysis or skip stop word removal preprocessing step.\n",
        "\n",
        "<font color='red'>**REMEMBER!**</font> Even though the stop word removal is not appropriate for this analysis, there are lot of text analysis tasks which need this step.\n"
      ]
    },
    {
      "cell_type": "markdown",
      "metadata": {
        "id": "nh7Ksh4IrDvM"
      },
      "source": [
        "## Punctuation removal\n",
        "\n",
        "To convert text into numeric features, we use vectorizers (CountVectorizer, TfidfVectorizer). As we already learned, punctuation removal can be easily handled with the vectorizer. Thus, no any preprocessing step is needed."
      ]
    },
    {
      "cell_type": "markdown",
      "metadata": {
        "id": "F8oyh3qWr8lc"
      },
      "source": [
        "## Summary\n",
        "We went through all text preprocessing steps, discussed their appropriateness  and applied them to the data set.\n",
        "\n",
        "In summary, now we have a data frame named <i>df</i> with following columns.\n",
        "- 'Id' - Ids\n",
        "- 'Text' - original text data\n",
        "- 'Sentiment' - labels\n",
        "- 'Tokenised_Text' - tokenised text\n",
        "- 'Lemmatised_Text' - lemmatised text\n",
        "\n",
        "Also a list of stop words (stop_words)."
      ]
    },
    {
      "cell_type": "markdown",
      "metadata": {
        "id": "2qcf5XZXt7uR"
      },
      "source": [
        "# Text feature extraction and model generation\n",
        "\n",
        "We can convert text into numeric features using term occurrence vectors or tf-idf vectors. This conversion can be easily done using CountVectorizer or TfidfVectorizer.\n",
        "\n",
        "As classification algorithms, you learned SVM, Naive Bayes and decision trees under Machine Learning module. To make things simpler, let's focus on SVM for our initial experiments to understand the impact by different data preprocessing techniques and features. Later we can extend the experiments to other algorithms.\n",
        "\n"
      ]
    },
    {
      "cell_type": "markdown",
      "metadata": {
        "id": "pl66ltnCepjp"
      },
      "source": [
        "Looking at available data preprocessing techniques and features, we can make different combinations to tryout different models.\n",
        "\n",
        "To make things clear, I am using lower casing and punctuation removal as default preprocessing steps and any changes other than that are mentioned in the table.\n",
        "\n",
        "|Model | Data Preprocessing | Features   |\n",
        "|------|--------------------|------------|\n",
        "|M1    |-| term occurrence vector(1-grams) |\n",
        "|M2    |-| tf-idf vector(1-grams) |\n",
        "|M3    |tokenisation(NLTK) | <i> \\<best amoung M1 and M2\\> |\n",
        "|M4    |lemmatisation(WordNet) | <i> \\<best amoung M1 and M2\\> |\n",
        "|M5    |tokenisation(NLTK), stop word removal | <i> \\<best amoung M1 and M2\\> |\n",
        "|M6    |lemmatisation(WordNet), stop word removal | <i> \\<best amoung M1 and M2\\> |\n",
        "\n",
        "Initially we will compare the performance of  term occurrence vectors and tf-idf vectors. Then the best vector representation will be used with other data preprocessing techniques.\n",
        "\n",
        "Let's follow these combinations and check their impact on model accuracy.\n",
        "\n",
        "<b>NOTE!</b> All combinations are not listed here."
      ]
    },
    {
      "cell_type": "markdown",
      "metadata": {
        "id": "xGsf5eW4lpM2"
      },
      "source": [
        "As the first step, we need to separate data into a training set and validation set.\n",
        "\n",
        "Since we are going to evaluate the models trained using raw (original) text, tokenised text and lemmatised text, in below, I create 3 train and test set pairs using the columns: 'Text', 'Tokenised_Text' and 'Lemmatised_Text'."
      ]
    },
    {
      "cell_type": "code",
      "metadata": {
        "colab": {
          "base_uri": "https://localhost:8080/"
        },
        "id": "6ESYYpOPlkxr",
        "outputId": "9ab5b040-98db-465f-a317-ac64bf683ce0"
      },
      "source": [
        "# use raw text\n",
        "X_train_text, X_val_text, y_train, y_val = train_test_split(df['Text'], df['Sentiment'], test_size=0.3, random_state=RANDOM_SEED)\n",
        "print(f'training data set size: {len(X_train_text)}')\n",
        "print(f'validation data set size: {len(X_val_text)}')\n",
        "\n",
        "# use tokenised text\n",
        "X_train_tokenised_text, X_val_tokenised_text, y_train, y_val = train_test_split(df['Tokenised_Text'], df['Sentiment'], test_size=0.3, random_state=RANDOM_SEED)\n",
        "print(f'training data set size: {len(X_train_tokenised_text)}')\n",
        "print(f'validation data set size: {len(X_val_tokenised_text)}')\n",
        "\n",
        "# use lemmatised text\n",
        "X_train_lemmatised_text, X_val_lemmatised_text, y_train, y_val = train_test_split(df['Lemmatised_Text'], df['Sentiment'], test_size=0.3, random_state=RANDOM_SEED)\n",
        "print(f'training data set size: {len(X_train_lemmatised_text)}')\n",
        "print(f'validation data set size: {len(X_val_lemmatised_text)}')\n",
        "\n",
        "# # define class_names to using with plot_confusion_matrix\n",
        "# class_list = ['positive', 'negative']"
      ],
      "execution_count": 10,
      "outputs": [
        {
          "output_type": "stream",
          "name": "stdout",
          "text": [
            "training data set size: 14000\n",
            "validation data set size: 6000\n",
            "training data set size: 14000\n",
            "validation data set size: 6000\n",
            "training data set size: 14000\n",
            "validation data set size: 6000\n"
          ]
        }
      ]
    },
    {
      "cell_type": "markdown",
      "source": [
        "Since we need to evaluate all the models we are going to build using the same procedure, we can write a function for evaluation, which we can reuse for each model without repeatedly writing the same code."
      ],
      "metadata": {
        "id": "WZHzL4Rrq1Qk"
      }
    },
    {
      "cell_type": "code",
      "source": [
        "# method to calculate evaluation results\n",
        "def evaluate(actuals, predictions, class_names):\n",
        "  '''\n",
        "  actuals: list of actual labels\n",
        "  predictions: list of predicted labels\n",
        "  class_names: list of classes used for the model/classification task\n",
        "  '''\n",
        "  # calculate accuracy\n",
        "  accuracy = metrics.accuracy_score(actuals, predictions)\n",
        "  print(f'Accuracy: {accuracy}')\n",
        "\n",
        "  # plot confusion matrix\n",
        "  confusion_matrix = metrics.confusion_matrix(actuals, predictions, labels=class_names)\n",
        "  disp = ConfusionMatrixDisplay(confusion_matrix=confusion_matrix, display_labels=class_names)\n",
        "  disp.plot()\n",
        "  plt.show()"
      ],
      "metadata": {
        "id": "FuNUKhhmpb73"
      },
      "execution_count": 11,
      "outputs": []
    },
    {
      "cell_type": "markdown",
      "metadata": {
        "id": "V-afXrnwWWwU"
      },
      "source": [
        "## SVM"
      ]
    },
    {
      "cell_type": "markdown",
      "source": [
        "Similar to our approach to evaluation, we can write a function to build an SVM model as follows."
      ],
      "metadata": {
        "id": "NPxcOKwIrfRR"
      }
    },
    {
      "cell_type": "code",
      "source": [
        "# method to train and predict using SVM classifier\n",
        "def get_svm_predictions(X_train, X_val, y_train, y_val):\n",
        "  # build model\n",
        "  clf = svm.SVC(kernel='linear', random_state=RANDOM_SEED)\n",
        "  clf.fit(X_train, y_train)\n",
        "\n",
        "  # Make predictions on test data\n",
        "  y_pred = clf.predict(X_val)\n",
        "\n",
        "  # evalution\n",
        "  evaluate(y_val, y_pred, clf.classes_)\n",
        "\n",
        "  return clf"
      ],
      "metadata": {
        "id": "vkSnDTaEqJmO"
      },
      "execution_count": 12,
      "outputs": []
    },
    {
      "cell_type": "markdown",
      "source": [
        "Now, we have everything required for our experiments: preprocessed data, procedure/function to build the model and procedure/function to evaluate the model. Let's build and evaluate different SVM models with different feature combinations."
      ],
      "metadata": {
        "id": "ApqQgdo-r0js"
      }
    },
    {
      "cell_type": "markdown",
      "metadata": {
        "id": "5D7Xhvta2hRL"
      },
      "source": [
        "### Model M1\n",
        "\n",
        "* Data preprocessing - lower casing, punctuation removal\n",
        "* Features - term occurrence vector (1-grams)\n",
        "* Algorithm - SVM"
      ]
    },
    {
      "cell_type": "code",
      "source": [
        "vectorizer = CountVectorizer()  # default: lowercase=True, ngram_range=(1,1)\n",
        "vectorizer.fit(X_train_text)\n",
        "\n",
        "# convert train and test text data to numeric vectors\n",
        "X_train = vectorizer.transform(X_train_text)\n",
        "X_val = vectorizer.transform(X_val_text)\n",
        "\n",
        "m1 = get_svm_predictions(X_train, X_val, y_train, y_val)"
      ],
      "metadata": {
        "colab": {
          "base_uri": "https://localhost:8080/",
          "height": 466
        },
        "id": "aiMFJuVzqXO9",
        "outputId": "2f58cc82-f8c3-4614-fa03-808e6e42e539"
      },
      "execution_count": 13,
      "outputs": [
        {
          "output_type": "stream",
          "name": "stdout",
          "text": [
            "Accuracy: 0.905\n"
          ]
        },
        {
          "output_type": "display_data",
          "data": {
            "text/plain": [
              "<Figure size 640x480 with 2 Axes>"
            ],
            "image/png": "[encoded data removed]"
          },
          "metadata": {}
        }
      ]
    },
    {
      "cell_type": "markdown",
      "metadata": {
        "id": "NMj8IMfC5Njq"
      },
      "source": [
        "### Model M2\n",
        "\n",
        "* Data preprocessing - lower casing, punctuation removal\n",
        "* Features - tf-idf vector (1-grams)\n",
        "* Algorithm - SVM"
      ]
    },
    {
      "cell_type": "code",
      "metadata": {
        "colab": {
          "base_uri": "https://localhost:8080/",
          "height": 466
        },
        "id": "nbzNipU4iH-O",
        "outputId": "336632cc-8a5b-48df-fd56-9e86ae9100d0"
      },
      "source": [
        "vectorizer = TfidfVectorizer()  # default: lowercase=True, ngram_range=(1,1)\n",
        "vectorizer.fit(X_train_text)\n",
        "\n",
        "# convert train and test text data to numeric vectors\n",
        "X_train = vectorizer.transform(X_train_text)\n",
        "X_val = vectorizer.transform(X_val_text)\n",
        "\n",
        "m2 = get_svm_predictions(X_train, X_val, y_train, y_val)"
      ],
      "execution_count": 14,
      "outputs": [
        {
          "output_type": "stream",
          "name": "stdout",
          "text": [
            "Accuracy: 0.9228333333333333\n"
          ]
        },
        {
          "output_type": "display_data",
          "data": {
            "text/plain": [
              "<Figure size 640x480 with 2 Axes>"
            ],
            "image/png": "[encoded data removed]"
          },
          "metadata": {}
        }
      ]
    },
    {
      "cell_type": "markdown",
      "source": [
        "According to the measures accuracy values model M2 is more accurate than model M1."
      ],
      "metadata": {
        "id": "bCAMnIynpcIS"
      }
    },
    {
      "cell_type": "markdown",
      "metadata": {
        "id": "BHsj_iV-4RLV"
      },
      "source": [
        "### Model M3\n",
        "\n",
        "* Data preprocessing - lower casing, punctuation removal, tokenisation(NLTK)\n",
        "* Features - tf-idf vector (1-grams)\n",
        "* Algorithm - SVM"
      ]
    },
    {
      "cell_type": "code",
      "metadata": {
        "colab": {
          "base_uri": "https://localhost:8080/",
          "height": 466
        },
        "id": "5EHwvVx6iyT-",
        "outputId": "2d83d41d-6f10-40f8-b52c-ac674776d7b2"
      },
      "source": [
        "vectorizer = TfidfVectorizer()  # default: lowercase=True, ngram_range=(1,1)\n",
        "vectorizer.fit(X_train_tokenised_text)\n",
        "\n",
        "# convert train and test text data to numeric vectors\n",
        "X_train = vectorizer.transform(X_train_tokenised_text)\n",
        "X_val = vectorizer.transform(X_val_tokenised_text)\n",
        "\n",
        "m3 = get_svm_predictions(X_train, X_val, y_train, y_val)"
      ],
      "execution_count": 15,
      "outputs": [
        {
          "output_type": "stream",
          "name": "stdout",
          "text": [
            "Accuracy: 0.9225\n"
          ]
        },
        {
          "output_type": "display_data",
          "data": {
            "text/plain": [
              "<Figure size 640x480 with 2 Axes>"
            ],
            "image/png": "[encoded data removed]"
          },
          "metadata": {}
        }
      ]
    },
    {
      "cell_type": "markdown",
      "metadata": {
        "id": "LX8lvAd0jbkZ"
      },
      "source": [
        "### Model M4\n",
        "\n",
        "* Data preprocessing - lower casing, punctuation removal, lemmatisation(WordNet)\n",
        "* Features - tf-idf vector (1-grams)\n",
        "* Algorithm - SVM"
      ]
    },
    {
      "cell_type": "code",
      "source": [
        "vectorizer = TfidfVectorizer()  # default: lowercase=True, ngram_range=(1,1)\n",
        "vectorizer.fit(X_train_lemmatised_text)\n",
        "\n",
        "# convert train and test text data to numeric vectors\n",
        "X_train = vectorizer.transform(X_train_lemmatised_text)\n",
        "X_val = vectorizer.transform(X_val_lemmatised_text)\n",
        "\n",
        "m4 = get_svm_predictions(X_train, X_val, y_train, y_val)"
      ],
      "metadata": {
        "colab": {
          "base_uri": "https://localhost:8080/",
          "height": 466
        },
        "id": "tGRZuhKDtxh3",
        "outputId": "d2b9a612-043f-4823-be16-4703b091f935"
      },
      "execution_count": 16,
      "outputs": [
        {
          "output_type": "stream",
          "name": "stdout",
          "text": [
            "Accuracy: 0.9211666666666667\n"
          ]
        },
        {
          "output_type": "display_data",
          "data": {
            "text/plain": [
              "<Figure size 640x480 with 2 Axes>"
            ],
            "image/png": "[encoded data removed]"
          },
          "metadata": {}
        }
      ]
    },
    {
      "cell_type": "markdown",
      "metadata": {
        "id": "Vy3rzIj8j_zs"
      },
      "source": [
        "### Model M5\n",
        "\n",
        "* Data preprocessing - lower casing, punctuation removal, tokenisation(NLTK), stop word removal\n",
        "* Features - tf-idf vector (1-grams)\n",
        "* Algorithm - SVM"
      ]
    },
    {
      "cell_type": "code",
      "metadata": {
        "colab": {
          "base_uri": "https://localhost:8080/",
          "height": 466
        },
        "id": "KABdHf6mkC17",
        "outputId": "9fe71469-18ab-40a9-f440-e078df633f3f"
      },
      "source": [
        "vectorizer = TfidfVectorizer(stop_words=stop_words)  # default: lowercase=True, ngram_range=(1,1)\n",
        "vectorizer.fit(X_train_tokenised_text)\n",
        "\n",
        "# convert train and test text data to numeric vectors\n",
        "X_train = vectorizer.transform(X_train_tokenised_text)\n",
        "X_val = vectorizer.transform(X_val_tokenised_text)\n",
        "\n",
        "m5 = get_svm_predictions(X_train, X_val, y_train, y_val)"
      ],
      "execution_count": 17,
      "outputs": [
        {
          "output_type": "stream",
          "name": "stdout",
          "text": [
            "Accuracy: 0.9211666666666667\n"
          ]
        },
        {
          "output_type": "display_data",
          "data": {
            "text/plain": [
              "<Figure size 640x480 with 2 Axes>"
            ],
            "image/png": "[encoded data removed]"
          },
          "metadata": {}
        }
      ]
    },
    {
      "cell_type": "markdown",
      "metadata": {
        "id": "FCDnVSSCkVOs"
      },
      "source": [
        "### Model M6\n",
        "\n",
        "* Data preprocessing - lower casing, punctuation removal, lemmatisation(WordNet), stop word removal\n",
        "* Features - tf-idf vector (1-grams)\n",
        "* Algorithm - SVM"
      ]
    },
    {
      "cell_type": "code",
      "metadata": {
        "colab": {
          "base_uri": "https://localhost:8080/",
          "height": 466
        },
        "id": "3iKF7myFkYJ_",
        "outputId": "b742daa9-bb00-4908-d987-3c2d27a9f3c1"
      },
      "source": [
        "vectorizer = TfidfVectorizer(stop_words=stop_words)  # default: lowercase=True, ngram_range=(1,1)\n",
        "vectorizer.fit(X_train_lemmatised_text)\n",
        "\n",
        "# convert train and test text data to numeric vectors\n",
        "X_train = vectorizer.transform(X_train_lemmatised_text)\n",
        "X_val = vectorizer.transform(X_val_lemmatised_text)\n",
        "\n",
        "m6 = get_svm_predictions(X_train, X_val, y_train, y_val)"
      ],
      "execution_count": 18,
      "outputs": [
        {
          "output_type": "stream",
          "name": "stdout",
          "text": [
            "Accuracy: 0.9201666666666667\n"
          ]
        },
        {
          "output_type": "display_data",
          "data": {
            "text/plain": [
              "<Figure size 640x480 with 2 Axes>"
            ],
            "image/png": "[encoded data removed]"
          },
          "metadata": {}
        }
      ]
    },
    {
      "cell_type": "markdown",
      "metadata": {
        "id": "KKgE_PnxlGhx"
      },
      "source": [
        "### Summary\n",
        "Based on our finding up to now, the above table can be updated to following version.\n",
        "\n",
        "|Model | Data Preprocessing | Features   |Accuracy|\n",
        "|------|--------------------|------------|--------|\n",
        "|M1    |-| term occurrence vector(1-grams) | 0.9050 |\n",
        "|M2    |-| tf-idf vector(1-grams) | 0.9228 |\n",
        "|M3    |tokenisation(NLTK) | tf-idf vector(1-grams) | 0.9225 |\n",
        "|M4    |lemmatisation(WordNet) | tf-idf vector(1-grams) | 0.9212 |\n",
        "|M5    |tokenisation(NLTK), stop word removal | tf-idf vector(1-grams) | 0.9212 |\n",
        "|M6    |lemmatisation(WordNet), stop word removal | tf-idf vector(1-grams) | 0.9202 |\n",
        "\n",
        "Best accuracy so far is obtained by model M2. As we can see lemmatisation and stop word removal do not increase the accuracy of model **for this data**.\n"
      ]
    },
    {
      "cell_type": "markdown",
      "source": [
        "### Predictions\n",
        "\n",
        "So far, we worked on the training phase. We trained different SVM models and evaluated their performance.\n",
        "\n",
        "Let's pick the best model we developed so far to make predictions."
      ],
      "metadata": {
        "id": "1YKFW4C4veYm"
      }
    },
    {
      "cell_type": "markdown",
      "source": [
        "Below, you have a list of reviews with no sentiment given."
      ],
      "metadata": {
        "id": "9zheBuLYwC3L"
      }
    },
    {
      "cell_type": "code",
      "source": [
        "test_reviews = [\"My absolute favorite Yogi tea!  Pleasantly spicy, with a hint of rich chocolate.  I much prefer this to the Mayan Cocoa Spice & Sweet Thai flavors.  It's what I reach for when I get a craving for a cup of hot chocolate but don't want the calories.\",\n",
        "                \"The price is good, size is perfect...but my dog doesn't like them at all. Would not buy again sorry. Not the products fault\",\n",
        "                \"My dog loves the taste of these...they're a nice change from rawhides..I feel like I can give him treats more often\",\n",
        "                \"I buy stuff like this for the grand kids. I think they liked it.  I cannot eat pre-packaged foods due to health concerns. I haven't heard anything negative, so it must have been ok.\",\n",
        "                \"Yuck!  This is the first time this tasted bland.  Is something different with this batch?\"]"
      ],
      "metadata": {
        "id": "qZyiT3evwB73"
      },
      "execution_count": 19,
      "outputs": []
    },
    {
      "cell_type": "markdown",
      "source": [
        "<font color='red'>**REMEMBER!**</font> As the first step, we need to preprocess and vectorise the data using the same process we followed with training data used for M2.\n",
        "\n",
        "M2 is particularly selected here, because it the best model we have so far.\n",
        "\n"
      ],
      "metadata": {
        "id": "-VoK-0glwS0k"
      }
    },
    {
      "cell_type": "markdown",
      "source": [
        "Let's rebuild M2 again to recap how we built it before.\n",
        "\n",
        "**Model M2**\n",
        "\n",
        "* Data preprocessing - lower casing, punctuation removal\n",
        "* Features - tf-idf vector (1-grams)\n",
        "* Algorithm - SVM"
      ],
      "metadata": {
        "id": "fvLEnUwewm7E"
      }
    },
    {
      "cell_type": "code",
      "source": [
        "vectorizer = TfidfVectorizer()  # default: lowercase=True, ngram_range=(1,1)\n",
        "vectorizer.fit(X_train_text)\n",
        "\n",
        "# convert train and test text data to numeric vectors\n",
        "X_train = vectorizer.transform(X_train_text)\n",
        "X_val = vectorizer.transform(X_val_text)\n",
        "\n",
        "m2 = get_svm_predictions(X_train, X_val, y_train, y_val)"
      ],
      "metadata": {
        "colab": {
          "base_uri": "https://localhost:8080/",
          "height": 466
        },
        "id": "Y1Y2GmL-wJ0C",
        "outputId": "36b80bc6-4aef-4aba-dbe4-396b6aecda92"
      },
      "execution_count": 20,
      "outputs": [
        {
          "output_type": "stream",
          "name": "stdout",
          "text": [
            "Accuracy: 0.9228333333333333\n"
          ]
        },
        {
          "output_type": "display_data",
          "data": {
            "text/plain": [
              "<Figure size 640x480 with 2 Axes>"
            ],
            "image/png": "[encoded data removed]"
          },
          "metadata": {}
        }
      ]
    },
    {
      "cell_type": "markdown",
      "source": [
        "Let's follow the same procedure we followed with M2 to get features of test reviews."
      ],
      "metadata": {
        "id": "FTpnd0XtxXxE"
      }
    },
    {
      "cell_type": "code",
      "source": [
        "X_test = vectorizer.transform(test_reviews)\n",
        "predictions = m2.predict(X_test)\n",
        "print(predictions)"
      ],
      "metadata": {
        "colab": {
          "base_uri": "https://localhost:8080/"
        },
        "id": "nM-whsjdxS2v",
        "outputId": "38cf402e-ed51-461f-8c1e-cc4ab264c213"
      },
      "execution_count": 21,
      "outputs": [
        {
          "output_type": "stream",
          "name": "stdout",
          "text": [
            "['positive' 'negative' 'positive' 'positive' 'negative']\n"
          ]
        }
      ]
    },
    {
      "cell_type": "markdown",
      "source": [
        "### <font color='green'>**Activity 1**</font>\n",
        "\n",
        "a. Try out different n-grams and their combinations with different data pre-processing techniques and see whether you can further improve the model's accuracy.\n",
        "\n",
        "b. Apply the hyper-parameter tuning techniques you learned during the Machine Learning module to see whether you can further enhance the model's accuracy.\n",
        "\n",
        "c. Use the best model you built to predict the sentiment of test_reviews."
      ],
      "metadata": {
        "id": "m4g-vX_Rq9Es"
      }
    },
    {
      "cell_type": "markdown",
      "metadata": {
        "id": "0EtsNGGYW1gI"
      },
      "source": [
        "## Other algorithms\n",
        "\n",
        "Following the same steps we followed with SVM, we can try out other machine learning algorithms as well."
      ]
    },
    {
      "cell_type": "markdown",
      "metadata": {
        "id": "eCu0kpHuYWfp"
      },
      "source": [
        "### Decision Tree"
      ]
    },
    {
      "cell_type": "code",
      "metadata": {
        "id": "UkGfmqxcnjEp"
      },
      "source": [
        "# method to train and predict using Decision Tree\n",
        "def get_dt_predictions(X_train, X_val, y_train, y_val):\n",
        "  # build model\n",
        "  clf = tree.DecisionTreeClassifier(random_state=RANDOM_SEED)\n",
        "  clf.fit(X_train, y_train)\n",
        "\n",
        "  # Make predictions on test data\n",
        "  y_pred = clf.predict(X_val)\n",
        "\n",
        "  # evalution\n",
        "  evaluate(y_val, y_pred, clf.classes_)\n",
        "\n",
        "  return clf"
      ],
      "execution_count": 22,
      "outputs": []
    },
    {
      "cell_type": "markdown",
      "source": [
        "* Data preprocessing - lower casing, punctuation removal\n",
        "* Features - tf-idf vector (1-grams)\n",
        "* Algorithm - DecisionTreeClassifier"
      ],
      "metadata": {
        "id": "kk60Jy0RshXW"
      }
    },
    {
      "cell_type": "code",
      "metadata": {
        "colab": {
          "base_uri": "https://localhost:8080/",
          "height": 466
        },
        "id": "jbHQjhLCn7Ps",
        "outputId": "ab81d470-4595-43e6-9b3c-97a264acd6be"
      },
      "source": [
        "vectorizer = TfidfVectorizer()  # default: lowercase=True, ngram_range=(1,1)\n",
        "vectorizer.fit(X_train_text)\n",
        "\n",
        "# convert train and test text data to numeric vectors\n",
        "X_train = vectorizer.transform(X_train_text)\n",
        "X_val = vectorizer.transform(X_val_text)\n",
        "\n",
        "m7 = get_dt_predictions(X_train, X_val, y_train, y_val)"
      ],
      "execution_count": 23,
      "outputs": [
        {
          "output_type": "stream",
          "name": "stdout",
          "text": [
            "Accuracy: 0.8385\n"
          ]
        },
        {
          "output_type": "display_data",
          "data": {
            "text/plain": [
              "<Figure size 640x480 with 2 Axes>"
            ],
            "image/png": "[encoded data removed]"
          },
          "metadata": {}
        }
      ]
    },
    {
      "cell_type": "markdown",
      "source": [
        "### <font color='green'>**Activity 2**</font>\n",
        "\n",
        "a. Try different preprocessing and feature combinations with the Decision Tree Classifier to see whether it outperforms the SVM classifier.  \n",
        "\n",
        "b. Apply other classification algorithms you learned for this task and analyse their performance.\n"
      ],
      "metadata": {
        "id": "DWC_DbF1s1le"
      }
    }
  ]
}