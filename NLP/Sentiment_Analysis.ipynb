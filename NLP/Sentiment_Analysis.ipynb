{
  "nbformat": 4,
  "nbformat_minor": 0,
  "metadata": {
    "colab": {
      "name": "Sentiment Analysis.ipynb",
      "provenance": [],
      "authorship_tag": "ABX9TyOEtHUw1Q9K5Y+pry3t6Sc4",
      "include_colab_link": true
    },
    "kernelspec": {
      "name": "python3",
      "display_name": "Python 3"
    }
  },
  "cells": [
    {
      "cell_type": "markdown",
      "metadata": {
        "id": "view-in-github",
        "colab_type": "text"
      },
      "source": [
        "<a href=\"https://colab.research.google.com/github/HHansi/Applied-AI-Course/blob/main/NLP/Sentiment_Analysis.ipynb\" target=\"_parent\"><img src=\"https://colab.research.google.com/assets/colab-badge.svg\" alt=\"Open In Colab\"/></a>"
      ]
    },
    {
      "cell_type": "markdown",
      "metadata": {
        "id": "I0Qu7lgx67XE"
      },
      "source": [
        "# Sentiment Analysis\r\n",
        "\r\n",
        "In this tutorial, I will guide you through the process of performing sentiment analysis on a real-world data set.\r\n",
        "<!-- \r\n",
        "![sentiment_analysis.jpeg](https://drive.google.com/uc?id=1n5nhaeNzilnxf5ytNKKiUNSm7Ye6aGcu) <br> -->\r\n",
        "![](https://github.com/HHansi/Applied-AI-Course/blob/main/NLP/images/sentiment_analysis.jpeg?raw=true) <br>\r\n",
        "[image source](https://www.intellectyx.com/blog/sentiment-analysis/)\r\n",
        "\r\n",
        "Sentiment analysis is the process of analysing the feelings (i.e. opinions, emotions, attitudes, thoughts, etc.)​ to determine the emotional tone underneath. \r\n",
        "\r\n",
        "Some benefits of sentiment analysis include:\r\n",
        "- Understand customers\r\n",
        "- Evaluate marketing campaign \r\n",
        "- Optimise marketing strategies\r\n",
        "- Find industry leaders\r\n",
        "- Increase product quality\r\n",
        "\r\n",
        "Sentiment analysis is very popular and important in nowadays, due to its benefits and the huge amount of data availability.\r\n"
      ]
    },
    {
      "cell_type": "markdown",
      "metadata": {
        "id": "2cN-MKw8pXzp"
      },
      "source": [
        "# Train Validation and Test\r\n",
        "![](https://github.com/HHansi/Applied-AI-Course/blob/main/NLP/images/train-validation-test.png?raw=true)\r\n"
      ]
    },
    {
      "cell_type": "code",
      "metadata": {
        "colab": {
          "base_uri": "https://localhost:8080/"
        },
        "id": "lzZ6zwd2jwgs",
        "outputId": "c6f97943-3042-42ab-9163-c086dacf0971"
      },
      "source": [
        "# import libraries\r\n",
        "import pandas as pd\r\n",
        "import numpy as np\r\n",
        "\r\n",
        "# libraries for data preprocessing\r\n",
        "import nltk\r\n",
        "# download modules available with NLTK\r\n",
        "nltk.download('punkt')\r\n",
        "nltk.download('wordnet')\r\n",
        "nltk.download('stopwords')\r\n",
        "\r\n",
        "from nltk.tokenize import word_tokenize\r\n",
        "from nltk.stem import WordNetLemmatizer\r\n",
        "from nltk.corpus import stopwords\r\n",
        "\r\n",
        "# libraries for data split and feature extraction\r\n",
        "from sklearn.model_selection import train_test_split\r\n",
        "from sklearn.feature_extraction.text import CountVectorizer\r\n",
        "from sklearn.feature_extraction.text import TfidfVectorizer\r\n",
        "\r\n",
        "# library for evaluation\r\n",
        "from sklearn import metrics\r\n",
        "\r\n",
        "# libraries for ML algorithms\r\n",
        "from sklearn import svm\r\n",
        "from sklearn import tree\r\n",
        "from sklearn.naive_bayes import GaussianNB\r\n",
        "\r\n",
        "# libraries for data plotting\r\n",
        "import matplotlib.pyplot as plt "
      ],
      "execution_count": null,
      "outputs": [
        {
          "output_type": "stream",
          "text": [
            "[nltk_data] Downloading package punkt to /root/nltk_data...\n",
            "[nltk_data]   Unzipping tokenizers/punkt.zip.\n",
            "[nltk_data] Downloading package wordnet to /root/nltk_data...\n",
            "[nltk_data]   Unzipping corpora/wordnet.zip.\n",
            "[nltk_data] Downloading package stopwords to /root/nltk_data...\n",
            "[nltk_data]   Unzipping corpora/stopwords.zip.\n"
          ],
          "name": "stdout"
        }
      ]
    },
    {
      "cell_type": "markdown",
      "metadata": {
        "id": "osBUO59Z6el7"
      },
      "source": [
        "## Understanding the problem and data set\r\n",
        "\r\n",
        "Here I use a subset of [Amazon Fine Food Reviews dataset](https://www.kaggle.com/snap/amazon-fine-food-reviews?select=Reviews.csv). \r\n",
        "\r\n",
        "The targeted problem is to predict the sentiment of a food review.\r\n",
        "\r\n",
        "Let's load the data set and see sample of it."
      ]
    },
    {
      "cell_type": "code",
      "metadata": {
        "colab": {
          "base_uri": "https://localhost:8080/",
          "height": 212
        },
        "id": "HQKh1xpPMgs5",
        "outputId": "1c710f26-b5b9-4344-816e-5a0795946985"
      },
      "source": [
        "# read csv file into a dataframe\r\n",
        "df = pd.read_csv('/content/reviews.csv')\r\n",
        "\r\n",
        "# summarise the details\r\n",
        "print(f'Number of entries: {len(df)}')\r\n",
        "df.head()"
      ],
      "execution_count": null,
      "outputs": [
        {
          "output_type": "stream",
          "text": [
            "Number of entries: 20000\n"
          ],
          "name": "stdout"
        },
        {
          "output_type": "execute_result",
          "data": {
            "text/html": [
              "<div>\n",
              "<style scoped>\n",
              "    .dataframe tbody tr th:only-of-type {\n",
              "        vertical-align: middle;\n",
              "    }\n",
              "\n",
              "    .dataframe tbody tr th {\n",
              "        vertical-align: top;\n",
              "    }\n",
              "\n",
              "    .dataframe thead th {\n",
              "        text-align: right;\n",
              "    }\n",
              "</style>\n",
              "<table border=\"1\" class=\"dataframe\">\n",
              "  <thead>\n",
              "    <tr style=\"text-align: right;\">\n",
              "      <th></th>\n",
              "      <th>Id</th>\n",
              "      <th>Text</th>\n",
              "      <th>Sentiment</th>\n",
              "    </tr>\n",
              "  </thead>\n",
              "  <tbody>\n",
              "    <tr>\n",
              "      <th>0</th>\n",
              "      <td>1</td>\n",
              "      <td>I have bought several of the Vitality canned d...</td>\n",
              "      <td>positive</td>\n",
              "    </tr>\n",
              "    <tr>\n",
              "      <th>1</th>\n",
              "      <td>2</td>\n",
              "      <td>Product arrived labeled as Jumbo Salted Peanut...</td>\n",
              "      <td>negative</td>\n",
              "    </tr>\n",
              "    <tr>\n",
              "      <th>2</th>\n",
              "      <td>3</td>\n",
              "      <td>This is a confection that has been around a fe...</td>\n",
              "      <td>positive</td>\n",
              "    </tr>\n",
              "    <tr>\n",
              "      <th>3</th>\n",
              "      <td>4</td>\n",
              "      <td>If you are looking for the secret ingredient i...</td>\n",
              "      <td>negative</td>\n",
              "    </tr>\n",
              "    <tr>\n",
              "      <th>4</th>\n",
              "      <td>5</td>\n",
              "      <td>Great taffy at a great price.  There was a wid...</td>\n",
              "      <td>positive</td>\n",
              "    </tr>\n",
              "  </tbody>\n",
              "</table>\n",
              "</div>"
            ],
            "text/plain": [
              "   Id                                               Text Sentiment\n",
              "0   1  I have bought several of the Vitality canned d...  positive\n",
              "1   2  Product arrived labeled as Jumbo Salted Peanut...  negative\n",
              "2   3  This is a confection that has been around a fe...  positive\n",
              "3   4  If you are looking for the secret ingredient i...  negative\n",
              "4   5  Great taffy at a great price.  There was a wid...  positive"
            ]
          },
          "metadata": {
            "tags": []
          },
          "execution_count": 2
        }
      ]
    },
    {
      "cell_type": "code",
      "metadata": {
        "colab": {
          "base_uri": "https://localhost:8080/",
          "height": 330
        },
        "id": "SFXx_xYMV99G",
        "outputId": "a1a07f0a-07b6-402b-bdcf-19f9e478e8f4"
      },
      "source": [
        "# Summarise class details\r\n",
        "temp_df = df[['Text', 'Sentiment']]\r\n",
        "temp_df = temp_df.groupby('Sentiment').count()\r\n",
        "temp_df.plot.bar()"
      ],
      "execution_count": null,
      "outputs": [
        {
          "output_type": "execute_result",
          "data": {
            "text/plain": [
              "<matplotlib.axes._subplots.AxesSubplot at 0x7f029a958c88>"
            ]
          },
          "metadata": {
            "tags": []
          },
          "execution_count": 3
        },
        {
          "output_type": "display_data",
          "data": {
            "image/png": "[encoded data removed]",
            "text/plain": [
              "<Figure size 432x288 with 1 Axes>"
            ]
          },
          "metadata": {
            "tags": [],
            "needs_background": "light"
          }
        }
      ]
    },
    {
      "cell_type": "markdown",
      "metadata": {
        "id": "PUqNa06H85M1"
      },
      "source": [
        "As we can see in the above output, there are 20,000 rows or reviews in this data set.\r\n",
        "\r\n",
        "The data set consists of 3 columns,\r\n",
        "- Id - Autogenerated incrementing number as row Id\r\n",
        "- Text - Review text\r\n",
        "- Sentiment - Label for sentiment (positive, negative)"
      ]
    },
    {
      "cell_type": "markdown",
      "metadata": {
        "id": "q1gpoTnPUxL4"
      },
      "source": [
        "## Data cleaning\r\n",
        "\r\n",
        "If there are any missing values in the data set, corresponding entries need to be removed, because we cannot apply any preprocessing on them or use them for the model. \r\n",
        "\r\n",
        "The data set has 20,000 entries. So, it is a tedious task to check each row to find whether there is any missing value. \r\n",
        "\r\n",
        "To do this filtering automatically, we use <i>dropna</i> function available with <i>pandas</i> library.\r\n",
        "\r\n",
        "More details about this function are available with this [tutorial](https://www.w3resource.com/pandas/dataframe/dataframe-dropna.php). "
      ]
    },
    {
      "cell_type": "code",
      "metadata": {
        "colab": {
          "base_uri": "https://localhost:8080/"
        },
        "id": "aGM4sA2aUvyB",
        "outputId": "683b5efe-0171-4d03-c158-522896841e6d"
      },
      "source": [
        "# drop the rows where at least one element is missing\r\n",
        "df = df.dropna()\r\n",
        "\r\n",
        "print(f'Number of entries: {len(df)}')"
      ],
      "execution_count": null,
      "outputs": [
        {
          "output_type": "stream",
          "text": [
            "Number of entries: 20000\n"
          ],
          "name": "stdout"
        }
      ]
    },
    {
      "cell_type": "markdown",
      "metadata": {
        "id": "SY4RUHfSXwd8"
      },
      "source": [
        "Number of entries in the cleaned data set is similar to the number of entries in the original data set. That means there were no missing values in our data set."
      ]
    },
    {
      "cell_type": "markdown",
      "metadata": {
        "id": "4CUmK9uhUl3R"
      },
      "source": [
        "## Data preprocessing\r\n",
        "\r\n",
        "As data preprocessing techniques, we learned following.\r\n",
        "- Tokenisation\r\n",
        "- Text normalisation (lower casing, stemming and lemmatisation)\r\n",
        "- Stop word removal\r\n",
        "- Punctuation removal\r\n",
        "\r\n",
        "Let's go through each step and apply it to the data set, if it is necessary or important to the targeted problem.\r\n"
      ]
    },
    {
      "cell_type": "markdown",
      "metadata": {
        "id": "PHc6QXgdavXF"
      },
      "source": [
        "### Tokenisation\r\n",
        "\r\n",
        "The first thing to do with tokenisation is selecting a tokenizer model. \r\n",
        "\r\n",
        "Under Text Preprocessing, we learned about 2 tokenizers as follows.\r\n",
        "- *word_tokenize* - Tokenizer for normal text\r\n",
        "- *TweetTokenizer* - Tokenizer for tweets\r\n",
        "\r\n",
        "In this data set, we have normal text. Then we can use <i>word_tokenize</i>."
      ]
    },
    {
      "cell_type": "code",
      "metadata": {
        "colab": {
          "base_uri": "https://localhost:8080/",
          "height": 249
        },
        "id": "TILRZ0e4ZpHR",
        "outputId": "ca80f930-4b0f-4eca-bce0-5421b4a224b6"
      },
      "source": [
        "list_tokenised_text = []\r\n",
        "\r\n",
        "# iterate through each row in 'Text' columm and convert text to tokens\r\n",
        "for text in df['Text']:\r\n",
        "  tokenized_text = word_tokenize(text)\r\n",
        "  list_tokenised_text.append(tokenized_text)\r\n",
        "\r\n",
        "print(list_tokenised_text[:2])\r\n",
        "\r\n",
        "list_tokenised_sentences = []\r\n",
        "for tokens in list_tokenised_text:\r\n",
        "  text = ' '.join(tokens)\r\n",
        "  list_tokenised_sentences.append(text)\r\n",
        "\r\n",
        "print(list_tokenised_sentences[:2])\r\n",
        "\r\n",
        "# add new column to data frame\r\n",
        "df['Tokenised_Text'] = list_tokenised_sentences\r\n",
        "\r\n",
        "df.head()"
      ],
      "execution_count": null,
      "outputs": [
        {
          "output_type": "stream",
          "text": [
            "[['I', 'have', 'bought', 'several', 'of', 'the', 'Vitality', 'canned', 'dog', 'food', 'products', 'and', 'have', 'found', 'them', 'all', 'to', 'be', 'of', 'good', 'quality', '.', 'The', 'product', 'looks', 'more', 'like', 'a', 'stew', 'than', 'a', 'processed', 'meat', 'and', 'it', 'smells', 'better', '.', 'My', 'Labrador', 'is', 'finicky', 'and', 'she', 'appreciates', 'this', 'product', 'better', 'than', 'most', '.'], ['Product', 'arrived', 'labeled', 'as', 'Jumbo', 'Salted', 'Peanuts', '...', 'the', 'peanuts', 'were', 'actually', 'small', 'sized', 'unsalted', '.', 'Not', 'sure', 'if', 'this', 'was', 'an', 'error', 'or', 'if', 'the', 'vendor', 'intended', 'to', 'represent', 'the', 'product', 'as', '``', 'Jumbo', \"''\", '.']]\n",
            "['I have bought several of the Vitality canned dog food products and have found them all to be of good quality . The product looks more like a stew than a processed meat and it smells better . My Labrador is finicky and she appreciates this product better than most .', \"Product arrived labeled as Jumbo Salted Peanuts ... the peanuts were actually small sized unsalted . Not sure if this was an error or if the vendor intended to represent the product as `` Jumbo '' .\"]\n"
          ],
          "name": "stdout"
        },
        {
          "output_type": "execute_result",
          "data": {
            "text/html": [
              "<div>\n",
              "<style scoped>\n",
              "    .dataframe tbody tr th:only-of-type {\n",
              "        vertical-align: middle;\n",
              "    }\n",
              "\n",
              "    .dataframe tbody tr th {\n",
              "        vertical-align: top;\n",
              "    }\n",
              "\n",
              "    .dataframe thead th {\n",
              "        text-align: right;\n",
              "    }\n",
              "</style>\n",
              "<table border=\"1\" class=\"dataframe\">\n",
              "  <thead>\n",
              "    <tr style=\"text-align: right;\">\n",
              "      <th></th>\n",
              "      <th>Id</th>\n",
              "      <th>Text</th>\n",
              "      <th>Sentiment</th>\n",
              "      <th>Tokenised_Text</th>\n",
              "    </tr>\n",
              "  </thead>\n",
              "  <tbody>\n",
              "    <tr>\n",
              "      <th>0</th>\n",
              "      <td>1</td>\n",
              "      <td>I have bought several of the Vitality canned d...</td>\n",
              "      <td>positive</td>\n",
              "      <td>I have bought several of the Vitality canned d...</td>\n",
              "    </tr>\n",
              "    <tr>\n",
              "      <th>1</th>\n",
              "      <td>2</td>\n",
              "      <td>Product arrived labeled as Jumbo Salted Peanut...</td>\n",
              "      <td>negative</td>\n",
              "      <td>Product arrived labeled as Jumbo Salted Peanut...</td>\n",
              "    </tr>\n",
              "    <tr>\n",
              "      <th>2</th>\n",
              "      <td>3</td>\n",
              "      <td>This is a confection that has been around a fe...</td>\n",
              "      <td>positive</td>\n",
              "      <td>This is a confection that has been around a fe...</td>\n",
              "    </tr>\n",
              "    <tr>\n",
              "      <th>3</th>\n",
              "      <td>4</td>\n",
              "      <td>If you are looking for the secret ingredient i...</td>\n",
              "      <td>negative</td>\n",
              "      <td>If you are looking for the secret ingredient i...</td>\n",
              "    </tr>\n",
              "    <tr>\n",
              "      <th>4</th>\n",
              "      <td>5</td>\n",
              "      <td>Great taffy at a great price.  There was a wid...</td>\n",
              "      <td>positive</td>\n",
              "      <td>Great taffy at a great price . There was a wid...</td>\n",
              "    </tr>\n",
              "  </tbody>\n",
              "</table>\n",
              "</div>"
            ],
            "text/plain": [
              "   Id  ...                                     Tokenised_Text\n",
              "0   1  ...  I have bought several of the Vitality canned d...\n",
              "1   2  ...  Product arrived labeled as Jumbo Salted Peanut...\n",
              "2   3  ...  This is a confection that has been around a fe...\n",
              "3   4  ...  If you are looking for the secret ingredient i...\n",
              "4   5  ...  Great taffy at a great price . There was a wid...\n",
              "\n",
              "[5 rows x 4 columns]"
            ]
          },
          "metadata": {
            "tags": []
          },
          "execution_count": 4
        }
      ]
    },
    {
      "cell_type": "markdown",
      "metadata": {
        "id": "0rwODa2SbqTk"
      },
      "source": [
        "### Text normalisation\r\n",
        "\r\n",
        "Under text normalisation, we discussed about 3 techniques; lower casing, stemming and lemmatisation.\r\n",
        "\r\n",
        "Lower casing can be easily done by setting an argument in vectorizer.\r\n",
        "\r\n",
        "Among stemming and lemmatisation, we will focus on lemmatisation in this tutorial because it is the more organised procedure."
      ]
    },
    {
      "cell_type": "code",
      "metadata": {
        "colab": {
          "base_uri": "https://localhost:8080/",
          "height": 249
        },
        "id": "M5XRnEWZbq3v",
        "outputId": "45454487-ea66-4297-9c17-c951977b2835"
      },
      "source": [
        "wnl = WordNetLemmatizer()\r\n",
        "\r\n",
        "list_lemmatised_tokens = []\r\n",
        "\r\n",
        "# iterate through each list of tokens and lemmatise the tokens\r\n",
        "for tokens in list_tokenised_text:\r\n",
        "  lemma_words = []\r\n",
        "  for word in tokens:\r\n",
        "    lemma_word=wnl.lemmatize(word)\r\n",
        "    lemma_words.append(lemma_word)\r\n",
        "  list_lemmatised_tokens.append(lemma_words)\r\n",
        "  \r\n",
        "print(list_lemmatised_tokens[:2])\r\n",
        "\r\n",
        "list_lemmatised_sentences = []\r\n",
        "for tokens in list_lemmatised_tokens:\r\n",
        "  text = ' '.join(tokens)\r\n",
        "  list_lemmatised_sentences.append(text)\r\n",
        "\r\n",
        "# add new column to data frame\r\n",
        "df['Lemmatised_Text'] = list_lemmatised_sentences\r\n",
        "\r\n",
        "df.head()"
      ],
      "execution_count": null,
      "outputs": [
        {
          "output_type": "stream",
          "text": [
            "[['I', 'have', 'bought', 'several', 'of', 'the', 'Vitality', 'canned', 'dog', 'food', 'product', 'and', 'have', 'found', 'them', 'all', 'to', 'be', 'of', 'good', 'quality', '.', 'The', 'product', 'look', 'more', 'like', 'a', 'stew', 'than', 'a', 'processed', 'meat', 'and', 'it', 'smell', 'better', '.', 'My', 'Labrador', 'is', 'finicky', 'and', 'she', 'appreciates', 'this', 'product', 'better', 'than', 'most', '.'], ['Product', 'arrived', 'labeled', 'a', 'Jumbo', 'Salted', 'Peanuts', '...', 'the', 'peanut', 'were', 'actually', 'small', 'sized', 'unsalted', '.', 'Not', 'sure', 'if', 'this', 'wa', 'an', 'error', 'or', 'if', 'the', 'vendor', 'intended', 'to', 'represent', 'the', 'product', 'a', '``', 'Jumbo', \"''\", '.']]\n"
          ],
          "name": "stdout"
        },
        {
          "output_type": "execute_result",
          "data": {
            "text/html": [
              "<div>\n",
              "<style scoped>\n",
              "    .dataframe tbody tr th:only-of-type {\n",
              "        vertical-align: middle;\n",
              "    }\n",
              "\n",
              "    .dataframe tbody tr th {\n",
              "        vertical-align: top;\n",
              "    }\n",
              "\n",
              "    .dataframe thead th {\n",
              "        text-align: right;\n",
              "    }\n",
              "</style>\n",
              "<table border=\"1\" class=\"dataframe\">\n",
              "  <thead>\n",
              "    <tr style=\"text-align: right;\">\n",
              "      <th></th>\n",
              "      <th>Id</th>\n",
              "      <th>Text</th>\n",
              "      <th>Sentiment</th>\n",
              "      <th>Tokenised_Text</th>\n",
              "      <th>Lemmatised_Text</th>\n",
              "    </tr>\n",
              "  </thead>\n",
              "  <tbody>\n",
              "    <tr>\n",
              "      <th>0</th>\n",
              "      <td>1</td>\n",
              "      <td>I have bought several of the Vitality canned d...</td>\n",
              "      <td>positive</td>\n",
              "      <td>I have bought several of the Vitality canned d...</td>\n",
              "      <td>I have bought several of the Vitality canned d...</td>\n",
              "    </tr>\n",
              "    <tr>\n",
              "      <th>1</th>\n",
              "      <td>2</td>\n",
              "      <td>Product arrived labeled as Jumbo Salted Peanut...</td>\n",
              "      <td>negative</td>\n",
              "      <td>Product arrived labeled as Jumbo Salted Peanut...</td>\n",
              "      <td>Product arrived labeled a Jumbo Salted Peanuts...</td>\n",
              "    </tr>\n",
              "    <tr>\n",
              "      <th>2</th>\n",
              "      <td>3</td>\n",
              "      <td>This is a confection that has been around a fe...</td>\n",
              "      <td>positive</td>\n",
              "      <td>This is a confection that has been around a fe...</td>\n",
              "      <td>This is a confection that ha been around a few...</td>\n",
              "    </tr>\n",
              "    <tr>\n",
              "      <th>3</th>\n",
              "      <td>4</td>\n",
              "      <td>If you are looking for the secret ingredient i...</td>\n",
              "      <td>negative</td>\n",
              "      <td>If you are looking for the secret ingredient i...</td>\n",
              "      <td>If you are looking for the secret ingredient i...</td>\n",
              "    </tr>\n",
              "    <tr>\n",
              "      <th>4</th>\n",
              "      <td>5</td>\n",
              "      <td>Great taffy at a great price.  There was a wid...</td>\n",
              "      <td>positive</td>\n",
              "      <td>Great taffy at a great price . There was a wid...</td>\n",
              "      <td>Great taffy at a great price . There wa a wide...</td>\n",
              "    </tr>\n",
              "  </tbody>\n",
              "</table>\n",
              "</div>"
            ],
            "text/plain": [
              "   Id  ...                                    Lemmatised_Text\n",
              "0   1  ...  I have bought several of the Vitality canned d...\n",
              "1   2  ...  Product arrived labeled a Jumbo Salted Peanuts...\n",
              "2   3  ...  This is a confection that ha been around a few...\n",
              "3   4  ...  If you are looking for the secret ingredient i...\n",
              "4   5  ...  Great taffy at a great price . There wa a wide...\n",
              "\n",
              "[5 rows x 5 columns]"
            ]
          },
          "metadata": {
            "tags": []
          },
          "execution_count": 5
        }
      ]
    },
    {
      "cell_type": "code",
      "metadata": {
        "colab": {
          "base_uri": "https://localhost:8080/",
          "height": 212
        },
        "id": "KfD-z-7orwu3",
        "outputId": "2ee9b20e-4ce7-48df-fdbf-2e0259700b6e"
      },
      "source": [
        "# save updated data frame to a file\r\n",
        "# This step is optional for the main flow. But by saving data to a file you can analyse the preprocessed text output more deeply. \r\n",
        "df.to_csv('/content/reviews_preprocessed.csv', index=False)\r\n",
        "\r\n",
        "df.head()"
      ],
      "execution_count": null,
      "outputs": [
        {
          "output_type": "execute_result",
          "data": {
            "text/html": [
              "<div>\n",
              "<style scoped>\n",
              "    .dataframe tbody tr th:only-of-type {\n",
              "        vertical-align: middle;\n",
              "    }\n",
              "\n",
              "    .dataframe tbody tr th {\n",
              "        vertical-align: top;\n",
              "    }\n",
              "\n",
              "    .dataframe thead th {\n",
              "        text-align: right;\n",
              "    }\n",
              "</style>\n",
              "<table border=\"1\" class=\"dataframe\">\n",
              "  <thead>\n",
              "    <tr style=\"text-align: right;\">\n",
              "      <th></th>\n",
              "      <th>Id</th>\n",
              "      <th>Text</th>\n",
              "      <th>Sentiment</th>\n",
              "      <th>Tokenised_Text</th>\n",
              "      <th>Lemmatised_Text</th>\n",
              "    </tr>\n",
              "  </thead>\n",
              "  <tbody>\n",
              "    <tr>\n",
              "      <th>0</th>\n",
              "      <td>1</td>\n",
              "      <td>I have bought several of the Vitality canned d...</td>\n",
              "      <td>positive</td>\n",
              "      <td>I have bought several of the Vitality canned d...</td>\n",
              "      <td>I have bought several of the Vitality canned d...</td>\n",
              "    </tr>\n",
              "    <tr>\n",
              "      <th>1</th>\n",
              "      <td>2</td>\n",
              "      <td>Product arrived labeled as Jumbo Salted Peanut...</td>\n",
              "      <td>negative</td>\n",
              "      <td>Product arrived labeled as Jumbo Salted Peanut...</td>\n",
              "      <td>Product arrived labeled a Jumbo Salted Peanuts...</td>\n",
              "    </tr>\n",
              "    <tr>\n",
              "      <th>2</th>\n",
              "      <td>3</td>\n",
              "      <td>This is a confection that has been around a fe...</td>\n",
              "      <td>positive</td>\n",
              "      <td>This is a confection that has been around a fe...</td>\n",
              "      <td>This is a confection that ha been around a few...</td>\n",
              "    </tr>\n",
              "    <tr>\n",
              "      <th>3</th>\n",
              "      <td>4</td>\n",
              "      <td>If you are looking for the secret ingredient i...</td>\n",
              "      <td>negative</td>\n",
              "      <td>If you are looking for the secret ingredient i...</td>\n",
              "      <td>If you are looking for the secret ingredient i...</td>\n",
              "    </tr>\n",
              "    <tr>\n",
              "      <th>4</th>\n",
              "      <td>5</td>\n",
              "      <td>Great taffy at a great price.  There was a wid...</td>\n",
              "      <td>positive</td>\n",
              "      <td>Great taffy at a great price . There was a wid...</td>\n",
              "      <td>Great taffy at a great price . There wa a wide...</td>\n",
              "    </tr>\n",
              "  </tbody>\n",
              "</table>\n",
              "</div>"
            ],
            "text/plain": [
              "   Id  ...                                    Lemmatised_Text\n",
              "0   1  ...  I have bought several of the Vitality canned d...\n",
              "1   2  ...  Product arrived labeled a Jumbo Salted Peanuts...\n",
              "2   3  ...  This is a confection that ha been around a few...\n",
              "3   4  ...  If you are looking for the secret ingredient i...\n",
              "4   5  ...  Great taffy at a great price . There wa a wide...\n",
              "\n",
              "[5 rows x 5 columns]"
            ]
          },
          "metadata": {
            "tags": []
          },
          "execution_count": 6
        }
      ]
    },
    {
      "cell_type": "markdown",
      "metadata": {
        "id": "iI2Tfru-ib2n"
      },
      "source": [
        "### Stop word removal\r\n",
        "\r\n",
        "To convert text into numeric features, we use vectorizers (CountVectorizer, TfidfVectorizer). Stop word removal can be easily done by giving a stop word list as an argument to the vectorizer. So, during the preprocessing step, we need to figure out a suitable stop word list.\r\n",
        "\r\n",
        "Let's look at the English stop words list available with NLTK library."
      ]
    },
    {
      "cell_type": "code",
      "metadata": {
        "colab": {
          "base_uri": "https://localhost:8080/"
        },
        "id": "5NqYDVZwiTUx",
        "outputId": "1dc13b45-5472-4961-f703-b6f77e6d2c98"
      },
      "source": [
        "# get English stopwords\r\n",
        "stop_words = set(stopwords.words('english')) \r\n",
        "print(stop_words)"
      ],
      "execution_count": null,
      "outputs": [
        {
          "output_type": "stream",
          "text": [
            "{'we', 'weren', 'wouldn', 'before', 've', 'couldn', 'more', \"hasn't\", 'in', 'who', 's', 'd', 'out', 'do', 'ma', 'not', 'is', \"couldn't\", 'didn', 'all', 'should', \"wouldn't\", 'our', \"that'll\", 'these', \"should've\", 'o', 'himself', 'which', 'into', 'just', 'during', 'm', \"aren't\", 'against', 'you', 'same', 'herself', 'above', 'further', \"wasn't\", 'theirs', 'my', 'once', \"mustn't\", 'as', 'ours', 'after', 'me', 'on', 't', 'i', 'yours', 'whom', 'her', 'doing', 'until', 'haven', 'between', \"mightn't\", \"you're\", 'the', 'so', 'over', 'themselves', 'wasn', 'doesn', 'down', 'y', 'its', 'am', 'than', \"didn't\", 'll', 'where', 'of', 'those', 'are', 'each', 'off', 'your', 'she', 'no', 'ain', 'myself', \"you'd\", 'a', 'shouldn', 'here', 'with', \"isn't\", 'yourselves', 'and', 'while', 'having', 'an', 'any', 'them', 'ourselves', 'what', 'or', 'why', 'from', 'at', 'were', 'by', 'won', 'this', 'to', 'will', 'now', 'other', 'mustn', 'hadn', 'because', \"weren't\", 'has', 'yourself', 'itself', 'again', 'he', 'be', \"it's\", 'nor', 'most', 'was', 'for', \"shouldn't\", 'shan', 'but', 'aren', 'him', 'only', 'that', 'did', 'very', 'don', 'below', 'been', 'own', \"hadn't\", 'through', 'if', 'mightn', 'his', \"haven't\", 'isn', 'they', 'few', 'their', 'being', 'both', 'too', 'how', 'does', \"needn't\", 'hasn', \"don't\", 'it', 'under', 'can', 'hers', 'have', \"doesn't\", 'up', 'then', \"shan't\", 're', \"she's\", 'when', \"you've\", 'had', 'about', \"won't\", \"you'll\", 'there', 'needn', 'such', 'some'}\n"
          ],
          "name": "stdout"
        }
      ]
    },
    {
      "cell_type": "markdown",
      "metadata": {
        "id": "YWw85WnWjMgf"
      },
      "source": [
        "<b>Is the above list suitable for this analysis? </b>\r\n",
        "\r\n",
        "The above list contains the words <i>no, not, aren't, isn't</i>, etc. which are commonly used to express negative sentiment. By removing them, some important tokens will be removed. \r\n",
        "\r\n",
        "Therefore, stop word removal using the above list is not appropriate for this analysis. This inappropriateness will be further confirmed with the model accuracies reported below. In such scenarios, you should either change the list to make it suitable for the analysis or skip stop word removal preprocessing step. \r\n",
        "\r\n",
        "<b>REMEMBER!</b> Even though the stop word removal is not appropriate for this analysis, there are lot of text analysis tasks which need this step.\r\n"
      ]
    },
    {
      "cell_type": "markdown",
      "metadata": {
        "id": "nh7Ksh4IrDvM"
      },
      "source": [
        "### Punctuation removal\r\n",
        "\r\n",
        "To convert text into numeric features, we use vectorizers (CountVectorizer, TfidfVectorizer). As we already learned, punctuation removal can be easily handled with the vectorizer. Thus, no any preprocessing step is needed."
      ]
    },
    {
      "cell_type": "markdown",
      "metadata": {
        "id": "F8oyh3qWr8lc"
      },
      "source": [
        "### Summary\r\n",
        "We went through all text preprocessing steps, discussed their appropriateness  and applied them to the data set.\r\n",
        "\r\n",
        "In summary, now we have a data frame named <i>df</i> with following columns.\r\n",
        "- 'Id' - Ids\r\n",
        "- 'Text' - original text data\r\n",
        "- 'Sentiment' - labels\r\n",
        "- 'Tokenised_Text' - tokenised text\r\n",
        "- 'Lemmatised_Text' - lemmatised text\r\n",
        "\r\n",
        "Also a list of stop words (stop_words)."
      ]
    },
    {
      "cell_type": "markdown",
      "metadata": {
        "id": "2qcf5XZXt7uR"
      },
      "source": [
        "## Text feature extraction and model generation\r\n",
        "\r\n",
        "We can convert text into numeric features using term occurrence vectors or tf-idf vectors. This conversion can be easily done using CountVectorizer or TfidfVectorizer.\r\n",
        "\r\n",
        "As classification algorithms, you learned SVM, Naive Bayes and decision trees under Machine Learning module. To make things simpler, let's focus on SVM for our initial experiments to understand the impact by different data preprocessing techniques and features. Later we can extend the experiments to other algorithms. \r\n",
        "\r\n"
      ]
    },
    {
      "cell_type": "markdown",
      "metadata": {
        "id": "pl66ltnCepjp"
      },
      "source": [
        "Looking at available data preprocessing techniques and features, we can make different combinations to tryout different models.\r\n",
        "\r\n",
        "To make things clear, I am using lower casing and punctuation removal as default preprocessing steps and any changes other than that are mentioned in the table. \r\n",
        "\r\n",
        "|Model | Data Preprocessing | Features   |\r\n",
        "|------|--------------------|------------|\r\n",
        "|M1    |-| term occurrence vector(1-grams) | \r\n",
        "|M2    |-| tf-idf vector(1-grams) | \r\n",
        "|M3    |tokenisation(NLTK) | <i> \\<best amoung M1 and M2\\> | \r\n",
        "|M4    |lemmatisation(WordNet) | <i> \\<best amoung M1 and M2\\> |\r\n",
        "|M5    |tokenisation(NLTK), stop word removal | <i> \\<best amoung M1 and M2\\> | \r\n",
        "|M6    |lemmatisation(WordNet), stop word removal | <i> \\<best amoung M1 and M2\\> |\r\n",
        "\r\n",
        "Initially we will compare the performance of  term occurrence vectors and tf-idf vectors. Then the best vector representation will be used with other data preprocessing techniques. \r\n",
        "\r\n",
        "Let's follow these combinations and check their impact on model accuracy.\r\n",
        "\r\n",
        "<b>NOTE!</b> All combinations are not listed here."
      ]
    },
    {
      "cell_type": "markdown",
      "metadata": {
        "id": "xGsf5eW4lpM2"
      },
      "source": [
        "As the first step, we need to separate data into a training set and validation set."
      ]
    },
    {
      "cell_type": "code",
      "metadata": {
        "colab": {
          "base_uri": "https://localhost:8080/"
        },
        "id": "6ESYYpOPlkxr",
        "outputId": "237b4a63-5fc0-4f83-b485-48c39527c1d2"
      },
      "source": [
        "# use raw text\r\n",
        "X_train_text, X_val_text, y_train, y_val = train_test_split(df['Text'], df['Sentiment'], test_size=0.3, random_state=100)\r\n",
        "print(f'training data set size: {len(X_train_text)}')\r\n",
        "print(f'validation data set size: {len(X_val_text)}')\r\n",
        "\r\n",
        "# use tokenised text\r\n",
        "X_train_tokenised_text, X_val_tokenised_text, y_train, y_val = train_test_split(df['Tokenised_Text'], df['Sentiment'], test_size=0.3, random_state=100)\r\n",
        "print(f'training data set size: {len(X_train_tokenised_text)}')\r\n",
        "print(f'validation data set size: {len(X_val_tokenised_text)}')\r\n",
        "\r\n",
        "# use lemmatised text\r\n",
        "X_train_lemmatised_text, X_val_lemmatised_text, y_train, y_val = train_test_split(df['Lemmatised_Text'], df['Sentiment'], test_size=0.3, random_state=100)\r\n",
        "print(f'training data set size: {len(X_train_lemmatised_text)}')\r\n",
        "print(f'validation data set size: {len(X_val_lemmatised_text)}')"
      ],
      "execution_count": null,
      "outputs": [
        {
          "output_type": "stream",
          "text": [
            "training data set size: 14000\n",
            "validation data set size: 6000\n",
            "training data set size: 14000\n",
            "validation data set size: 6000\n",
            "training data set size: 14000\n",
            "validation data set size: 6000\n"
          ],
          "name": "stdout"
        }
      ]
    },
    {
      "cell_type": "code",
      "metadata": {
        "id": "M9ur6ln6ayjX"
      },
      "source": [
        "# method to plot confusion matrix\r\n",
        "def plot_confusion_matrix(matrix):\r\n",
        "    plt.clf()\r\n",
        "    plt.imshow(matrix, interpolation='nearest', cmap=plt.cm.Set2_r)\r\n",
        "    classNames = ['positive', 'negative']\r\n",
        "    plt.title('Confusion Matrix')\r\n",
        "    plt.ylabel('Predicted')\r\n",
        "    plt.xlabel('Actual')\r\n",
        "    tick_marks = np.arange(len(classNames))\r\n",
        "    plt.xticks(tick_marks, classNames)\r\n",
        "    plt.yticks(tick_marks, classNames)\r\n",
        "    s = [['TP','FP'], ['FN', 'TN']]\r\n",
        "\r\n",
        "    for i in range(2):\r\n",
        "        for j in range(2):\r\n",
        "            plt.text(j,i, str(s[i][j])+\" = \"+str(matrix[i][j]))\r\n",
        "    plt.show()\r\n",
        "\r\n",
        "# method to calculate evaluation results\r\n",
        "def evaluate(actuals, predictions):\r\n",
        "  accuracy = metrics.accuracy_score(actuals, predictions)\r\n",
        "  confusion_matrix = metrics.confusion_matrix(actuals, predictions, labels=['positive', 'negative'])\r\n",
        "  return accuracy, confusion_matrix"
      ],
      "execution_count": null,
      "outputs": []
    },
    {
      "cell_type": "markdown",
      "metadata": {
        "id": "V-afXrnwWWwU"
      },
      "source": [
        "### SVM"
      ]
    },
    {
      "cell_type": "code",
      "metadata": {
        "id": "RzpTMkyqa0Zj"
      },
      "source": [
        "# method to train and predict using SVM classifier\r\n",
        "def get_svm_predictions(X_train, X_val, y_train, y_val):\r\n",
        "  # build model\r\n",
        "  clf = svm.SVC(kernel='linear', random_state=100) \r\n",
        "  clf.fit(X_train, y_train)\r\n",
        "\r\n",
        "  # Make predictions on test data\r\n",
        "  y_pred = clf.predict(X_val)\r\n",
        "\r\n",
        "  # evalution\r\n",
        "  accuracy, confusion_matrix = evaluate(y_val, y_pred)\r\n",
        "  print(f'Accuracy: {accuracy}')\r\n",
        "  plot_confusion_matrix(confusion_matrix)\r\n",
        "\r\n",
        "  return clf"
      ],
      "execution_count": null,
      "outputs": []
    },
    {
      "cell_type": "markdown",
      "metadata": {
        "id": "5D7Xhvta2hRL"
      },
      "source": [
        "#### Model M1"
      ]
    },
    {
      "cell_type": "code",
      "metadata": {
        "colab": {
          "base_uri": "https://localhost:8080/",
          "height": 312
        },
        "id": "Us1OlvYchCpg",
        "outputId": "503c9af2-5927-46eb-9fde-d40540b0f80b"
      },
      "source": [
        "# Data preprocessing - lower casing, punctuation removal\r\n",
        "# Features - term occurrence vector (1-grams)\r\n",
        "\r\n",
        "vectorizer = CountVectorizer()  # default: lowercase=True, ngram_range=(1,1)\r\n",
        "vectorizer.fit(X_train_text)\r\n",
        "\r\n",
        "# convert train and test text data to numeric vectors\r\n",
        "X_train = vectorizer.transform(X_train_text)\r\n",
        "X_val = vectorizer.transform(X_val_text)\r\n",
        "\r\n",
        "model = get_svm_predictions(X_train, X_val, y_train, y_val)"
      ],
      "execution_count": null,
      "outputs": [
        {
          "output_type": "stream",
          "text": [
            "Accuracy: 0.905\n"
          ],
          "name": "stdout"
        },
        {
          "output_type": "display_data",
          "data": {
            "image/png": "[encoded data removed]",
            "text/plain": [
              "<Figure size 432x288 with 1 Axes>"
            ]
          },
          "metadata": {
            "tags": [],
            "needs_background": "light"
          }
        }
      ]
    },
    {
      "cell_type": "markdown",
      "metadata": {
        "id": "NMj8IMfC5Njq"
      },
      "source": [
        "#### Model M2"
      ]
    },
    {
      "cell_type": "code",
      "metadata": {
        "colab": {
          "base_uri": "https://localhost:8080/",
          "height": 312
        },
        "id": "nbzNipU4iH-O",
        "outputId": "6cef1d1f-7e24-4bac-8f6b-893a335616f8"
      },
      "source": [
        "# Data preprocessing - lower casing, punctuation removal\r\n",
        "# Features - tf-idf vector (1-grams)\r\n",
        "\r\n",
        "vectorizer = TfidfVectorizer()  # default: lowercase=True, ngram_range=(1,1)\r\n",
        "vectorizer.fit(X_train_text)\r\n",
        "\r\n",
        "# convert train and test text data to numeric vectors\r\n",
        "X_train = vectorizer.transform(X_train_text)\r\n",
        "X_val = vectorizer.transform(X_val_text)\r\n",
        "\r\n",
        "model = get_svm_predictions(X_train, X_val, y_train, y_val)"
      ],
      "execution_count": null,
      "outputs": [
        {
          "output_type": "stream",
          "text": [
            "Accuracy: 0.9228333333333333\n"
          ],
          "name": "stdout"
        },
        {
          "output_type": "display_data",
          "data": {
            "image/png": "[encoded data removed]",
            "text/plain": [
              "<Figure size 432x288 with 1 Axes>"
            ]
          },
          "metadata": {
            "tags": [],
            "needs_background": "light"
          }
        }
      ]
    },
    {
      "cell_type": "markdown",
      "metadata": {
        "id": "BHsj_iV-4RLV"
      },
      "source": [
        "#### Model M3"
      ]
    },
    {
      "cell_type": "code",
      "metadata": {
        "colab": {
          "base_uri": "https://localhost:8080/",
          "height": 312
        },
        "id": "5EHwvVx6iyT-",
        "outputId": "b8e71987-fe65-4020-dcd1-2ecf1b87533e"
      },
      "source": [
        "# Data preprocessing - lower casing, punctuation removal, tokenisation(NLTK)\r\n",
        "# Features - tf-idf vector (1-grams)\r\n",
        "\r\n",
        "vectorizer = TfidfVectorizer()  # default: lowercase=True, ngram_range=(1,1)\r\n",
        "vectorizer.fit(X_train_tokenised_text)\r\n",
        "\r\n",
        "# convert train and test text data to numeric vectors\r\n",
        "X_train = vectorizer.transform(X_train_tokenised_text)\r\n",
        "X_val = vectorizer.transform(X_val_tokenised_text)\r\n",
        "\r\n",
        "model = get_svm_predictions(X_train, X_val, y_train, y_val)"
      ],
      "execution_count": null,
      "outputs": [
        {
          "output_type": "stream",
          "text": [
            "Accuracy: 0.9225\n"
          ],
          "name": "stdout"
        },
        {
          "output_type": "display_data",
          "data": {
            "image/png": "[encoded data removed]",
            "text/plain": [
              "<Figure size 432x288 with 1 Axes>"
            ]
          },
          "metadata": {
            "tags": [],
            "needs_background": "light"
          }
        }
      ]
    },
    {
      "cell_type": "markdown",
      "metadata": {
        "id": "LX8lvAd0jbkZ"
      },
      "source": [
        "#### Model M4"
      ]
    },
    {
      "cell_type": "code",
      "metadata": {
        "colab": {
          "base_uri": "https://localhost:8080/",
          "height": 312
        },
        "id": "BsM4bk14jg-w",
        "outputId": "8eb56ca3-cfb7-42ac-b3f7-f700d9de2f13"
      },
      "source": [
        "# Data preprocessing - lower casing, punctuation removal, lemmatisation(WordNet)\r\n",
        "# Features - tf-idf vector (1-grams)\r\n",
        "\r\n",
        "vectorizer = TfidfVectorizer()  # default: lowercase=True, ngram_range=(1,1)\r\n",
        "vectorizer.fit(X_train_lemmatised_text)\r\n",
        "\r\n",
        "# convert train and test text data to numeric vectors\r\n",
        "X_train = vectorizer.transform(X_train_lemmatised_text)\r\n",
        "X_val = vectorizer.transform(X_val_lemmatised_text)\r\n",
        "\r\n",
        "model = get_svm_predictions(X_train, X_val, y_train, y_val)"
      ],
      "execution_count": null,
      "outputs": [
        {
          "output_type": "stream",
          "text": [
            "Accuracy: 0.921\n"
          ],
          "name": "stdout"
        },
        {
          "output_type": "display_data",
          "data": {
            "image/png": "[encoded data removed]",
            "text/plain": [
              "<Figure size 432x288 with 1 Axes>"
            ]
          },
          "metadata": {
            "tags": [],
            "needs_background": "light"
          }
        }
      ]
    },
    {
      "cell_type": "markdown",
      "metadata": {
        "id": "Vy3rzIj8j_zs"
      },
      "source": [
        "#### Model M5"
      ]
    },
    {
      "cell_type": "code",
      "metadata": {
        "colab": {
          "base_uri": "https://localhost:8080/",
          "height": 312
        },
        "id": "KABdHf6mkC17",
        "outputId": "e9106b82-8103-47d9-92b5-8e193f8ef7cd"
      },
      "source": [
        "# Data preprocessing - lower casing, punctuation removal, tokenisation(NLTK), stop word removal\r\n",
        "# Features - tf-idf vector (1-grams)\r\n",
        "\r\n",
        "vectorizer = TfidfVectorizer(stop_words=stop_words)  # default: lowercase=True, ngram_range=(1,1)\r\n",
        "vectorizer.fit(X_train_tokenised_text)\r\n",
        "\r\n",
        "# convert train and test text data to numeric vectors\r\n",
        "X_train = vectorizer.transform(X_train_tokenised_text)\r\n",
        "X_val = vectorizer.transform(X_val_tokenised_text)\r\n",
        "\r\n",
        "model = get_svm_predictions(X_train, X_val, y_train, y_val)"
      ],
      "execution_count": null,
      "outputs": [
        {
          "output_type": "stream",
          "text": [
            "Accuracy: 0.9211666666666667\n"
          ],
          "name": "stdout"
        },
        {
          "output_type": "display_data",
          "data": {
            "image/png": "[encoded data removed]",
            "text/plain": [
              "<Figure size 432x288 with 1 Axes>"
            ]
          },
          "metadata": {
            "tags": [],
            "needs_background": "light"
          }
        }
      ]
    },
    {
      "cell_type": "markdown",
      "metadata": {
        "id": "FCDnVSSCkVOs"
      },
      "source": [
        "#### Model M6"
      ]
    },
    {
      "cell_type": "code",
      "metadata": {
        "colab": {
          "base_uri": "https://localhost:8080/",
          "height": 312
        },
        "id": "3iKF7myFkYJ_",
        "outputId": "eed06b99-1cf7-4ebd-f319-646c9968b304"
      },
      "source": [
        "# Data preprocessing - lower casing, punctuation removal, lemmatisation(WordNet), stop word removal\r\n",
        "# Features - tf-idf vector (1-grams)\r\n",
        "\r\n",
        "vectorizer = TfidfVectorizer(stop_words=stop_words)  # default: lowercase=True, ngram_range=(1,1)\r\n",
        "vectorizer.fit(X_train_lemmatised_text)\r\n",
        "\r\n",
        "# convert train and test text data to numeric vectors\r\n",
        "X_train = vectorizer.transform(X_train_lemmatised_text)\r\n",
        "X_val = vectorizer.transform(X_val_lemmatised_text)\r\n",
        "\r\n",
        "model = get_svm_predictions(X_train, X_val, y_train, y_val)"
      ],
      "execution_count": null,
      "outputs": [
        {
          "output_type": "stream",
          "text": [
            "Accuracy: 0.9198333333333333\n"
          ],
          "name": "stdout"
        },
        {
          "output_type": "display_data",
          "data": {
            "image/png": "[encoded data removed]",
            "text/plain": [
              "<Figure size 432x288 with 1 Axes>"
            ]
          },
          "metadata": {
            "tags": [],
            "needs_background": "light"
          }
        }
      ]
    },
    {
      "cell_type": "markdown",
      "metadata": {
        "id": "KKgE_PnxlGhx"
      },
      "source": [
        "#### Summary 1\r\n",
        "Based on our finding up to now, the above table can be updated to following version.\r\n",
        "\r\n",
        "|Model | Data Preprocessing | Features   |Accuracy|\r\n",
        "|------|--------------------|------------|--------|\r\n",
        "|M1    |-| term occurrence vector(1-grams) | 0.9050 |\r\n",
        "|M2    |-| tf-idf vector(1-grams) | 0.9228 |\r\n",
        "|M3    |tokenisation(NLTK) | tf-idf vector(1-grams) | 0.9225 |\r\n",
        "|M4    |lemmatisation(WordNet) | tf-idf vector(1-grams) | 0.9210 |\r\n",
        "|M5    |tokenisation(NLTK), stop word removal | tf-idf vector(1-grams) | 0.9212 |\r\n",
        "|M6    |lemmatisation(WordNet), stop word removal | tf-idf vector(1-grams) | 0.9198 |\r\n",
        "\r\n",
        "Best accuracy so far is obtained by model M2. As we can see lemmatisation and stop word removal do not increase the accuracy of model **for this data**.\r\n",
        "\r\n",
        "As the next step, let's see how n-grams can affect the accuracy."
      ]
    },
    {
      "cell_type": "markdown",
      "metadata": {
        "id": "UOHQ70kVm20M"
      },
      "source": [
        "#### Model M7"
      ]
    },
    {
      "cell_type": "code",
      "metadata": {
        "colab": {
          "base_uri": "https://localhost:8080/",
          "height": 312
        },
        "id": "4a_QrSSVm1qy",
        "outputId": "0b6c4ffa-3cde-4ef8-b0e7-bdc54079d969"
      },
      "source": [
        "# Data preprocessing - lower casing, punctuation removal\r\n",
        "# Features - tf-idf vector (1-grams, 2-grams)\r\n",
        "\r\n",
        "vectorizer = TfidfVectorizer(ngram_range=(1,2))  # default: lowercase=True, ngram_range=(1,1)\r\n",
        "vectorizer.fit(X_train_text)\r\n",
        "\r\n",
        "# convert train and test text data to numeric vectors\r\n",
        "X_train = vectorizer.transform(X_train_text)\r\n",
        "X_val = vectorizer.transform(X_val_text)\r\n",
        "\r\n",
        "model = get_svm_predictions(X_train, X_val, y_train, y_val)"
      ],
      "execution_count": null,
      "outputs": [
        {
          "output_type": "stream",
          "text": [
            "Accuracy: 0.9325\n"
          ],
          "name": "stdout"
        },
        {
          "output_type": "display_data",
          "data": {
            "image/png": "[encoded data removed]",
            "text/plain": [
              "<Figure size 432x288 with 1 Axes>"
            ]
          },
          "metadata": {
            "tags": [],
            "needs_background": "light"
          }
        }
      ]
    },
    {
      "cell_type": "markdown",
      "metadata": {
        "id": "aGOe77GTneU7"
      },
      "source": [
        "#### Summary 2\r\n",
        "\r\n",
        "|Model | Data Preprocessing | Features   |Accuracy|\r\n",
        "|------|--------------------|------------|--------|\r\n",
        "|M1    |-| term occurrence vector(1-grams) | 0.9050 |\r\n",
        "|M2    |-| tf-idf vector(1-grams) | 0.9228 |\r\n",
        "|M3    |tokenisation(NLTK) | tf-idf vector(1-grams) | 0.9225 |\r\n",
        "|M4    |lemmatisation(WordNet) | tf-idf vector(1-grams) | 0.9210 |\r\n",
        "|M5    |tokenisation(NLTK), stop word removal | tf-idf vector(1-grams) | 0.9212 |\r\n",
        "|M6    |lemmatisation(WordNet), stop word removal | tf-idf vector(1-grams) | 0.9198 |\r\n",
        "|M7    |-| tf-idf vector(1-grams, 2-grams) | 0.9325 |\r\n",
        "\r\n",
        "Based on the experiments we conducted so far, best accuracy was obtained for model M7. \r\n",
        "\r\n",
        "<b>Exercise 1.</b> Check other possible data preprocessing and feature combinations to find out whether you can increase the accuracy further. Also, try tuning hyper-parameters of SVM algorithm based on the knowledge you gained during Machine Learning module."
      ]
    },
    {
      "cell_type": "markdown",
      "metadata": {
        "id": "0EtsNGGYW1gI"
      },
      "source": [
        "### Other algorithms"
      ]
    },
    {
      "cell_type": "markdown",
      "metadata": {
        "id": "eCu0kpHuYWfp"
      },
      "source": [
        "#### Decision Tree"
      ]
    },
    {
      "cell_type": "code",
      "metadata": {
        "id": "UkGfmqxcnjEp"
      },
      "source": [
        "# method to train and predict using Decision Tree\r\n",
        "def get_dt_predictions(X_train, X_val, y_train, y_val):\r\n",
        "  # build model\r\n",
        "  clf = tree.DecisionTreeClassifier(random_state=100)\r\n",
        "  clf.fit(X_train, y_train)\r\n",
        "\r\n",
        "  # Make predictions on test data\r\n",
        "  y_pred = clf.predict(X_val)\r\n",
        "\r\n",
        "  # evalution\r\n",
        "  accuracy, confusion_matrix = evaluate(y_val, y_pred)\r\n",
        "  print(f'Accuracy: {accuracy}')\r\n",
        "  plot_confusion_matrix(confusion_matrix)\r\n",
        "\r\n",
        "  return clf"
      ],
      "execution_count": null,
      "outputs": []
    },
    {
      "cell_type": "code",
      "metadata": {
        "colab": {
          "base_uri": "https://localhost:8080/",
          "height": 312
        },
        "id": "jbHQjhLCn7Ps",
        "outputId": "b1dd8f62-d366-4017-d931-de1dcdc373e7"
      },
      "source": [
        "# Data preprocessing - lower casing, punctuation removal\r\n",
        "# Features - tf-idf vector (1-grams)\r\n",
        "\r\n",
        "vectorizer = TfidfVectorizer()  # default: lowercase=True, ngram_range=(1,1)\r\n",
        "vectorizer.fit(X_train_text)\r\n",
        "\r\n",
        "# convert train and test text data to numeric vectors\r\n",
        "X_train = vectorizer.transform(X_train_text)\r\n",
        "X_val = vectorizer.transform(X_val_text)\r\n",
        "\r\n",
        "model = get_dt_predictions(X_train, X_val, y_train, y_val)"
      ],
      "execution_count": null,
      "outputs": [
        {
          "output_type": "stream",
          "text": [
            "Accuracy: 0.8385\n"
          ],
          "name": "stdout"
        },
        {
          "output_type": "display_data",
          "data": {
            "image/png": "[encoded data removed]",
            "text/plain": [
              "<Figure size 432x288 with 1 Axes>"
            ]
          },
          "metadata": {
            "tags": [],
            "needs_background": "light"
          }
        }
      ]
    },
    {
      "cell_type": "markdown",
      "metadata": {
        "id": "qvazzS0JYiyh"
      },
      "source": [
        "#### Naive Bayes"
      ]
    },
    {
      "cell_type": "code",
      "metadata": {
        "id": "2KjzozJbpGtW"
      },
      "source": [
        "# method to train and predict using Naive Bayes classifier\r\n",
        "def get_nb_predictions(X_train, X_val, y_train, y_val):\r\n",
        "  # build model\r\n",
        "  clf = GaussianNB()\r\n",
        "  clf.fit(X_train.toarray(), y_train)\r\n",
        "\r\n",
        "  # Make predictions on test data\r\n",
        "  y_pred = clf.predict(X_val.toarray())\r\n",
        "\r\n",
        "  # evalution\r\n",
        "  accuracy, confusion_matrix = evaluate(y_val, y_pred)\r\n",
        "  print(f'Accuracy: {accuracy}')\r\n",
        "  plot_confusion_matrix(confusion_matrix)\r\n",
        "\r\n",
        "  return clf"
      ],
      "execution_count": null,
      "outputs": []
    },
    {
      "cell_type": "code",
      "metadata": {
        "colab": {
          "base_uri": "https://localhost:8080/",
          "height": 312
        },
        "id": "ZnyTUwdipVot",
        "outputId": "38406027-998e-491c-f3c3-a78d6a19f69a"
      },
      "source": [
        "# Data preprocessing - lower casing, punctuation removal\r\n",
        "# Features - tf-idf vector (1-grams)\r\n",
        "\r\n",
        "vectorizer = TfidfVectorizer()  # default: lowercase=True, ngram_range=(1,1)\r\n",
        "vectorizer.fit(X_train_text)\r\n",
        "\r\n",
        "# convert train and test text data to numeric vectors\r\n",
        "X_train = vectorizer.transform(X_train_text)\r\n",
        "X_val = vectorizer.transform(X_val_text)\r\n",
        "\r\n",
        "model = get_nb_predictions(X_train, X_val, y_train, y_val)"
      ],
      "execution_count": null,
      "outputs": [
        {
          "output_type": "stream",
          "text": [
            "Accuracy: 0.5788333333333333\n"
          ],
          "name": "stdout"
        },
        {
          "output_type": "display_data",
          "data": {
            "image/png": "[encoded data removed]",
            "text/plain": [
              "<Figure size 432x288 with 1 Axes>"
            ]
          },
          "metadata": {
            "tags": [],
            "needs_background": "light"
          }
        }
      ]
    },
    {
      "cell_type": "markdown",
      "metadata": {
        "id": "WQtlYxRGpTmm"
      },
      "source": [
        "## Test performance"
      ]
    },
    {
      "cell_type": "code",
      "metadata": {
        "id": "p5prk_t2pUem"
      },
      "source": [
        "test_reviews = [\"My absolute favorite Yogi tea!  Pleasantly spicy, with a hint of rich chocolate.  I much prefer this to the Mayan Cocoa Spice & Sweet Thai flavors.  It's what I reach for when I get a craving for a cup of hot chocolate but don't want the calories.\",\r\n",
        "                \"The price is good, size is perfect...but my dog doesn't like them at all. Would not buy again sorry. Not the products fault\",\r\n",
        "                \"My dog loves the taste of these...they're a nice change from rawhides..I feel like I can give him treats more often\",\r\n",
        "                \"I buy stuff like this for the grand kids. I think they liked it.  I cannot eat pre-packaged foods due to health concerns. I haven't heard anything negative, so it must have been ok.\",\r\n",
        "                \"Yuck!  This is the first time this tasted bland.  Is something different with this batch?\"]"
      ],
      "execution_count": null,
      "outputs": []
    },
    {
      "cell_type": "markdown",
      "metadata": {
        "id": "eERzIqmoqy8e"
      },
      "source": [
        "Select best model"
      ]
    },
    {
      "cell_type": "code",
      "metadata": {
        "id": "fpgO2t44qx-m",
        "colab": {
          "base_uri": "https://localhost:8080/",
          "height": 312
        },
        "outputId": "7f8e910a-f33c-48e7-8103-926ad3a99bb4"
      },
      "source": [
        "# Data preprocessing - lower casing, punctuation removal\r\n",
        "# Features - tf-idf vector (1-grams, 2-grams)\r\n",
        "\r\n",
        "vectorizer = TfidfVectorizer(ngram_range=(1,2))  # default: lowercase=True, ngram_range=(1,1)\r\n",
        "vectorizer.fit(X_train_text)\r\n",
        "\r\n",
        "# convert train and test text data to numeric vectors\r\n",
        "X_train = vectorizer.transform(X_train_text)\r\n",
        "X_val = vectorizer.transform(X_val_text)\r\n",
        "\r\n",
        "model = get_svm_predictions(X_train, X_val, y_train, y_val)"
      ],
      "execution_count": null,
      "outputs": [
        {
          "output_type": "stream",
          "text": [
            "Accuracy: 0.9325\n"
          ],
          "name": "stdout"
        },
        {
          "output_type": "display_data",
          "data": {
            "image/png": "[encoded data removed]",
            "text/plain": [
              "<Figure size 432x288 with 1 Axes>"
            ]
          },
          "metadata": {
            "tags": [],
            "needs_background": "light"
          }
        }
      ]
    },
    {
      "cell_type": "markdown",
      "metadata": {
        "id": "y-KCf-I_rCU4"
      },
      "source": [
        "Apply same preprocessing techniques used with model data to test reviews"
      ]
    },
    {
      "cell_type": "code",
      "metadata": {
        "id": "kzwPFkSfrBf0",
        "colab": {
          "base_uri": "https://localhost:8080/"
        },
        "outputId": "f6911cb0-c46e-43f3-efa3-0f3ca653362d"
      },
      "source": [
        "# preprocessing used with Model M7 - lower casing, punctuation removal\r\n",
        "X_test = vectorizer.transform(test_reviews)\r\n",
        "predictions = model.predict(X_test)\r\n",
        "print(predictions)"
      ],
      "execution_count": null,
      "outputs": [
        {
          "output_type": "stream",
          "text": [
            "['positive' 'negative' 'positive' 'positive' 'negative']\n"
          ],
          "name": "stdout"
        }
      ]
    }
  ]
}