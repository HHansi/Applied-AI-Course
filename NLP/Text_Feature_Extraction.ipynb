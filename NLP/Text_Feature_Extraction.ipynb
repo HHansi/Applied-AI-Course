{
  "nbformat": 4,
  "nbformat_minor": 0,
  "metadata": {
    "colab": {
      "name": "Text Feature Extraction.ipynb",
      "provenance": [],
      "authorship_tag": "ABX9TyO2fwWSmjzMbt3sH1jZL/tH",
      "include_colab_link": true
    },
    "kernelspec": {
      "name": "python3",
      "display_name": "Python 3"
    }
  },
  "cells": [
    {
      "cell_type": "markdown",
      "metadata": {
        "id": "view-in-github",
        "colab_type": "text"
      },
      "source": [
        "<a href=\"https://colab.research.google.com/github/HHansi/Applied-AI-Course/blob/main/NLP/Text_Feature_Extraction.ipynb\" target=\"_parent\"><img src=\"https://colab.research.google.com/assets/colab-badge.svg\" alt=\"Open In Colab\"/></a>"
      ]
    },
    {
      "cell_type": "markdown",
      "metadata": {
        "id": "UlPqz9KhkIBg"
      },
      "source": [
        "<h1>Text Feature Extraction</h1>"
      ]
    },
    {
      "cell_type": "markdown",
      "metadata": {
        "id": "-RNsUBJDWcBw"
      },
      "source": [
        "<h2>Bag-of-Words(BoW) Model</h2>\r\n",
        "\r\n",
        "We cannot directly work with text when using machine learning algorithms. Text need to be converted into numbers.\r\n",
        "\r\n",
        "Bag-of-words model(BoW) is a simple and effective way to convert text features into numeric features, to use with machine learning models. \r\n",
        "\r\n"
      ]
    },
    {
      "cell_type": "markdown",
      "metadata": {
        "id": "2j3p8ZirfWFF"
      },
      "source": [
        "Import required libraries"
      ]
    },
    {
      "cell_type": "code",
      "metadata": {
        "id": "dELXkDMAfJvb"
      },
      "source": [
        "from sklearn.feature_extraction.text import CountVectorizer\r\n",
        "from sklearn.feature_extraction.text import TfidfVectorizer\r\n",
        "\r\n",
        "import pandas as pd"
      ],
      "execution_count": 6,
      "outputs": []
    },
    {
      "cell_type": "markdown",
      "metadata": {
        "id": "3zGl1HNMXewO"
      },
      "source": [
        "Let's define some sample texts to use with following examples. <br>\r\n",
        "Here I picked some food reviews"
      ]
    },
    {
      "cell_type": "code",
      "metadata": {
        "id": "yWL5SAfQOdUW"
      },
      "source": [
        "text_documents = [\"good quality food\",\r\n",
        "                  \"not as advertised\",\r\n",
        "                  \"great taffy\"]"
      ],
      "execution_count": 3,
      "outputs": []
    },
    {
      "cell_type": "markdown",
      "metadata": {
        "id": "3kXHnMkYk1Dz"
      },
      "source": [
        "The simplest BoW model using CountVectorizer."
      ]
    },
    {
      "cell_type": "code",
      "metadata": {
        "colab": {
          "base_uri": "https://localhost:8080/",
          "height": 237
        },
        "id": "bdgAkio3kkJc",
        "outputId": "ec3ae351-8ff6-4216-b6c7-a8baca7e354a"
      },
      "source": [
        "count_vectorizer = CountVectorizer()\r\n",
        "# tokenize and build vocabulary\r\n",
        "count_vectorizer.fit(text_documents)\r\n",
        "\r\n",
        "print(f'Features: {count_vectorizer.get_feature_names()}')\r\n",
        "\r\n",
        "# convert text data to numeric vectors\r\n",
        "matrix = count_vectorizer.transform(text_documents)\r\n",
        "\r\n",
        "# summarise vector details\r\n",
        "print(f'Result matrix size: {matrix.shape}')\r\n",
        "print(f'Result matrix:\\n {matrix.toarray()}')\r\n",
        "\r\n",
        "# for visualisation purpose, let's convert the features into a dataframe\r\n",
        "pd.DataFrame(matrix.toarray(), columns=count_vectorizer.get_feature_names())\r\n"
      ],
      "execution_count": 7,
      "outputs": [
        {
          "output_type": "stream",
          "text": [
            "Features: ['advertised', 'as', 'food', 'good', 'great', 'not', 'quality', 'taffy']\n",
            "Result matrix size: (3, 8)\n",
            "Result matrix:\n",
            " [[0 0 1 1 0 0 1 0]\n",
            " [1 1 0 0 0 1 0 0]\n",
            " [0 0 0 0 1 0 0 1]]\n"
          ],
          "name": "stdout"
        },
        {
          "output_type": "execute_result",
          "data": {
            "text/html": [
              "<div>\n",
              "<style scoped>\n",
              "    .dataframe tbody tr th:only-of-type {\n",
              "        vertical-align: middle;\n",
              "    }\n",
              "\n",
              "    .dataframe tbody tr th {\n",
              "        vertical-align: top;\n",
              "    }\n",
              "\n",
              "    .dataframe thead th {\n",
              "        text-align: right;\n",
              "    }\n",
              "</style>\n",
              "<table border=\"1\" class=\"dataframe\">\n",
              "  <thead>\n",
              "    <tr style=\"text-align: right;\">\n",
              "      <th></th>\n",
              "      <th>advertised</th>\n",
              "      <th>as</th>\n",
              "      <th>food</th>\n",
              "      <th>good</th>\n",
              "      <th>great</th>\n",
              "      <th>not</th>\n",
              "      <th>quality</th>\n",
              "      <th>taffy</th>\n",
              "    </tr>\n",
              "  </thead>\n",
              "  <tbody>\n",
              "    <tr>\n",
              "      <th>0</th>\n",
              "      <td>0</td>\n",
              "      <td>0</td>\n",
              "      <td>1</td>\n",
              "      <td>1</td>\n",
              "      <td>0</td>\n",
              "      <td>0</td>\n",
              "      <td>1</td>\n",
              "      <td>0</td>\n",
              "    </tr>\n",
              "    <tr>\n",
              "      <th>1</th>\n",
              "      <td>1</td>\n",
              "      <td>1</td>\n",
              "      <td>0</td>\n",
              "      <td>0</td>\n",
              "      <td>0</td>\n",
              "      <td>1</td>\n",
              "      <td>0</td>\n",
              "      <td>0</td>\n",
              "    </tr>\n",
              "    <tr>\n",
              "      <th>2</th>\n",
              "      <td>0</td>\n",
              "      <td>0</td>\n",
              "      <td>0</td>\n",
              "      <td>0</td>\n",
              "      <td>1</td>\n",
              "      <td>0</td>\n",
              "      <td>0</td>\n",
              "      <td>1</td>\n",
              "    </tr>\n",
              "  </tbody>\n",
              "</table>\n",
              "</div>"
            ],
            "text/plain": [
              "   advertised  as  food  good  great  not  quality  taffy\n",
              "0           0   0     1     1      0    0        1      0\n",
              "1           1   1     0     0      0    1        0      0\n",
              "2           0   0     0     0      1    0        0      1"
            ]
          },
          "metadata": {
            "tags": []
          },
          "execution_count": 7
        }
      ]
    },
    {
      "cell_type": "markdown",
      "metadata": {
        "id": "6mUAsQasl-bG"
      },
      "source": [
        "<b> <u>Understanding CountVectoizer arguments</u> </b>\r\n",
        "- lowercase (boolean, default=True) - If True, convert all characters to lowercase before tokenizing.\r\n",
        "- token_pattern (string,default=r\"(?u)\\b\\w\\w+\\b\") - Regular expression denoting what constitutes a “token”. The default regexp select tokens of 2 or more alphanumeric characters (punctuation is completely ignored and always treated as a token separator).\r\n",
        "-  stop_words (list, default=None) - If a list, that list is assumed to contain stop words, all of which will be removed from the resulting tokens.\r\n",
        "- ngram_range (tuple, default=(1, 1)) - The lower and upper boundary of the range of n-values for different word n-grams.\r\n",
        "\r\n",
        "Please refer the [CountVectoizer document](https://scikit-learn.org/stable/modules/generated/sklearn.feature_extraction.text.CountVectorizer.html) for more details. "
      ]
    },
    {
      "cell_type": "markdown",
      "metadata": {
        "id": "TH6JjRjoo-fL"
      },
      "source": [
        "<b>Defining stop words to be removed</b> <br>\r\n",
        "Let's use the stop words list available with NLTK."
      ]
    },
    {
      "cell_type": "code",
      "metadata": {
        "colab": {
          "base_uri": "https://localhost:8080/"
        },
        "id": "xigll5AnpKwy",
        "outputId": "fdb9930f-5951-4a83-cf29-1f8ffae113d9"
      },
      "source": [
        "# download the module 'stopwords'\r\n",
        "import nltk\r\n",
        "nltk.download('stopwords')\r\n",
        "\r\n",
        "from nltk.corpus import stopwords\r\n",
        "\r\n",
        "stop_words = set(stopwords.words('english')) \r\n",
        "print(stop_words)"
      ],
      "execution_count": 8,
      "outputs": [
        {
          "output_type": "stream",
          "text": [
            "[nltk_data] Downloading package stopwords to /root/nltk_data...\n",
            "[nltk_data]   Package stopwords is already up-to-date!\n",
            "{'when', 'couldn', 'where', 'very', 'shan', 'has', \"hasn't\", 'been', 'by', 'few', 'you', 'other', 'how', \"don't\", 'with', 'there', 'through', 'him', 'll', \"won't\", 'off', 'while', 'before', 'again', 'was', \"didn't\", 'won', 'than', 'or', 'some', 'theirs', 'y', 'will', 'after', 'only', 'he', 'below', \"isn't\", 'were', 'both', 'such', 'ours', 'a', 'each', 'between', 'down', 'ma', 'needn', 'me', 'herself', 't', 'mustn', \"haven't\", \"hadn't\", 'from', 'it', 'above', 'hasn', 'whom', 'should', 'having', 'own', \"you'll\", 'ourselves', 'then', 'no', 'm', 'here', 'these', 'most', 's', 'why', 'an', 'in', 'their', 'my', 'our', 'being', \"wouldn't\", 'mightn', 'are', 'who', 'if', 'its', 'do', 'doing', 'which', 're', 'for', 'nor', \"aren't\", 'ain', \"she's\", 've', 'during', 'himself', 'themselves', 'all', 'didn', \"wasn't\", 'his', 'to', 'o', 'she', 'that', 'as', 'now', 'of', 'over', 'further', 'against', 'is', 'itself', 'weren', 'and', 'same', 'wouldn', 'don', \"mustn't\", 'hadn', 'her', \"you're\", 'i', \"you've\", 'more', 'can', \"weren't\", 'yourself', 'so', 'your', 'am', 'once', 'up', 'shouldn', 'into', 'but', 'does', 'hers', 'be', \"mightn't\", \"doesn't\", 'at', 'doesn', \"shan't\", 'too', 'd', 'haven', 'this', 'yours', 'because', \"couldn't\", \"it's\", 'had', 'did', \"shouldn't\", \"that'll\", 'wasn', 'have', 'about', 'out', 'myself', 'just', 'on', \"you'd\", 'under', \"needn't\", 'yourselves', 'what', 'not', 'them', 'the', 'they', 'isn', \"should've\", 'any', 'we', 'aren', 'until', 'those'}\n"
          ],
          "name": "stdout"
        }
      ]
    },
    {
      "cell_type": "code",
      "metadata": {
        "colab": {
          "base_uri": "https://localhost:8080/",
          "height": 237
        },
        "id": "uUkP-hF0o9LZ",
        "outputId": "248f83df-eabc-4ff8-e3c1-76f4537b9606"
      },
      "source": [
        "count_vectorizer = CountVectorizer(stop_words=stop_words)\r\n",
        "# tokenize and build vocabulary\r\n",
        "count_vectorizer.fit(text_documents)\r\n",
        "\r\n",
        "print(f'Features: {count_vectorizer.get_feature_names()}')\r\n",
        "\r\n",
        "# convert text data to numeric vectors\r\n",
        "matrix = count_vectorizer.transform(text_documents)\r\n",
        "\r\n",
        "# summarise vector details\r\n",
        "print(f'Result matrix size: {matrix.shape}')\r\n",
        "print(f'Result matrix:\\n {matrix.toarray()}')\r\n",
        "\r\n",
        "# for visualisation purpose, let's convert the features into a dataframe\r\n",
        "pd.DataFrame(matrix.toarray(), columns=count_vectorizer.get_feature_names())"
      ],
      "execution_count": 9,
      "outputs": [
        {
          "output_type": "stream",
          "text": [
            "Features: ['advertised', 'food', 'good', 'great', 'quality', 'taffy']\n",
            "Result matrix size: (3, 6)\n",
            "Result matrix:\n",
            " [[0 1 1 0 1 0]\n",
            " [1 0 0 0 0 0]\n",
            " [0 0 0 1 0 1]]\n"
          ],
          "name": "stdout"
        },
        {
          "output_type": "execute_result",
          "data": {
            "text/html": [
              "<div>\n",
              "<style scoped>\n",
              "    .dataframe tbody tr th:only-of-type {\n",
              "        vertical-align: middle;\n",
              "    }\n",
              "\n",
              "    .dataframe tbody tr th {\n",
              "        vertical-align: top;\n",
              "    }\n",
              "\n",
              "    .dataframe thead th {\n",
              "        text-align: right;\n",
              "    }\n",
              "</style>\n",
              "<table border=\"1\" class=\"dataframe\">\n",
              "  <thead>\n",
              "    <tr style=\"text-align: right;\">\n",
              "      <th></th>\n",
              "      <th>advertised</th>\n",
              "      <th>food</th>\n",
              "      <th>good</th>\n",
              "      <th>great</th>\n",
              "      <th>quality</th>\n",
              "      <th>taffy</th>\n",
              "    </tr>\n",
              "  </thead>\n",
              "  <tbody>\n",
              "    <tr>\n",
              "      <th>0</th>\n",
              "      <td>0</td>\n",
              "      <td>1</td>\n",
              "      <td>1</td>\n",
              "      <td>0</td>\n",
              "      <td>1</td>\n",
              "      <td>0</td>\n",
              "    </tr>\n",
              "    <tr>\n",
              "      <th>1</th>\n",
              "      <td>1</td>\n",
              "      <td>0</td>\n",
              "      <td>0</td>\n",
              "      <td>0</td>\n",
              "      <td>0</td>\n",
              "      <td>0</td>\n",
              "    </tr>\n",
              "    <tr>\n",
              "      <th>2</th>\n",
              "      <td>0</td>\n",
              "      <td>0</td>\n",
              "      <td>0</td>\n",
              "      <td>1</td>\n",
              "      <td>0</td>\n",
              "      <td>1</td>\n",
              "    </tr>\n",
              "  </tbody>\n",
              "</table>\n",
              "</div>"
            ],
            "text/plain": [
              "   advertised  food  good  great  quality  taffy\n",
              "0           0     1     1      0        1      0\n",
              "1           1     0     0      0        0      0\n",
              "2           0     0     0      1        0      1"
            ]
          },
          "metadata": {
            "tags": []
          },
          "execution_count": 9
        }
      ]
    },
    {
      "cell_type": "markdown",
      "metadata": {
        "id": "qx43g_IhpftV"
      },
      "source": [
        "<b>Use different n-grams</b> <br>\r\n",
        "Examples - Defining lower and upper boundary\r\n",
        "- (1, 1) - 1-grams\r\n",
        "- (1, 2) - 1-grams and 2-grams\r\n",
        "- (2, 2) - 2-grams\r\n"
      ]
    },
    {
      "cell_type": "code",
      "metadata": {
        "colab": {
          "base_uri": "https://localhost:8080/",
          "height": 237
        },
        "id": "rCaurdsGpeh5",
        "outputId": "f267bc43-ce37-47dc-9825-77ac98703f9c"
      },
      "source": [
        "count_vectorizer = CountVectorizer(ngram_range=(1,2))\r\n",
        "# tokenize and build vocabulary\r\n",
        "count_vectorizer.fit(text_documents)\r\n",
        "\r\n",
        "print(f'Features: {count_vectorizer.get_feature_names()}')\r\n",
        "\r\n",
        "# convert text data to numeric vectors\r\n",
        "matrix = count_vectorizer.transform(text_documents)\r\n",
        "\r\n",
        "# summarise vector details\r\n",
        "print(f'Result matrix size: {matrix.shape}')\r\n",
        "print(f'Result matrix:\\n {matrix.toarray()}')\r\n",
        "\r\n",
        "# for visualisation purpose, let's convert the features into a dataframe\r\n",
        "pd.DataFrame(matrix.toarray(), columns=count_vectorizer.get_feature_names())"
      ],
      "execution_count": 10,
      "outputs": [
        {
          "output_type": "stream",
          "text": [
            "Features: ['advertised', 'as', 'as advertised', 'food', 'good', 'good quality', 'great', 'great taffy', 'not', 'not as', 'quality', 'quality food', 'taffy']\n",
            "Result matrix size: (3, 13)\n",
            "Result matrix:\n",
            " [[0 0 0 1 1 1 0 0 0 0 1 1 0]\n",
            " [1 1 1 0 0 0 0 0 1 1 0 0 0]\n",
            " [0 0 0 0 0 0 1 1 0 0 0 0 1]]\n"
          ],
          "name": "stdout"
        },
        {
          "output_type": "execute_result",
          "data": {
            "text/html": [
              "<div>\n",
              "<style scoped>\n",
              "    .dataframe tbody tr th:only-of-type {\n",
              "        vertical-align: middle;\n",
              "    }\n",
              "\n",
              "    .dataframe tbody tr th {\n",
              "        vertical-align: top;\n",
              "    }\n",
              "\n",
              "    .dataframe thead th {\n",
              "        text-align: right;\n",
              "    }\n",
              "</style>\n",
              "<table border=\"1\" class=\"dataframe\">\n",
              "  <thead>\n",
              "    <tr style=\"text-align: right;\">\n",
              "      <th></th>\n",
              "      <th>advertised</th>\n",
              "      <th>as</th>\n",
              "      <th>as advertised</th>\n",
              "      <th>food</th>\n",
              "      <th>good</th>\n",
              "      <th>good quality</th>\n",
              "      <th>great</th>\n",
              "      <th>great taffy</th>\n",
              "      <th>not</th>\n",
              "      <th>not as</th>\n",
              "      <th>quality</th>\n",
              "      <th>quality food</th>\n",
              "      <th>taffy</th>\n",
              "    </tr>\n",
              "  </thead>\n",
              "  <tbody>\n",
              "    <tr>\n",
              "      <th>0</th>\n",
              "      <td>0</td>\n",
              "      <td>0</td>\n",
              "      <td>0</td>\n",
              "      <td>1</td>\n",
              "      <td>1</td>\n",
              "      <td>1</td>\n",
              "      <td>0</td>\n",
              "      <td>0</td>\n",
              "      <td>0</td>\n",
              "      <td>0</td>\n",
              "      <td>1</td>\n",
              "      <td>1</td>\n",
              "      <td>0</td>\n",
              "    </tr>\n",
              "    <tr>\n",
              "      <th>1</th>\n",
              "      <td>1</td>\n",
              "      <td>1</td>\n",
              "      <td>1</td>\n",
              "      <td>0</td>\n",
              "      <td>0</td>\n",
              "      <td>0</td>\n",
              "      <td>0</td>\n",
              "      <td>0</td>\n",
              "      <td>1</td>\n",
              "      <td>1</td>\n",
              "      <td>0</td>\n",
              "      <td>0</td>\n",
              "      <td>0</td>\n",
              "    </tr>\n",
              "    <tr>\n",
              "      <th>2</th>\n",
              "      <td>0</td>\n",
              "      <td>0</td>\n",
              "      <td>0</td>\n",
              "      <td>0</td>\n",
              "      <td>0</td>\n",
              "      <td>0</td>\n",
              "      <td>1</td>\n",
              "      <td>1</td>\n",
              "      <td>0</td>\n",
              "      <td>0</td>\n",
              "      <td>0</td>\n",
              "      <td>0</td>\n",
              "      <td>1</td>\n",
              "    </tr>\n",
              "  </tbody>\n",
              "</table>\n",
              "</div>"
            ],
            "text/plain": [
              "   advertised  as  as advertised  food  ...  not as  quality  quality food  taffy\n",
              "0           0   0              0     1  ...       0        1             1      0\n",
              "1           1   1              1     0  ...       1        0             0      0\n",
              "2           0   0              0     0  ...       0        0             0      1\n",
              "\n",
              "[3 rows x 13 columns]"
            ]
          },
          "metadata": {
            "tags": []
          },
          "execution_count": 10
        }
      ]
    },
    {
      "cell_type": "markdown",
      "metadata": {
        "id": "EvPwwg2tohzB"
      },
      "source": [
        "<b>Exercise 1.</b><br>\r\n",
        "<b>a.</b> Generate a BoW model using <i>train_text_documents</i> given below. Convert \r\n",
        "all tokens to lowercase, remove stop words and use both 1-grams and 2-grams to build the model.  \r\n",
        "<b>b.</b> Using the built model, convert <i>test_text_documents</i> into numeric vectors."
      ]
    },
    {
      "cell_type": "code",
      "metadata": {
        "id": "7alwH8KPoVTy"
      },
      "source": [
        "train_text_documents = [\"The quick brown fox jumped over the lazy dog.\",\r\n",
        "                        \"The cat played with the dog.\"]\r\n",
        "\r\n",
        "test_text_documents = [\"The dog saw the donkey.\"]\r\n",
        "\r\n",
        "# create an instance of the CountVectorizer\r\n",
        "\r\n",
        "\r\n",
        "# tokenize and build vocabulary using train_text_documents\r\n",
        "\r\n",
        "\r\n",
        "# convert test_text_documents to numeric vectors\r\n",
        "\r\n",
        "\r\n",
        "# print output vectors\r\n"
      ],
      "execution_count": null,
      "outputs": []
    },
    {
      "cell_type": "markdown",
      "metadata": {
        "id": "P5pv04NWsx0e"
      },
      "source": [
        "<b>Token weighting with TfidfVectorizer</b>"
      ]
    },
    {
      "cell_type": "markdown",
      "metadata": {
        "id": "hseeW-m1tMMt"
      },
      "source": [
        "Let's define more detailed sample texts to use with following examples. <br>\r\n"
      ]
    },
    {
      "cell_type": "code",
      "metadata": {
        "id": "NMp24y84s8IF"
      },
      "source": [
        "text_documents = [\"the quality of food is very good\",\r\n",
        "                  \"the best hot sauce in the world\",\r\n",
        "                  \"this is the best instant oatmeal\"]"
      ],
      "execution_count": 11,
      "outputs": []
    },
    {
      "cell_type": "markdown",
      "metadata": {
        "id": "jdElNtHwuXHo"
      },
      "source": [
        "<b> <u>Understanding TfidfVectoizer arguments</u> </b>\r\n",
        "- lowercase (boolean, default=True) - If True, convert all characters to lowercase before tokenizing.\r\n",
        "- token_pattern (string,default=r\"(?u)\\b\\w\\w+\\b\") - Regular expression denoting what constitutes a “token”. The default regexp select tokens of 2 or more alphanumeric characters (punctuation is completely ignored and always treated as a token separator).\r\n",
        "-  stop_words (list, default=None) - If a list, that list is assumed to contain stop words, all of which will be removed from the resulting tokens.\r\n",
        "- ngram_range (tuple, default=(1, 1)) - The lower and upper boundary of the range of n-values for different word n-grams.\r\n",
        "\r\n",
        "Please refer the [TfidfVectoizer document](https://scikit-learn.org/stable/modules/generated/sklearn.feature_extraction.text.TfidfVectorizer.html?highlight=tfidfvectorizer#sklearn.feature_extraction.text.TfidfVectorizer) for more details. "
      ]
    },
    {
      "cell_type": "code",
      "metadata": {
        "colab": {
          "base_uri": "https://localhost:8080/",
          "height": 136
        },
        "id": "H-HVJArCtZhT",
        "outputId": "5d2a6b5d-0210-462f-8548-4b8d9733c41b"
      },
      "source": [
        "tfidf_vectorizer = TfidfVectorizer()\r\n",
        "# tokenize and build vocabulary\r\n",
        "tfidf_vectorizer.fit(text_documents)\r\n",
        "\r\n",
        "# convert text data to numeric vectors\r\n",
        "matrix = tfidf_vectorizer.transform(text_documents)\r\n",
        "\r\n",
        "# for visualisation purpose, let's convert the features into a dataframe\r\n",
        "pd.DataFrame(matrix.toarray(), columns=tfidf_vectorizer.get_feature_names())"
      ],
      "execution_count": 12,
      "outputs": [
        {
          "output_type": "execute_result",
          "data": {
            "text/html": [
              "<div>\n",
              "<style scoped>\n",
              "    .dataframe tbody tr th:only-of-type {\n",
              "        vertical-align: middle;\n",
              "    }\n",
              "\n",
              "    .dataframe tbody tr th {\n",
              "        vertical-align: top;\n",
              "    }\n",
              "\n",
              "    .dataframe thead th {\n",
              "        text-align: right;\n",
              "    }\n",
              "</style>\n",
              "<table border=\"1\" class=\"dataframe\">\n",
              "  <thead>\n",
              "    <tr style=\"text-align: right;\">\n",
              "      <th></th>\n",
              "      <th>best</th>\n",
              "      <th>food</th>\n",
              "      <th>good</th>\n",
              "      <th>hot</th>\n",
              "      <th>in</th>\n",
              "      <th>instant</th>\n",
              "      <th>is</th>\n",
              "      <th>oatmeal</th>\n",
              "      <th>of</th>\n",
              "      <th>quality</th>\n",
              "      <th>sauce</th>\n",
              "      <th>the</th>\n",
              "      <th>this</th>\n",
              "      <th>very</th>\n",
              "      <th>world</th>\n",
              "    </tr>\n",
              "  </thead>\n",
              "  <tbody>\n",
              "    <tr>\n",
              "      <th>0</th>\n",
              "      <td>0.000000</td>\n",
              "      <td>0.410747</td>\n",
              "      <td>0.410747</td>\n",
              "      <td>0.000000</td>\n",
              "      <td>0.000000</td>\n",
              "      <td>0.00000</td>\n",
              "      <td>0.312384</td>\n",
              "      <td>0.00000</td>\n",
              "      <td>0.410747</td>\n",
              "      <td>0.410747</td>\n",
              "      <td>0.000000</td>\n",
              "      <td>0.242594</td>\n",
              "      <td>0.00000</td>\n",
              "      <td>0.410747</td>\n",
              "      <td>0.000000</td>\n",
              "    </tr>\n",
              "    <tr>\n",
              "      <th>1</th>\n",
              "      <td>0.311166</td>\n",
              "      <td>0.000000</td>\n",
              "      <td>0.000000</td>\n",
              "      <td>0.409146</td>\n",
              "      <td>0.409146</td>\n",
              "      <td>0.00000</td>\n",
              "      <td>0.000000</td>\n",
              "      <td>0.00000</td>\n",
              "      <td>0.000000</td>\n",
              "      <td>0.000000</td>\n",
              "      <td>0.409146</td>\n",
              "      <td>0.483296</td>\n",
              "      <td>0.00000</td>\n",
              "      <td>0.000000</td>\n",
              "      <td>0.409146</td>\n",
              "    </tr>\n",
              "    <tr>\n",
              "      <th>2</th>\n",
              "      <td>0.358291</td>\n",
              "      <td>0.000000</td>\n",
              "      <td>0.000000</td>\n",
              "      <td>0.000000</td>\n",
              "      <td>0.000000</td>\n",
              "      <td>0.47111</td>\n",
              "      <td>0.358291</td>\n",
              "      <td>0.47111</td>\n",
              "      <td>0.000000</td>\n",
              "      <td>0.000000</td>\n",
              "      <td>0.000000</td>\n",
              "      <td>0.278245</td>\n",
              "      <td>0.47111</td>\n",
              "      <td>0.000000</td>\n",
              "      <td>0.000000</td>\n",
              "    </tr>\n",
              "  </tbody>\n",
              "</table>\n",
              "</div>"
            ],
            "text/plain": [
              "       best      food      good  ...     this      very     world\n",
              "0  0.000000  0.410747  0.410747  ...  0.00000  0.410747  0.000000\n",
              "1  0.311166  0.000000  0.000000  ...  0.00000  0.000000  0.409146\n",
              "2  0.358291  0.000000  0.000000  ...  0.47111  0.000000  0.000000\n",
              "\n",
              "[3 rows x 15 columns]"
            ]
          },
          "metadata": {
            "tags": []
          },
          "execution_count": 12
        }
      ]
    },
    {
      "cell_type": "markdown",
      "metadata": {
        "id": "ivhu0YrywqUA"
      },
      "source": [
        "Let's generate vectors sing only 2-grams and without stop words."
      ]
    },
    {
      "cell_type": "code",
      "metadata": {
        "colab": {
          "base_uri": "https://localhost:8080/",
          "height": 136
        },
        "id": "TIWH_bXtwq5e",
        "outputId": "2833da37-fa12-4871-e723-9bfd345efa2b"
      },
      "source": [
        "# create an instance of the TfidfVectorizer\r\n",
        "tfidf_vectorizer = TfidfVectorizer(stop_words=stop_words, ngram_range=(2,2))\r\n",
        "\r\n",
        "# tokenize and build vocabulary\r\n",
        "tfidf_vectorizer.fit(text_documents)\r\n",
        "\r\n",
        "# convert text data to numeric vectors\r\n",
        "matrix = tfidf_vectorizer.transform(text_documents)\r\n",
        "\r\n",
        "# for visualisation purpose, let's convert the features into a dataframe\r\n",
        "pd.DataFrame(matrix.toarray(), columns=tfidf_vectorizer.get_feature_names())"
      ],
      "execution_count": 14,
      "outputs": [
        {
          "output_type": "execute_result",
          "data": {
            "text/html": [
              "<div>\n",
              "<style scoped>\n",
              "    .dataframe tbody tr th:only-of-type {\n",
              "        vertical-align: middle;\n",
              "    }\n",
              "\n",
              "    .dataframe tbody tr th {\n",
              "        vertical-align: top;\n",
              "    }\n",
              "\n",
              "    .dataframe thead th {\n",
              "        text-align: right;\n",
              "    }\n",
              "</style>\n",
              "<table border=\"1\" class=\"dataframe\">\n",
              "  <thead>\n",
              "    <tr style=\"text-align: right;\">\n",
              "      <th></th>\n",
              "      <th>best hot</th>\n",
              "      <th>best instant</th>\n",
              "      <th>food good</th>\n",
              "      <th>hot sauce</th>\n",
              "      <th>instant oatmeal</th>\n",
              "      <th>quality food</th>\n",
              "      <th>sauce world</th>\n",
              "    </tr>\n",
              "  </thead>\n",
              "  <tbody>\n",
              "    <tr>\n",
              "      <th>0</th>\n",
              "      <td>0.00000</td>\n",
              "      <td>0.000000</td>\n",
              "      <td>0.707107</td>\n",
              "      <td>0.00000</td>\n",
              "      <td>0.000000</td>\n",
              "      <td>0.707107</td>\n",
              "      <td>0.00000</td>\n",
              "    </tr>\n",
              "    <tr>\n",
              "      <th>1</th>\n",
              "      <td>0.57735</td>\n",
              "      <td>0.000000</td>\n",
              "      <td>0.000000</td>\n",
              "      <td>0.57735</td>\n",
              "      <td>0.000000</td>\n",
              "      <td>0.000000</td>\n",
              "      <td>0.57735</td>\n",
              "    </tr>\n",
              "    <tr>\n",
              "      <th>2</th>\n",
              "      <td>0.00000</td>\n",
              "      <td>0.707107</td>\n",
              "      <td>0.000000</td>\n",
              "      <td>0.00000</td>\n",
              "      <td>0.707107</td>\n",
              "      <td>0.000000</td>\n",
              "      <td>0.00000</td>\n",
              "    </tr>\n",
              "  </tbody>\n",
              "</table>\n",
              "</div>"
            ],
            "text/plain": [
              "   best hot  best instant  ...  quality food  sauce world\n",
              "0   0.00000      0.000000  ...      0.707107      0.00000\n",
              "1   0.57735      0.000000  ...      0.000000      0.57735\n",
              "2   0.00000      0.707107  ...      0.000000      0.00000\n",
              "\n",
              "[3 rows x 7 columns]"
            ]
          },
          "metadata": {
            "tags": []
          },
          "execution_count": 14
        }
      ]
    }
  ]
}