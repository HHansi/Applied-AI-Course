{
  "nbformat": 4,
  "nbformat_minor": 0,
  "metadata": {
    "colab": {
      "name": "Regular Expressions.ipynb",
      "provenance": [],
      "collapsed_sections": [],
      "toc_visible": true,
      "include_colab_link": true
    },
    "kernelspec": {
      "name": "python3",
      "display_name": "Python 3"
    }
  },
  "cells": [
    {
      "cell_type": "markdown",
      "metadata": {
        "id": "view-in-github",
        "colab_type": "text"
      },
      "source": [
        "<a href=\"https://colab.research.google.com/github/HHansi/Applied-AI-Course/blob/main/NLP/Regular_Expressions.ipynb\" target=\"_parent\"><img src=\"https://colab.research.google.com/assets/colab-badge.svg\" alt=\"Open In Colab\"/></a>"
      ]
    },
    {
      "cell_type": "markdown",
      "metadata": {
        "id": "TkRDyKYjbTPM"
      },
      "source": [
        "# Regular Expressions\n",
        "\n",
        "A regular expression is a special sequence of characters that helps you match other strings, using a specialised syntax held in a pattern. \n",
        "\n",
        "*Created by Hansi Hettiarachchi*"
      ]
    },
    {
      "cell_type": "markdown",
      "metadata": {
        "id": "0p6Tq5d7cQIp"
      },
      "source": [
        "To use regular expressions in Python you need to import <i>re</i> module. "
      ]
    },
    {
      "cell_type": "code",
      "metadata": {
        "id": "U_z5SiKhcD1I"
      },
      "source": [
        "import re"
      ],
      "execution_count": null,
      "outputs": []
    },
    {
      "cell_type": "markdown",
      "metadata": {
        "id": "QERtyUzclSNr"
      },
      "source": [
        "## Functions and descriptions\n",
        "- search - Return a Match object corresponding to the first match.\n",
        "- findall - Return a list containing all matches.\n",
        "- sub - Replaces one or more matches with the given string\n",
        "- split - Returns a list where the string has been split at each match"
      ]
    },
    {
      "cell_type": "markdown",
      "metadata": {
        "id": "wYhtq0bDohfh"
      },
      "source": [
        "Let's define a sample text and regular expression to use with following examples."
      ]
    },
    {
      "cell_type": "code",
      "metadata": {
        "id": "Yi01Gcljooi_"
      },
      "source": [
        "text = \"Monthly GDP grew by 8.7% in June 2020 as lockdown measures eased, following upwardly revised growth of 2.4% in May and a record fall of 20% in April 2020.\"\n",
        "\n",
        "# pattern to match percentages (e.g. 8.7%, 2.4%, 20%)\n",
        "pattern = \"\\d+\\.?\\d*%\""
      ],
      "execution_count": null,
      "outputs": []
    },
    {
      "cell_type": "markdown",
      "metadata": {
        "id": "NFrtG5atodQo"
      },
      "source": [
        "### search function"
      ]
    },
    {
      "cell_type": "code",
      "metadata": {
        "colab": {
          "base_uri": "https://localhost:8080/"
        },
        "id": "gdiQ5ct3pCh_",
        "outputId": "9f85a6f5-1441-4e14-b432-31e775503e46"
      },
      "source": [
        "x = re.search(pattern, text)\n",
        "print(x)"
      ],
      "execution_count": null,
      "outputs": [
        {
          "output_type": "stream",
          "name": "stdout",
          "text": [
            "<re.Match object; span=(20, 24), match='8.7%'>\n"
          ]
        }
      ]
    },
    {
      "cell_type": "markdown",
      "metadata": {
        "id": "LRAkDRiCpIB3"
      },
      "source": [
        "### findall function"
      ]
    },
    {
      "cell_type": "code",
      "metadata": {
        "colab": {
          "base_uri": "https://localhost:8080/"
        },
        "id": "5VeMAcF2pGed",
        "outputId": "f4429273-fa52-4dbb-a002-6438fd8842fc"
      },
      "source": [
        "x = re.findall(pattern, text)\n",
        "print(x)"
      ],
      "execution_count": null,
      "outputs": [
        {
          "output_type": "stream",
          "name": "stdout",
          "text": [
            "['8.7%', '2.4%', '20%']\n"
          ]
        }
      ]
    },
    {
      "cell_type": "markdown",
      "metadata": {
        "id": "7745PGt6pR68"
      },
      "source": [
        "### sub function"
      ]
    },
    {
      "cell_type": "code",
      "metadata": {
        "colab": {
          "base_uri": "https://localhost:8080/"
        },
        "id": "Jx1iWDbVpP58",
        "outputId": "ee77b05d-1dd2-4667-a693-c80c4405b0f3"
      },
      "source": [
        "# For sub, we need to input a string as a replacement for the matches.\n",
        "# Let's use \"PERCENTAGE\" as the replacement.\n",
        "x = re.sub(pattern, \"PERCENTAGE\", text)\n",
        "print(x)"
      ],
      "execution_count": null,
      "outputs": [
        {
          "output_type": "stream",
          "name": "stdout",
          "text": [
            "Monthly GDP grew by PERCENTAGE in June 2020 as lockdown measures eased, following upwardly revised growth of PERCENTAGE in May and a record fall of PERCENTAGE in April 2020.\n"
          ]
        }
      ]
    },
    {
      "cell_type": "markdown",
      "metadata": {
        "id": "AXYcUsgCpxrD"
      },
      "source": [
        "### split function\n"
      ]
    },
    {
      "cell_type": "code",
      "metadata": {
        "colab": {
          "base_uri": "https://localhost:8080/"
        },
        "id": "tFhQEQu4pwxC",
        "outputId": "a0c3ab92-3fde-4f2a-d9d0-acc70f883b0a"
      },
      "source": [
        "x = re.split(pattern, text)\n",
        "print(x)"
      ],
      "execution_count": null,
      "outputs": [
        {
          "output_type": "stream",
          "name": "stdout",
          "text": [
            "['Monthly GDP grew by ', ' in June 2020 as lockdown measures eased, following upwardly revised growth of ', ' in May and a record fall of ', ' in April 2020.']\n"
          ]
        }
      ]
    },
    {
      "cell_type": "markdown",
      "metadata": {
        "id": "d_jClj88TBsh"
      },
      "source": [
        "<b>Exercise</b> <br>\n",
        "Remove links in the following tweets using regular expressions."
      ]
    },
    {
      "cell_type": "code",
      "metadata": {
        "id": "DzRUEZoVTNZ6"
      },
      "source": [
        "tweets = [\"This is a much better tool than some I have come across http://www.tweepular.com\",\n",
        "          \"says Finally, Im home.  http://plurk.com/p/rr121\",\n",
        "          \"http://twitpic.com/66xlm -  hate when my PARKED car gets hit\",\n",
        "          \"I want it BACK NOW!: http://bit.ly/PP1WZ\",\n",
        "          \"https://t.co/OAsMV2N3oZ HALFTIME WATCH\"]"
      ],
      "execution_count": null,
      "outputs": []
    }
  ]
}